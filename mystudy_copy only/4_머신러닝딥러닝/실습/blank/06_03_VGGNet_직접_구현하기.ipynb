{
  "cells": [
    {
      "attachments": {},
      "cell_type": "markdown",
      "metadata": {
        "id": "hcDpkPWlgLTM"
      },
      "source": [
        "### CUDA 버전 확인하기\n",
        "\n",
        "- !nvidia-smi\n",
        "- !nvcc --version\n",
        "\n",
        "둘의 차이점은\n",
        "nvidia-smi는 해당 장치에서 설치 가능한 가장 높은 버전을 보여주고,\n",
        "nvcc --version은 현재 설치된 cuda 버전을 보여줌\n",
        "\n",
        "출처 : https://stackoverflow.com/questions/9727688/how-to-get-the-cuda-version"
      ]
    },
    {
      "cell_type": "code",
      "execution_count": null,
      "metadata": {
        "id": "xBjhMOvSgAZH"
      },
      "outputs": [],
      "source": [
        "gpu_info = !nvcc --version"
      ]
    },
    {
      "cell_type": "code",
      "execution_count": null,
      "metadata": {
        "colab": {
          "base_uri": "https://localhost:8080/"
        },
        "id": "Kxr_SAY-zRfH",
        "outputId": "a6db08c0-2067-4544-a9e2-c49714bf1e68"
      },
      "outputs": [],
      "source": [
        "gpu_info = '\\n'.join(gpu_info)\n",
        "print(gpu_info)"
      ]
    },
    {
      "cell_type": "code",
      "execution_count": null,
      "metadata": {
        "colab": {
          "base_uri": "https://localhost:8080/"
        },
        "id": "ttqUGq2AgKk7",
        "outputId": "1423e4a2-6a3b-412f-ad79-d5f499bad48c"
      },
      "outputs": [],
      "source": [
        "!nvidia-smi"
      ]
    },
    {
      "cell_type": "code",
      "execution_count": null,
      "metadata": {
        "colab": {
          "base_uri": "https://localhost:8080/"
        },
        "id": "epE_X6qbyoQ0",
        "outputId": "99452c91-06a6-4929-d8f2-852811c4de78"
      },
      "outputs": [],
      "source": [
        "# PyTorch 2.x 버전 설치\n",
        "try:\n",
        "    # 기본적으로 https://pytorch.kr/get-started/locally/ 에서\n",
        "    # cuda 버전과 패키지매니저에 맞는 설치 명령어를 확인 가능\n",
        "    # %pip install torch torchvision torchaudio --index-url https://download.pytorch.org/whl/cu118\n",
        "    import torch\n",
        "    print(torch.__version__)\n",
        "except:\n",
        "    pass"
      ]
    },
    {
      "attachments": {},
      "cell_type": "markdown",
      "metadata": {
        "id": "dwr6-f65iUA_"
      },
      "source": [
        "----------------------------------------------------------\n",
        "\n",
        "# VGGNet 직접 구현하기"
      ]
    },
    {
      "cell_type": "code",
      "execution_count": null,
      "metadata": {
        "id": "Cxz1VK5-iQCJ"
      },
      "outputs": [],
      "source": [
        "# pytorch에서 사용할 함수들 호출하기\n",
        "import torch.nn as nn\n",
        "import torch.nn.functional as F\n",
        "import torch.optim as optim\n",
        "from torchvision import datasets, transforms\n",
        "from torch.optim.lr_scheduler import StepLR"
      ]
    },
    {
      "cell_type": "code",
      "execution_count": null,
      "metadata": {
        "colab": {
          "base_uri": "https://localhost:8080/"
        },
        "id": "HD6OWIBdzYIJ",
        "outputId": "2181273c-a6a2-46e1-9b6b-3afacd627e1b"
      },
      "outputs": [],
      "source": [
        "# 데이터가 상당히 크기 때문에 시간이 좀 소요됨\n",
        "transform = transforms.Compose([\n",
        "    transforms.Resize(72),\n",
        "    transforms.RandomCrop(56),\n",
        "    transforms.ToTensor(),\n",
        "    transforms.Normalize((0.5, 0.5, 0.5 ), (0.5, 0.5, 0.5 )),\n",
        "])\n",
        "\n",
        "train_dataset = datasets.STL10(root='./data', split='train', download=True, transform=transform)\n",
        "# train_dataset = datasets.MNIST('./data', train=True, download=True, transform=transform)\n",
        "train_loader = torch.utils.data.DataLoader(train_dataset, batch_size=256, shuffle=True)\n",
        "\n",
        "test_dataset = datasets.STL10(root='./data', split='test', download=True, transform=transform)\n",
        "# test_dataset = datasets.MNIST('./data', train=False, download=True, transform=transform)\n",
        "test_loader = torch.utils.data.DataLoader(test_dataset, batch_size=256, shuffle=False)"
      ]
    },
    {
      "cell_type": "code",
      "execution_count": null,
      "metadata": {
        "id": "kSzu-cbjzir3"
      },
      "outputs": [],
      "source": [
        "class VGGNet11(nn.Module):\n",
        "\n",
        "    def __init__(self, num_classes=10):\n",
        "        super(VGGNet11, self).__init__()\n",
        "        self.convnet = nn.Sequential(\n",
        "            # 여기에 CNN 모델을 구현해주세요.\n",
        "\n",
        "        )\n",
        "\n",
        "        self.fclayer = nn.Sequential(\n",
        "            # 여기에 FC 모델을 구현해주세요.\n",
        "            nn.Linear(512, num_classes)\n",
        "        )\n",
        "\n",
        "    def forward(self, x):\n",
        "        x = self.convnet(x)\n",
        "        x = torch.flatten(x, 1)\n",
        "        output = self.fclayer(x)\n",
        "        return output"
      ]
    },
    {
      "cell_type": "code",
      "execution_count": null,
      "metadata": {
        "id": "JemPQZpt2rx6"
      },
      "outputs": [],
      "source": [
        "model = VGGNet11(num_classes=10)"
      ]
    },
    {
      "cell_type": "code",
      "execution_count": null,
      "metadata": {
        "id": "cA6zUQHj27kU"
      },
      "outputs": [],
      "source": [
        "# 학습을 위한 설정\n",
        "device = torch.device(\"cuda\") if torch.cuda.is_available() else torch.device(\"cpu\")\n",
        "model.to(device)\n",
        "\n",
        "criterion = nn.CrossEntropyLoss().cuda()\n",
        "optimizer = optim.Adam(model.parameters(),lr=1e-5)\n",
        "scheduler = StepLR(optimizer, step_size=30, gamma=0.1)"
      ]
    },
    {
      "cell_type": "code",
      "execution_count": null,
      "metadata": {
        "colab": {
          "base_uri": "https://localhost:8080/"
        },
        "id": "bmw2gd4c2t1D",
        "outputId": "85fa24fa-8da2-4272-b881-004d2ff222d2"
      },
      "outputs": [],
      "source": [
        "# 모델 학습\n",
        "epochs = 40\n",
        "dry_run = False # 1 배치만 훈련\n",
        "\n",
        "for epoch in range(1, epochs+1):\n",
        "    # 학습\n",
        "    model.train()\n",
        "    for batch_idx, (data, target) in enumerate(train_loader):\n",
        "        data, target = data.to(device), target.to(device)\n",
        "        optimizer.zero_grad()\n",
        "        output = model(data)\n",
        "        loss = criterion(output, target)\n",
        "        loss.backward()\n",
        "        optimizer.step()\n",
        "        if batch_idx % 10 == 0:\n",
        "            print('Train Epoch: {} [{}/{} ({:.0f}%)]\\tLoss: {:.6f}'.format(\n",
        "                epoch, batch_idx * len(data), len(train_loader.dataset),\n",
        "                100. * batch_idx / len(train_loader), loss.detach().cpu().item()))\n",
        "            if dry_run:\n",
        "                break\n",
        "\n",
        "    # 테스트\n",
        "    model.eval()\n",
        "    test_loss = 0\n",
        "    correct = 0\n",
        "\n",
        "    for data, target in test_loader:\n",
        "        data, target = data.to(device), target.to(device)\n",
        "        with torch.no_grad():\n",
        "            output = model(data)\n",
        "        test_loss += criterion(output, target).detach().cpu().item()\n",
        "        pred = output.argmax(dim=1, keepdim=True)  # get the index of the max log-probability\n",
        "        correct += pred.eq(target.view_as(pred)).sum().item()\n",
        "\n",
        "    test_loss /= len(test_loader.dataset)\n",
        "\n",
        "    print('\\nTest set: Average loss: {:.4f}, Accuracy: {}/{} ({:.0f}%)\\n'.format(\n",
        "        test_loss, correct, len(test_loader.dataset),\n",
        "        100. * correct / len(test_loader.dataset)))\n",
        "\n",
        "    scheduler.step()\n"
      ]
    },
    {
      "cell_type": "code",
      "execution_count": null,
      "metadata": {
        "id": "EItCxBNK4vNX"
      },
      "outputs": [],
      "source": [
        "for name, param in model.named_parameters():\n",
        "    print(name)\n",
        "    print(param)\n",
        "    break"
      ]
    },
    {
      "cell_type": "code",
      "execution_count": null,
      "metadata": {
        "id": "h-yoBT2_WLsO"
      },
      "outputs": [],
      "source": []
    }
  ],
  "metadata": {
    "accelerator": "GPU",
    "colab": {
      "machine_shape": "hm",
      "provenance": []
    },
    "kernelspec": {
      "display_name": "Python 3",
      "name": "python3"
    }
  },
  "nbformat": 4,
  "nbformat_minor": 0
}
