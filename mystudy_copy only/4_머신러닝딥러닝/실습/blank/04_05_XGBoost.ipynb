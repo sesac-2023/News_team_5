{
  "cells": [
    {
      "cell_type": "code",
      "execution_count": null,
      "metadata": {
        "id": "nUEyOccyyuXA"
      },
      "outputs": [],
      "source": [
        "# Colab 한글 깨짐 해결 위한 폰트 설치\n",
        "!sudo apt-get install -y fonts-nanum\n",
        "!sudo fc-cache -fv\n",
        "!rm ~/.cache/matplotlib -rf\n",
        "\n",
        "# 런타임 재시작 !"
      ]
    },
    {
      "cell_type": "code",
      "execution_count": null,
      "metadata": {
        "id": "hQGrMBbGIw5M"
      },
      "outputs": [],
      "source": [
        "# matplotlib 설정\n",
        "import matplotlib.pyplot as plt\n",
        "%matplotlib inline\n",
        "plt.rc('font', family='NanumBarunGothic')\n",
        "plt.rcParams['axes.unicode_minus'] = False\n",
        "\n",
        "import warnings\n",
        "warnings.filterwarnings('ignore')\n",
        "\n",
        "import numpy as np"
      ]
    },
    {
      "attachments": {},
      "cell_type": "markdown",
      "metadata": {
        "id": "f2PoUumLIw5T"
      },
      "source": [
        "# XGBoost"
      ]
    },
    {
      "attachments": {},
      "cell_type": "markdown",
      "metadata": {
        "id": "n4fyRDy2Iw5U"
      },
      "source": [
        "- xgboost는 사이킷런에서 제공하지 않기 때문에 별도의 설치과정이 필요하다.\n",
        "- https://xgboost.readthedocs.io/en/latest/build.html (공식 문서 영문)를 참고하여 설치"
      ]
    },
    {
      "attachments": {},
      "cell_type": "markdown",
      "metadata": {
        "id": "pRmWKpVCIw5X"
      },
      "source": [
        "- XGBoost는 GBM(Gradient Boosting)의 결정 트리를 구성할 때 병렬 처리를 사용하여, 수행시간을 GBM에 비해 훨씬 단축시켰다."
      ]
    },
    {
      "cell_type": "code",
      "execution_count": null,
      "metadata": {
        "id": "5wfifXe7Iw5a"
      },
      "outputs": [],
      "source": [
        "import xgboost as xgb\n",
        "\n",
        "model = xgb.XGBClassifier()"
      ]
    },
    {
      "attachments": {},
      "cell_type": "markdown",
      "metadata": {
        "id": "9tOLZAh0Iw5d"
      },
      "source": [
        "### XGboost의 파라미터\n",
        "- XGboost의 경우에는 파라미터를 3개의 범주로 나눈다. 일반적인 파라미터(General parameters), 부스터 파라미터(Booster parameters), 학습 과정 파라미터(Learning Task parameters)로 구성 되어있다."
      ]
    },
    {
      "attachments": {},
      "cell_type": "markdown",
      "metadata": {
        "id": "T4cMk_8TIw5e"
      },
      "source": [
        "#### General parameters\n",
        "- booster : 어떤 부스터 구조를 쓸 것인지 정하는 파라미터이다. gbtree(결정트리), gblinear(선형모델), dart(Drop out Regression Trees)가 있고 기본값은 'gbtree'이다, gbtree의 성능이 제일 낫다.\n",
        "- n_jobs : xgboost를 실행시 병렬처리에 사용되는 코어 수, 따로 값을 주지 않으면 자동적으로 코어를 탐지하여 사용.\n",
        "- num_feature : 특성의 수를 정해줘야 하는 경우에 사용."
      ]
    },
    {
      "attachments": {},
      "cell_type": "markdown",
      "metadata": {
        "id": "fkyp8W6uIw5f"
      },
      "source": [
        "#### Booster parameters\n",
        "- learning_rate : 가중치를 정해주는 파라미터이다.\n",
        "- gamma : 트리가 분할을 할 때 필요한 최소 손실 감소(Minimum Loss reduction)를 지정해준다, 값이 커지면 트리의 깊이가 줄어들어 보수적인 모델이 된다.\n",
        "- max_depth : 트리의 깊이를 정해주는 파라미터\n",
        "- reg_lambda : L2 norm. 값이 커질수록 모델이 보수적으로 변한다.\n",
        "- reg_alpha : L1 norm. 값이 커질수록 모델이 보수적으로 변한다."
      ]
    },
    {
      "attachments": {},
      "cell_type": "markdown",
      "metadata": {
        "id": "oVmK87TUIw5g"
      },
      "source": [
        "#### Learning Task parameters\n",
        "- objective : 목적함수를 정해주는 파라미터이다.\n",
        "    - binary:logistic는 이진분류, multi:softmax는 softmax는 다중 클래스 분류이다. 이 외에도 multi:softprob , rank:map 등 다양한 값들이 존재한다.\n",
        "- eval_metric : 모델의 평가 함수를 설정하는 파라미터로 회귀분석이면 'rmse', 분류 문제에는 'error'를 기본값으로 사용한다, objective에 따라 기본값이 설정되어 있다.\n",
        "    - rmse(root mean square error), mae(mean absolute error), error(Binary classification error rate) 등 여러 값들이 존재한다."
      ]
    },
    {
      "cell_type": "code",
      "execution_count": null,
      "metadata": {
        "id": "z80iOkUpIw5h"
      },
      "outputs": [],
      "source": [
        "from sklearn.datasets import load_breast_cancer\n",
        "from sklearn.model_selection import train_test_split\n",
        "\n",
        "cancer = load_breast_cancer()\n",
        "\n",
        "X_train, X_test, y_train, y_test = train_test_split(cancer.data, cancer.target,\n",
        "                                                   test_size=0.3, shuffle = True)"
      ]
    },
    {
      "cell_type": "code",
      "execution_count": null,
      "metadata": {
        "id": "6Kt_XUjPIw5k"
      },
      "outputs": [],
      "source": [
        "xgb_model = xgb.XGBClassifier(booster = 'gbtree',\n",
        "                             learning_rate = 0.1,\n",
        "                             max_depth=1).fit(X_train, y_train)"
      ]
    },
    {
      "cell_type": "code",
      "execution_count": null,
      "metadata": {
        "colab": {
          "base_uri": "https://localhost:8080/",
          "height": 248
        },
        "id": "-48ic6DuIw5n",
        "outputId": "397abeb4-4e6f-4a59-849e-8deabfbcacdb"
      },
      "outputs": [],
      "source": [
        "xgb_model"
      ]
    },
    {
      "attachments": {},
      "cell_type": "markdown",
      "metadata": {
        "id": "6Zi9g2MvIw5r"
      },
      "source": [
        "- 직접 만든 모델의 파라미터 설정을 확인할 수 있다.\n",
        "- 유방암 데이터의 y값은 0과 1로 되어있어 objective가 binary:logist로 자동으로 설정되어 있는 것을 볼 수 있다."
      ]
    },
    {
      "cell_type": "code",
      "execution_count": null,
      "metadata": {
        "colab": {
          "base_uri": "https://localhost:8080/"
        },
        "id": "df_YSdkdIw5s",
        "outputId": "728fe44f-efbe-46f8-d56e-71c95c92f28e"
      },
      "outputs": [],
      "source": [
        "print('train score : {}'.format(xgb_model.score(X_train, y_train)))\n",
        "print('test score : {}'.format(xgb_model.score(X_test, y_test)))"
      ]
    },
    {
      "cell_type": "code",
      "execution_count": null,
      "metadata": {
        "colab": {
          "base_uri": "https://localhost:8080/"
        },
        "id": "sVV5qcupIw5u",
        "outputId": "b9d82c9d-5ccd-41b8-e0e1-e99426f1b5bb"
      },
      "outputs": [],
      "source": [
        "xgb_model.predict(X_test)"
      ]
    },
    {
      "cell_type": "code",
      "execution_count": null,
      "metadata": {
        "colab": {
          "base_uri": "https://localhost:8080/"
        },
        "id": "fxR_qi2wIw5w",
        "outputId": "27b399ad-d0b7-4bae-b667-2cbdfc7c3efe"
      },
      "outputs": [],
      "source": [
        "xgb_model.predict_proba(X_test)"
      ]
    },
    {
      "cell_type": "code",
      "execution_count": null,
      "metadata": {
        "colab": {
          "base_uri": "https://localhost:8080/",
          "height": 486
        },
        "id": "zGP0KNfYIw5y",
        "outputId": "cf3535b0-91d6-4370-b12d-4e1a3993bb94"
      },
      "outputs": [],
      "source": [
        "from xgboost import plot_importance\n",
        "fig, ax = plt.subplots(figsize = (10, 5))\n",
        "plot_importance(xgb_model, ax = ax)\n",
        "plt.show()"
      ]
    },
    {
      "attachments": {},
      "cell_type": "markdown",
      "metadata": {
        "id": "8fLhLC1jIw50"
      },
      "source": [
        "- xgboost의 plot_importance로 모델이 어떤 특성에 의존하고 있는지를 확인할 수 있다 또한 직접 만든 데이터의 경우 특성들이 유효한지 확인해 볼 수도 있다."
      ]
    },
    {
      "cell_type": "code",
      "execution_count": null,
      "metadata": {
        "colab": {
          "base_uri": "https://localhost:8080/",
          "height": 494
        },
        "id": "87HX6B7hIw51",
        "outputId": "b7abd319-4988-420b-e2aa-a440ac981e23",
        "scrolled": true
      },
      "outputs": [],
      "source": [
        "from xgboost import plot_tree\n",
        "fig, ax = plt.subplots(figsize = (15, 10))\n",
        "plot_tree(xgb_model, ax = ax)\n",
        "plt.show()"
      ]
    },
    {
      "attachments": {},
      "cell_type": "markdown",
      "metadata": {
        "id": "zq7FruhhIw53"
      },
      "source": [
        "- plot_tree를 이용해서 트리를 시각화할 수 있다."
      ]
    },
    {
      "cell_type": "code",
      "execution_count": null,
      "metadata": {
        "id": "XjJUFNqhIw54"
      },
      "outputs": [],
      "source": [
        "from sklearn.datasets import load_wine\n",
        "\n",
        "wine = load_wine()\n",
        "\n",
        "X_train, X_test, y_train, y_test = train_test_split(wine.data, wine.target,\n",
        "                                                   test_size = 0.3, shuffle = True)"
      ]
    },
    {
      "cell_type": "code",
      "execution_count": null,
      "metadata": {
        "id": "HwzyBwMsIw5-"
      },
      "outputs": [],
      "source": [
        "xgb_model = xgb.XGBClassifier(booster = 'gbtree',\n",
        "                             learning_rate = 0.1,\n",
        "                             max_depth=1,\n",
        "                             n_estimators=10).fit(X_train, y_train)"
      ]
    },
    {
      "cell_type": "code",
      "execution_count": null,
      "metadata": {
        "colab": {
          "base_uri": "https://localhost:8080/",
          "height": 248
        },
        "id": "YkdMxfFaIw6A",
        "outputId": "52f16322-05f0-46e4-e2cf-7398e67a2030",
        "scrolled": true
      },
      "outputs": [],
      "source": [
        "xgb_model"
      ]
    },
    {
      "attachments": {},
      "cell_type": "markdown",
      "metadata": {
        "id": "AdAhgHcoIw6C"
      },
      "source": [
        "- 유방암 데이터와는 다르게 와인데이터에는 0, 1, 2의 y값을 가진다 따라서 xgboost모델은 자동적으로 objective = 'multi:softporb'으로 되어있는 것을 확인할 수 있다."
      ]
    },
    {
      "cell_type": "code",
      "execution_count": null,
      "metadata": {
        "colab": {
          "base_uri": "https://localhost:8080/"
        },
        "id": "7bMQ_zJbIw6D",
        "outputId": "fb25e71d-0178-4b8e-c04a-bdef170a3a6a"
      },
      "outputs": [],
      "source": [
        "print('train score : {}'.format(xgb_model.score(X_train, y_train)))\n",
        "print('test score : {}'.format(xgb_model.score(X_test, y_test)))"
      ]
    },
    {
      "cell_type": "code",
      "execution_count": null,
      "metadata": {
        "colab": {
          "base_uri": "https://localhost:8080/"
        },
        "id": "nofGorg5Iw6F",
        "outputId": "3bdf94aa-4077-49fe-a47c-6e19a54a5d44"
      },
      "outputs": [],
      "source": [
        "xgb_model.predict(X_test)"
      ]
    },
    {
      "cell_type": "code",
      "execution_count": null,
      "metadata": {
        "colab": {
          "base_uri": "https://localhost:8080/"
        },
        "id": "LfSNyFUaIw6H",
        "outputId": "6b17591b-e9c5-4f57-bfdb-73ebf8d741c6",
        "scrolled": true
      },
      "outputs": [],
      "source": [
        "xgb_model.predict_proba(X_test)"
      ]
    },
    {
      "cell_type": "code",
      "execution_count": null,
      "metadata": {
        "colab": {
          "base_uri": "https://localhost:8080/",
          "height": 486
        },
        "id": "7J5si2kZIw6K",
        "outputId": "21a70bb4-9aa2-44ac-ea00-e9894dfe5d66"
      },
      "outputs": [],
      "source": [
        "fig, ax = plt.subplots(figsize = (10, 5))\n",
        "plot_importance(xgb_model, ax = ax)\n",
        "plt.show()"
      ]
    },
    {
      "attachments": {},
      "cell_type": "markdown",
      "metadata": {
        "id": "9CguhCPlIw6N"
      },
      "source": [
        "- 어떤 특성들이 유효한지 확인할 수 있다."
      ]
    },
    {
      "cell_type": "code",
      "execution_count": null,
      "metadata": {
        "colab": {
          "base_uri": "https://localhost:8080/",
          "height": 481
        },
        "id": "lTO0iHbzIw6P",
        "outputId": "ce99c76d-5509-47b6-c9f8-7bfaa331a682"
      },
      "outputs": [],
      "source": [
        "fig, ax = plt.subplots(figsize=(15, 10))\n",
        "plot_tree(xgb_model, ax=ax)\n",
        "plt.show()"
      ]
    },
    {
      "cell_type": "code",
      "execution_count": null,
      "metadata": {
        "id": "xSUTSJifIw6R"
      },
      "outputs": [],
      "source": []
    }
  ],
  "metadata": {
    "colab": {
      "provenance": []
    },
    "kernelspec": {
      "display_name": "Python 3",
      "language": "python",
      "name": "python3"
    },
    "language_info": {
      "codemirror_mode": {
        "name": "ipython",
        "version": 3
      },
      "file_extension": ".py",
      "mimetype": "text/x-python",
      "name": "python",
      "nbconvert_exporter": "python",
      "pygments_lexer": "ipython3",
      "version": "3.7.4"
    }
  },
  "nbformat": 4,
  "nbformat_minor": 0
}
