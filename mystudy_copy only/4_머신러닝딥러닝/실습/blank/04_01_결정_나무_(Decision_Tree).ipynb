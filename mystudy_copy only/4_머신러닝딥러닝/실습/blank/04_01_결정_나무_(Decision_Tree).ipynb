{
  "cells": [
    {
      "cell_type": "code",
      "execution_count": null,
      "metadata": {
        "id": "J0iV0AWvvLpn"
      },
      "outputs": [],
      "source": [
        "# Colab 한글 깨짐 해결 위한 폰트 설치\n",
        "!sudo apt-get install -y fonts-nanum\n",
        "!sudo fc-cache -fv\n",
        "!rm ~/.cache/matplotlib -rf\n",
        "\n",
        "# 런타임 재시작 !"
      ]
    },
    {
      "cell_type": "code",
      "execution_count": null,
      "metadata": {
        "id": "D6Gg-hGpKprB"
      },
      "outputs": [],
      "source": [
        "# matplotlib 설정\n",
        "import matplotlib.pyplot as plt\n",
        "%matplotlib inline\n",
        "plt.rc('font', family='NanumBarunGothic')\n",
        "plt.rcParams['axes.unicode_minus'] = False\n",
        "\n",
        "import warnings\n",
        "warnings.filterwarnings('ignore')\n",
        "\n",
        "import numpy as np"
      ]
    },
    {
      "attachments": {},
      "cell_type": "markdown",
      "metadata": {
        "id": "zpEIO0vjKprF"
      },
      "source": [
        "# Decision Tree"
      ]
    },
    {
      "attachments": {},
      "cell_type": "markdown",
      "metadata": {
        "id": "ohYsnnhjKprG"
      },
      "source": [
        "### Decison Tree Classifier"
      ]
    },
    {
      "cell_type": "code",
      "execution_count": null,
      "metadata": {
        "id": "WV70UHLSKprH"
      },
      "outputs": [],
      "source": [
        "from sklearn.tree import DecisionTreeClassifier\n",
        "from sklearn.datasets import load_iris\n",
        "from sklearn.model_selection import train_test_split"
      ]
    },
    {
      "cell_type": "code",
      "execution_count": null,
      "metadata": {
        "colab": {
          "base_uri": "https://localhost:8080/"
        },
        "id": "pw1TYeQCLOlP",
        "outputId": "caf1fab4-2d63-4842-f3f6-1c67fcc3b876"
      },
      "outputs": [],
      "source": [
        "iris = load_iris()\n",
        "iris.data.dtype"
      ]
    },
    {
      "cell_type": "code",
      "execution_count": null,
      "metadata": {
        "id": "-U-Fo0kUKprJ"
      },
      "outputs": [],
      "source": [
        "X_train, X_test, y_train, y_test = train_test_split(iris.data[:, :2], iris.target,\n",
        "                                                   stratify = iris.target,\n",
        "                                                   shuffle = True)\n",
        "# 시각화를 위해서 특성을 2개만 사용점에 주의하자."
      ]
    },
    {
      "cell_type": "code",
      "execution_count": null,
      "metadata": {
        "colab": {
          "base_uri": "https://localhost:8080/"
        },
        "id": "_bt8_7HXLekl",
        "outputId": "3956e4bd-ac02-470f-b839-76ad62216c0c"
      },
      "outputs": [],
      "source": [
        "X_train.shape, X_test.shape"
      ]
    },
    {
      "cell_type": "code",
      "execution_count": null,
      "metadata": {
        "colab": {
          "base_uri": "https://localhost:8080/"
        },
        "id": "W3WI9thkNq0D",
        "outputId": "c1d6f2ed-2d84-4397-8059-8cc745c54840"
      },
      "outputs": [],
      "source": [
        "iris.feature_names"
      ]
    },
    {
      "cell_type": "code",
      "execution_count": null,
      "metadata": {
        "colab": {
          "base_uri": "https://localhost:8080/",
          "height": 206
        },
        "id": "kN6F5VY3NU1C",
        "outputId": "a9a189c8-f1b9-4e11-e419-7094f8c2c453"
      },
      "outputs": [],
      "source": [
        "# feature가 어떤 것들이 있을까? (몇 개?)\n",
        "import pandas as pd\n",
        "\n",
        "X_train_df = pd.DataFrame(X_train, columns = iris.feature_names[:2])\n",
        "X_train_df.head()"
      ]
    },
    {
      "attachments": {},
      "cell_type": "markdown",
      "metadata": {
        "id": "3RGNLCk_NUjr"
      },
      "source": [
        "모델 설정"
      ]
    },
    {
      "cell_type": "code",
      "execution_count": null,
      "metadata": {
        "id": "n3eieNmBqtdU"
      },
      "outputs": [],
      "source": [
        "DecisionTreeClassifier?"
      ]
    },
    {
      "cell_type": "code",
      "execution_count": null,
      "metadata": {
        "id": "iMDkLT0TKprL"
      },
      "outputs": [],
      "source": [
        "model_dt = DecisionTreeClassifier(criterion = 'entropy', max_depth = 1,\n",
        "                                  random_state = 0).fit(X_train, y_train)"
      ]
    },
    {
      "attachments": {},
      "cell_type": "markdown",
      "metadata": {
        "id": "H5OyAgCrKprN"
      },
      "source": [
        "- criterion는 불순도를 측정하는 방법을 선택할 수 있다. 기본값으로는 'gini'를 사용하지만 'entropy'를 입력하여 'entropy'를 사용할 수 도 있다. 둘중에 어느것을 선택해서 써도 결과적으로는 큰 차이가 없다. 다만 지니가 계산이 빨라 기본으로 사용된다.\n",
        "- presort를 True로 설정하면 데이터를 미리 정렬하여 속도를 높일 수 있다. 그러나 데이터가 작을 경우에나 가능하지 데이터가 크다면 오히려 속도가 더 느려지게 된다."
      ]
    },
    {
      "attachments": {},
      "cell_type": "markdown",
      "metadata": {
        "id": "w8YOqfmNKprO"
      },
      "source": [
        "#### 복잡도를 제어하는 파라미터"
      ]
    },
    {
      "attachments": {},
      "cell_type": "markdown",
      "metadata": {
        "id": "laLPt5yPKprO"
      },
      "source": [
        "- Decision Tree에서는 일반적으로 훈련을 할 떄 제약사항이 없다. 그래서 훈련을 시키면 훈련 데이터에 아주 가깝게 맞추려고 한다. 그러면 자연스럽게 모델은 과적합이 된다. \n",
        "그래서 트리가 깊어지는 것을 막기 위한 가지치기 작업들이 필요한데 사이킷런에는 과적합을 방지하기위한 파라미터들이 존재한다.\n",
        "\n",
        "  1. max_depth는 트리의 최대 깊이를 제어할 수 있는 명령어다.\n",
        "  2. min_sample_split은 분할되기 위해 노드가 가져야할 최소 샘플 수를 지정한다. 기본값은 2\n",
        "  3. min_samples_leaf는 리프노드가 가지고 있어야할 최소 샘플 수를 지정한다. 기본값은 1\n",
        "  4. max_feature는 각 노드에서 분할시 사용할 특성의 최대 수를 지정한다.\n",
        "  5. max_leaf_node는 리프노드의 최대 수를 지정한다."
      ]
    },
    {
      "cell_type": "code",
      "execution_count": null,
      "metadata": {
        "id": "UXg_n4zKKprP"
      },
      "outputs": [],
      "source": [
        "from sklearn.tree import export_graphviz\n",
        "export_graphviz(model_dt, out_file = 'tree.dot', class_names = iris.target_names,\n",
        "               feature_names = iris.feature_names[:2], filled = True)"
      ]
    },
    {
      "attachments": {},
      "cell_type": "markdown",
      "metadata": {
        "id": "CrHmlj8xKprR"
      },
      "source": [
        "- tree모듈에 export_graphviz를 이용하여 결정트리를 시각화할 수 있다.\n",
        "'.dot' 형식의 파일로 그래프를 저장한다.\n",
        "class_names과 feature_names는 각각 클래스의 명과 특성들의 이름을 설정할 수 있다.\n",
        "filled를 True로 설정하면 노드의 클래스를 구분하기 위해 색이 칠해진다."
      ]
    },
    {
      "cell_type": "code",
      "execution_count": null,
      "metadata": {
        "colab": {
          "base_uri": "https://localhost:8080/",
          "height": 206
        },
        "id": "99_ZzCiXPsGQ",
        "outputId": "11e33019-2800-43ba-c195-3485d452b7f6"
      },
      "outputs": [],
      "source": [
        "X_train_df.head()"
      ]
    },
    {
      "cell_type": "code",
      "execution_count": null,
      "metadata": {
        "colab": {
          "base_uri": "https://localhost:8080/",
          "height": 281
        },
        "id": "MIgeg_MnKprR",
        "outputId": "1458f346-40d0-455a-b1cf-72b0c7faa541",
        "scrolled": true
      },
      "outputs": [],
      "source": [
        "import graphviz\n",
        "\n",
        "with open('tree.dot') as f:\n",
        "    dot_graph = f.read()\n",
        "display(graphviz.Source(dot_graph))"
      ]
    },
    {
      "cell_type": "code",
      "execution_count": null,
      "metadata": {
        "colab": {
          "base_uri": "https://localhost:8080/"
        },
        "id": "gtIXu7SJKprU",
        "outputId": "b0596112-1a73-4866-9cec-44ddc3ec1feb"
      },
      "outputs": [],
      "source": [
        "print('train score : {:.3f}'.format(model_dt.score(X_train, y_train)))\n",
        "print('test socre : {:.3f}'.format(model_dt.score(X_test, y_test)))"
      ]
    },
    {
      "attachments": {},
      "cell_type": "markdown",
      "metadata": {
        "id": "xUo4JQFxKprW"
      },
      "source": [
        "- max_depth를 1로 설정하면 위의 그림처럼 트리가 한 번 분할하게 된다. 점수도 낮은 것을 확인할 수 있다."
      ]
    },
    {
      "cell_type": "code",
      "execution_count": null,
      "metadata": {
        "id": "weidNICbKprX"
      },
      "outputs": [],
      "source": [
        "def model_border(model, X, y, contour=True):\n",
        "    xmin = X[:, 0].min()\n",
        "    xmax = X[:, 0].max()\n",
        "    ymin = X[:, 1].min()\n",
        "    ymax = X[:, 1].max()\n",
        "    xminmax = np.arange(xmin, xmax, .02)\n",
        "    yminmax = np.arange(ymin, ymax, .02)\n",
        "    X1, X2 = np.meshgrid(xminmax, yminmax)\n",
        "    X_pred = np.c_[X1.ravel(), X2.ravel()]\n",
        "    Z = model.predict(X_pred).reshape(X1.shape)\n",
        "    plt.figure(figsize = (10, 5))\n",
        "    plt.contourf(X1, X2, Z, alpha=0.3)\n",
        "    plt.plot(X[:, 0][y==0], X[:, 1][y==0], \"ro\", alpha=0.5)\n",
        "    plt.plot(X[:, 0][y==1], X[:, 1][y==1], \"bs\", alpha=0.5)\n",
        "    plt.plot(X[:, 0][y==2], X[:, 1][y==2], \"y^\", alpha=0.5)\n",
        "    plt.xlim([4.4, 7.6])\n",
        "    plt.ylim([2, 4.0])\n",
        "    plt.xlabel(\"X_sepal_length\")\n",
        "    plt.ylabel(\"X_sepal_width\")"
      ]
    },
    {
      "cell_type": "code",
      "execution_count": null,
      "metadata": {
        "colab": {
          "base_uri": "https://localhost:8080/",
          "height": 470
        },
        "id": "_yIJ7dFCKprZ",
        "outputId": "6d43dea6-8e78-43a3-c141-965a1466f4a5",
        "scrolled": true
      },
      "outputs": [],
      "source": [
        "model_border(model_dt, X_train, y_train)"
      ]
    },
    {
      "attachments": {},
      "cell_type": "markdown",
      "metadata": {
        "id": "x6SPewQqKprb"
      },
      "source": [
        "- 결정트리의 경계가 제대로 형성되지 않은 것을 볼 수 있다."
      ]
    },
    {
      "cell_type": "code",
      "execution_count": null,
      "metadata": {
        "id": "eAFIVh-9Kprb"
      },
      "outputs": [],
      "source": [
        "model_dt = DecisionTreeClassifier(criterion = 'entropy', max_depth = 6,\n",
        "                                  random_state = 0).fit(X_train, y_train)"
      ]
    },
    {
      "cell_type": "code",
      "execution_count": null,
      "metadata": {
        "id": "xiwbjvmnKpre"
      },
      "outputs": [],
      "source": [
        "from sklearn.tree import export_graphviz\n",
        "export_graphviz(model_dt, out_file = 'tree_2.dot', class_names = iris.target_names,\n",
        "               feature_names = iris.feature_names[:2], filled = True)"
      ]
    },
    {
      "cell_type": "code",
      "execution_count": null,
      "metadata": {
        "colab": {
          "base_uri": "https://localhost:8080/",
          "height": 1000
        },
        "id": "1pn-FijxKprg",
        "outputId": "200c002b-59a8-4575-bb88-20421f994862"
      },
      "outputs": [],
      "source": [
        "import graphviz\n",
        "\n",
        "with open('tree_2.dot') as f:\n",
        "    dot_graph = f.read()\n",
        "display(graphviz.Source(dot_graph))"
      ]
    },
    {
      "cell_type": "code",
      "execution_count": null,
      "metadata": {
        "colab": {
          "base_uri": "https://localhost:8080/"
        },
        "id": "F4xhttEPKpri",
        "outputId": "8b97b4ad-dc13-4850-d074-9359dcca1604"
      },
      "outputs": [],
      "source": [
        "print('train score : {:.3f}'.format(model_dt.score(X_train, y_train)))\n",
        "print('test socre : {:.3f}'.format(model_dt.score(X_test, y_test)))"
      ]
    },
    {
      "attachments": {},
      "cell_type": "markdown",
      "metadata": {
        "id": "miTPEBs2Kprk"
      },
      "source": [
        "- max_depth를 6로 설정한 결과이다. 이전의 모델보다 깊게 설정한 결과 과적합이 발생했다."
      ]
    },
    {
      "cell_type": "code",
      "execution_count": null,
      "metadata": {
        "colab": {
          "base_uri": "https://localhost:8080/",
          "height": 470
        },
        "id": "TvgiJawIKprk",
        "outputId": "5456a647-3ca5-43be-e4b5-9999d5058395"
      },
      "outputs": [],
      "source": [
        "model_border(model_dt, X_train, y_train)"
      ]
    },
    {
      "attachments": {},
      "cell_type": "markdown",
      "metadata": {
        "id": "CLOAedrHKprm"
      },
      "source": [
        "- 이전의 모델과 달리 max_depth를 6로 설정하였더니 결정트리의 경계가 더 많이 생성된 것을 볼 수 있다."
      ]
    },
    {
      "cell_type": "code",
      "execution_count": null,
      "metadata": {
        "id": "UBI8_n75Kprn"
      },
      "outputs": [],
      "source": [
        "# 특성의 중요도를 살펴보기 위해 모든 특성을 사용했다.\n",
        "X_train, X_test, y_train, y_test = train_test_split(iris.data, iris.target,\n",
        "                                                   stratify = iris.target,\n",
        "                                                   shuffle = True)\n",
        "model_dt = DecisionTreeClassifier(criterion = 'entropy', max_depth = 6,\n",
        "                                  random_state = 0).fit(X_train, y_train)"
      ]
    },
    {
      "cell_type": "code",
      "execution_count": null,
      "metadata": {
        "colab": {
          "base_uri": "https://localhost:8080/"
        },
        "id": "cE5RQAkhKpro",
        "outputId": "bf5ea033-ecb1-4c0f-973a-12e1b5c760f6"
      },
      "outputs": [],
      "source": [
        "model_dt.feature_importances_"
      ]
    },
    {
      "attachments": {},
      "cell_type": "markdown",
      "metadata": {
        "id": "hPWXB5xXKprq"
      },
      "source": [
        "feature_importances_는 트리를 만들떄 특성이 얼마나 중요한지를 평가할 수 있는 명렁어이다. 값은 0과 1사이의 숫자로 나타나며 0은 전혀 사용되지 않았음을 나타낸다."
      ]
    },
    {
      "cell_type": "code",
      "execution_count": null,
      "metadata": {
        "colab": {
          "base_uri": "https://localhost:8080/",
          "height": 445
        },
        "id": "cG9HaGI-Kprr",
        "outputId": "a8f50ded-7da6-4433-8fab-a6d603b1225b"
      },
      "outputs": [],
      "source": [
        "# 중요도를 그래프로 그려보자.\n",
        "plt.figure(figsize = (10,5))\n",
        "plt.bar(np.arange(iris.data.shape[1]), model_dt.feature_importances_)\n",
        "plt.xticks(np.arange(iris.data.shape[1]), iris.feature_names)\n",
        "plt.xlim(-1, iris.data.shape[1])\n",
        "plt.show()"
      ]
    },
    {
      "attachments": {},
      "cell_type": "markdown",
      "metadata": {
        "id": "SBT4dSgjKprw"
      },
      "source": [
        "- sepal length특성은 트리 모델에서 전혀 사용되지 않았으며 가장 중요한 특성은 petal width이다."
      ]
    },
    {
      "attachments": {},
      "cell_type": "markdown",
      "metadata": {
        "id": "lFKHfQv8Kprw"
      },
      "source": [
        "### Decision Tree Regressor"
      ]
    },
    {
      "cell_type": "code",
      "execution_count": null,
      "metadata": {
        "colab": {
          "base_uri": "https://localhost:8080/",
          "height": 1000
        },
        "id": "KPlpotFJKprx",
        "outputId": "ab246acb-b36c-4d5a-82f8-0d0ea3bf4348"
      },
      "outputs": [],
      "source": [
        "from sklearn.tree import DecisionTreeRegressor\n",
        "from sklearn.model_selection import train_test_split\n",
        "from sklearn.datasets import load_boston"
      ]
    },
    {
      "cell_type": "code",
      "execution_count": null,
      "metadata": {
        "id": "AFsLP-Bt6xes"
      },
      "outputs": [],
      "source": [
        "DecisionTreeRegressor?"
      ]
    },
    {
      "cell_type": "code",
      "execution_count": null,
      "metadata": {
        "id": "i6Gc50xPKprz"
      },
      "outputs": [],
      "source": [
        "# boston = load_boston()\n",
        "import pandas as pd\n",
        "import numpy as np\n",
        "\n",
        "data_url = \"http://lib.stat.cmu.edu/datasets/boston\"\n",
        "raw_df = pd.read_csv(data_url, sep=\"\\s+\", skiprows=22, header=None)\n",
        "data = np.hstack([raw_df.values[::2, :], raw_df.values[1::2, :2]])\n",
        "target = raw_df.values[1::2, 2]\n",
        "\n",
        "X_train, X_test, y_train, y_test = train_test_split(data, target,\n",
        "                                                   test_size = 0.2, shuffle = True)"
      ]
    },
    {
      "cell_type": "code",
      "execution_count": null,
      "metadata": {
        "id": "iGNz0PEpKpr1"
      },
      "outputs": [],
      "source": [
        "tree_reg = DecisionTreeRegressor(criterion = 'friedman_mse',max_depth = 1,\n",
        "                                random_state = 0).fit(X_train, y_train)"
      ]
    },
    {
      "attachments": {},
      "cell_type": "markdown",
      "metadata": {
        "id": "xhLSH_B9Kpr3"
      },
      "source": [
        "- DecisionTreeClassifier와 똑같은 파라미터들을 가지고 있다.\n",
        "- criterion의 경우 결정트리 분류모델과는 다른 값들을 가진다. 기본값으로는 평균 제곱 오차인 'squared_error'로 설정되어 있다. 그 외에 프리드먼 개선 점수와 평균 제곱 오차를 사용하는 'friedman_mse'와 터미널 노드의 중간값을 사용하여 L1 loss를 최소화하는 'absolute_error'가 있다.\n",
        "\n",
        "* 터미널 노드는 가지가 밑으로 더이상 생성되지 않는 노드를 말한다. leaf node라고도 한다."
      ]
    },
    {
      "cell_type": "code",
      "execution_count": null,
      "metadata": {
        "id": "M5A2-MFpKpr3"
      },
      "outputs": [],
      "source": [
        "from sklearn.tree import export_graphviz\n",
        "export_graphviz(tree_reg, out_file = 'tree_reg.dot', #feature_names = boston.feature_names\n",
        "                filled = True)"
      ]
    },
    {
      "cell_type": "code",
      "execution_count": null,
      "metadata": {
        "colab": {
          "base_uri": "https://localhost:8080/",
          "height": 241
        },
        "id": "e-qVw7uwKpr5",
        "outputId": "7fee0351-8a11-4e14-adf7-dfb834685093"
      },
      "outputs": [],
      "source": [
        "import graphviz\n",
        "\n",
        "with open('tree_reg.dot') as f:\n",
        "    dot_graph = f.read()\n",
        "display(graphviz.Source(dot_graph))"
      ]
    },
    {
      "cell_type": "code",
      "execution_count": null,
      "metadata": {
        "colab": {
          "base_uri": "https://localhost:8080/"
        },
        "id": "6n6vnCPAKpr7",
        "outputId": "a0d3c3e2-2321-475c-8596-8b83b3ee72dd"
      },
      "outputs": [],
      "source": [
        "print(\"train score : {:.3f}\".format(tree_reg.score(X_train, y_train)))\n",
        "print(\"test score : {:.3f}\".format(tree_reg.score(X_test, y_test)))"
      ]
    },
    {
      "cell_type": "code",
      "execution_count": null,
      "metadata": {
        "id": "TXuXuGbDKpr9"
      },
      "outputs": [],
      "source": [
        "tree_reg = DecisionTreeRegressor(criterion = 'absolute_error',max_depth = 4,\n",
        "                                random_state = 0).fit(X_train, y_train)"
      ]
    },
    {
      "cell_type": "code",
      "execution_count": null,
      "metadata": {
        "id": "Od92h4AFKpr_"
      },
      "outputs": [],
      "source": [
        "from sklearn.tree import export_graphviz\n",
        "export_graphviz(tree_reg, out_file = 'tree_reg1.dot', #feature_names = boston.feature_names\n",
        "                filled = True)"
      ]
    },
    {
      "cell_type": "code",
      "execution_count": null,
      "metadata": {
        "colab": {
          "base_uri": "https://localhost:8080/",
          "height": 677
        },
        "id": "eMRcGMFwKpsA",
        "outputId": "c65f1c50-cefd-4404-e0cf-32a7bee0cc4c"
      },
      "outputs": [],
      "source": [
        "import graphviz\n",
        "\n",
        "with open('tree_reg1.dot') as f:\n",
        "    dot_graph = f.read()\n",
        "display(graphviz.Source(dot_graph))"
      ]
    },
    {
      "cell_type": "code",
      "execution_count": null,
      "metadata": {
        "colab": {
          "base_uri": "https://localhost:8080/"
        },
        "id": "MthhdR9zKpsC",
        "outputId": "fe3ce50a-5dc2-45d1-f622-98a319d78785"
      },
      "outputs": [],
      "source": [
        "print(\"train score : {:.3f}\".format(tree_reg.score(X_train, y_train)))\n",
        "print(\"test score : {:.3f}\".format(tree_reg.score(X_test, y_test)))"
      ]
    },
    {
      "attachments": {},
      "cell_type": "markdown",
      "metadata": {
        "id": "tE8Ed4vwKpsE"
      },
      "source": [
        "- 결정트리는 가치지기를 사용함에도 과적합이 되는 경향이 있어 일반화 성능이 좋지않다. 이런 문제에대한 대안으로 앙상블 방법이 있다."
      ]
    },
    {
      "cell_type": "code",
      "execution_count": null,
      "metadata": {
        "id": "zxA3hWdJR4cX"
      },
      "outputs": [],
      "source": []
    }
  ],
  "metadata": {
    "colab": {
      "provenance": []
    },
    "kernelspec": {
      "display_name": "Python 3",
      "language": "python",
      "name": "python3"
    },
    "language_info": {
      "codemirror_mode": {
        "name": "ipython",
        "version": 3
      },
      "file_extension": ".py",
      "mimetype": "text/x-python",
      "name": "python",
      "nbconvert_exporter": "python",
      "pygments_lexer": "ipython3",
      "version": "3.7.4"
    }
  },
  "nbformat": 4,
  "nbformat_minor": 0
}
