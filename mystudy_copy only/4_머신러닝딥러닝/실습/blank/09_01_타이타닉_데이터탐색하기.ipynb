{
  "cells": [
    {
      "cell_type": "code",
      "execution_count": null,
      "metadata": {
        "_cell_guid": "b1076dfc-b9ad-4769-8c92-a6c4dae69d19",
        "_uuid": "8f2839f25d086af736a60e9eeb907d3b93b6e0e5",
        "id": "l9Th7R4mGko8",
        "trusted": true
      },
      "outputs": [],
      "source": [
        "import numpy as np\n",
        "import pandas as pd"
      ]
    },
    {
      "cell_type": "code",
      "execution_count": null,
      "metadata": {
        "id": "yFoQR7NeGkpE",
        "trusted": true
      },
      "outputs": [],
      "source": [
        "from matplotlib import pyplot as plt\n",
        "import seaborn as sns"
      ]
    },
    {
      "cell_type": "code",
      "execution_count": null,
      "metadata": {
        "colab": {
          "base_uri": "https://localhost:8080/",
          "height": 206
        },
        "id": "OO0GvHpHG1v7",
        "outputId": "d3433b81-912f-424b-d0d0-4bf51e0d1521"
      },
      "outputs": [],
      "source": [
        "df_titanic = pd.read_csv(\"https://raw.githubusercontent.com/datascienceschool/docker_rpython/master/data/titanic.csv\")\n",
        "df_titanic.tail()"
      ]
    },
    {
      "cell_type": "code",
      "execution_count": null,
      "metadata": {
        "_cell_guid": "79c7e3d0-c299-4dcb-8224-4455121ee9b0",
        "_uuid": "d629ff2d2480ee46fbb7e2d37f6b5fab8052498a",
        "colab": {
          "base_uri": "https://localhost:8080/"
        },
        "id": "RHz347CjGkpM",
        "outputId": "ce337b52-a363-465d-f5b7-e46934255a1b",
        "trusted": true
      },
      "outputs": [],
      "source": [
        "df_titanic.shape"
      ]
    },
    {
      "cell_type": "code",
      "execution_count": null,
      "metadata": {
        "colab": {
          "base_uri": "https://localhost:8080/",
          "height": 206
        },
        "id": "QzJj5nhzGkpQ",
        "outputId": "3b4164a1-59c7-4281-c031-76728fc24c4d",
        "trusted": true
      },
      "outputs": [],
      "source": [
        "df_titanic.head()"
      ]
    },
    {
      "cell_type": "code",
      "execution_count": null,
      "metadata": {
        "colab": {
          "base_uri": "https://localhost:8080/"
        },
        "id": "UhMhsIBzGkpa",
        "outputId": "1c623c7a-b7e7-40ff-f91a-e65b9840f7e4",
        "trusted": true
      },
      "outputs": [],
      "source": [
        "df_titanic.info()"
      ]
    },
    {
      "cell_type": "code",
      "execution_count": null,
      "metadata": {
        "colab": {
          "base_uri": "https://localhost:8080/",
          "height": 300
        },
        "id": "qDIoaUrhGkpj",
        "outputId": "334f93c8-1bf5-4f47-8682-d839abd77626",
        "trusted": true
      },
      "outputs": [],
      "source": [
        "df_titanic.describe()"
      ]
    },
    {
      "cell_type": "code",
      "execution_count": null,
      "metadata": {
        "colab": {
          "base_uri": "https://localhost:8080/",
          "height": 394
        },
        "id": "D03RuyhoGkpn",
        "outputId": "5ac810a9-5cfe-4bbd-dfac-79717a494fba",
        "trusted": true
      },
      "outputs": [],
      "source": [
        "df_titanic.describe(include='all')"
      ]
    },
    {
      "cell_type": "code",
      "execution_count": null,
      "metadata": {
        "colab": {
          "base_uri": "https://localhost:8080/",
          "height": 175
        },
        "id": "uHX5n7BOHOLU",
        "outputId": "3ac25810-5165-4dea-bd03-2b3559fb2f3c"
      },
      "outputs": [],
      "source": [
        "df_titanic.describe(include='O')"
      ]
    },
    {
      "attachments": {},
      "cell_type": "markdown",
      "metadata": {
        "id": "cO2xQtlVHIe7"
      },
      "source": [
        "생존율과 객실등급 간의 상관관계를 분석해보세요."
      ]
    },
    {
      "cell_type": "code",
      "execution_count": null,
      "metadata": {
        "colab": {
          "base_uri": "https://localhost:8080/",
          "height": 35
        },
        "id": "NTDaP7PpKhkc",
        "outputId": "1b20f1b4-5e69-45ff-cc40-6ae2822f2fe3"
      },
      "outputs": [],
      "source": [
        "col = list(df_titanic)\n",
        "col.pop(0)"
      ]
    },
    {
      "cell_type": "code",
      "execution_count": null,
      "metadata": {
        "id": "wD8Og0QrLMOL"
      },
      "outputs": [],
      "source": [
        "col.insert(0, col.pop())"
      ]
    },
    {
      "cell_type": "code",
      "execution_count": null,
      "metadata": {
        "colab": {
          "base_uri": "https://localhost:8080/",
          "height": 424
        },
        "id": "l_5YWuqdLDp1",
        "outputId": "4636c8f2-47e1-474e-c6fd-915a15a77c69"
      },
      "outputs": [],
      "source": [
        "df_titanic[col[:3]]"
      ]
    },
    {
      "cell_type": "code",
      "execution_count": null,
      "metadata": {
        "colab": {
          "base_uri": "https://localhost:8080/",
          "height": 206
        },
        "id": "SELy2gX-Ly8y",
        "outputId": "d0c33a57-436a-48c3-83b3-be31b60ae698"
      },
      "outputs": [],
      "source": [
        "df_titanic[:5]"
      ]
    },
    {
      "cell_type": "code",
      "execution_count": null,
      "metadata": {
        "colab": {
          "base_uri": "https://localhost:8080/",
          "height": 112
        },
        "id": "sERZ4ysFGkp0",
        "outputId": "c1ec5167-272b-4dda-8c04-bf50776206e4",
        "trusted": true
      },
      "outputs": [],
      "source": []
    },
    {
      "attachments": {},
      "cell_type": "markdown",
      "metadata": {
        "id": "Un0Myx9yHY6H"
      },
      "source": [
        "생존율과 다음 컬럼값들 간의 상관관계를 분석해보세요.\n",
        "['Pclass', 'Age', 'SibSp', 'Parch', 'Fare']"
      ]
    },
    {
      "attachments": {},
      "cell_type": "markdown",
      "metadata": {
        "id": "rHO6Y2ygHlCs"
      },
      "source": [
        "상관관계 > Table로 표현해보세요.\n"
      ]
    },
    {
      "cell_type": "code",
      "execution_count": null,
      "metadata": {
        "colab": {
          "base_uri": "https://localhost:8080/",
          "height": 238
        },
        "id": "qgd3MKTEGkp3",
        "outputId": "da6d7fad-8931-4e96-fe7e-8a5516e93997",
        "trusted": true
      },
      "outputs": [],
      "source": []
    },
    {
      "attachments": {},
      "cell_type": "markdown",
      "metadata": {
        "id": "6XBPEkoRHq_4"
      },
      "source": [
        "상관관계 > heatmap으로 표현해보세요.\n",
        "\n",
        "seaborn의 heatmap 활용\n",
        "\n",
        "- cmap: 'coolwarm' # 컬러 구성\n",
        "- annot: True # 각 셀의 값 표기\n",
        "- fmt: '.2f' # 숫자표현포맷"
      ]
    },
    {
      "cell_type": "code",
      "execution_count": null,
      "metadata": {
        "colab": {
          "base_uri": "https://localhost:8080/",
          "height": 435
        },
        "id": "K6j-Y1t-Gkp6",
        "outputId": "adfcb7a1-f9e9-4913-8594-daf322c9bfc4",
        "trusted": true
      },
      "outputs": [],
      "source": []
    },
    {
      "attachments": {},
      "cell_type": "markdown",
      "metadata": {
        "id": "P13Sw2kqHz6e"
      },
      "source": [
        "각각을 bar plot으로 시각화해보세요.\n",
        "\n",
        "검은색 bar는 오차막대(error bar) 이며 신뢰구간(confidence interval) 95%\n",
        "\n",
        "catplot활용\n",
        "- x: x축 column명\n",
        "- y: y축 column명\n",
        "- data: dataframe\n",
        "- king: 'bar'"
      ]
    },
    {
      "cell_type": "code",
      "execution_count": null,
      "metadata": {
        "colab": {
          "base_uri": "https://localhost:8080/",
          "height": 506
        },
        "id": "y8MIgvzKGkp-",
        "outputId": "d2f14616-fc29-4385-d617-185b9fd6279f"
      },
      "outputs": [],
      "source": [
        "g = sns.catplot(x='Pclass', y='Survived', data=df_titanic, kind='bar')"
      ]
    },
    {
      "cell_type": "code",
      "execution_count": null,
      "metadata": {
        "colab": {
          "base_uri": "https://localhost:8080/",
          "height": 506
        },
        "id": "BAY_FTW7GkqC",
        "outputId": "c6dbc302-62fa-420c-cfe8-542deaf27498",
        "trusted": true
      },
      "outputs": [],
      "source": [
        "g = sns.catplot(x='SibSp', y='Survived', data=df_titanic, kind='bar')"
      ]
    },
    {
      "cell_type": "code",
      "execution_count": null,
      "metadata": {
        "colab": {
          "base_uri": "https://localhost:8080/",
          "height": 506
        },
        "id": "ejYgWIKNGkqF",
        "outputId": "8c5824c9-e3a4-405e-8bd6-0898192c531f",
        "trusted": true
      },
      "outputs": [],
      "source": [
        "g = sns.catplot(x='Parch', y='Survived', data=df_titanic, kind='bar')"
      ]
    },
    {
      "attachments": {},
      "cell_type": "markdown",
      "metadata": {
        "id": "9n1_2XgfIBgo"
      },
      "source": [
        "생존자와 사망자 간의 각 나이 분포도를 히스토그램으로 시각화해보세요.\n",
        "\n",
        "- 데이터프레임 groupby\n",
        "- hist 메서드 활용, bins"
      ]
    },
    {
      "cell_type": "code",
      "execution_count": null,
      "metadata": {
        "colab": {
          "base_uri": "https://localhost:8080/",
          "height": 960
        },
        "id": "FXQEX6LnzGIV",
        "outputId": "a085cb89-1bbc-42ec-87e7-411f03ff5824"
      },
      "outputs": [],
      "source": []
    },
    {
      "cell_type": "code",
      "execution_count": null,
      "metadata": {
        "colab": {
          "base_uri": "https://localhost:8080/",
          "height": 307
        },
        "id": "SUtZ2e6aGkqK",
        "outputId": "22ef68ce-9e85-40d8-923c-eb1c0e9b02ba",
        "trusted": true
      },
      "outputs": [],
      "source": [
        "# sns subplot 그리기 (col 기준) (row 기준)\n",
        "g = sns.FacetGrid(df_titanic, col='Survived')\n",
        "g = g.map(sns.histplot, 'Age', kde=True) # kde=True, kernel density estimate to smooth the distribution and show on the plot as (one or more) line(s)"
      ]
    },
    {
      "cell_type": "code",
      "execution_count": null,
      "metadata": {
        "colab": {
          "base_uri": "https://localhost:8080/",
          "height": 449
        },
        "id": "QV5kROdAGkqN",
        "outputId": "b70c7f2a-837b-4e23-cb74-67ba7a23406d",
        "trusted": true
      },
      "outputs": [],
      "source": [
        "# kde plot\n",
        "g = sns.kdeplot(df_titanic[\"Age\"][(df_titanic[\"Survived\"] == 0) & (df_titanic[\"Age\"].notnull())], color=\"Red\", fill= True)\n",
        "g = sns.kdeplot(df_titanic[\"Age\"][(df_titanic[\"Survived\"] == 1) & (df_titanic[\"Age\"].notnull())], ax =g, color=\"Blue\", fill= True)\n",
        "g.set_xlabel(\"Age\")\n",
        "g.set_ylabel(\"Frequency\")\n",
        "g = g.legend([\"Not Survived\", \"Survived\"])"
      ]
    },
    {
      "attachments": {},
      "cell_type": "markdown",
      "metadata": {
        "id": "Os5EFCXsItq-"
      },
      "source": [
        "성별에 따른 생존율을 비교해보세요.\n",
        "\n",
        "남자 : 생존율  \n",
        "여자 : 생존율  "
      ]
    },
    {
      "cell_type": "code",
      "execution_count": null,
      "metadata": {
        "colab": {
          "base_uri": "https://localhost:8080/",
          "height": 143
        },
        "id": "K8n_B1TYGkqa",
        "outputId": "f9161937-bc42-433b-e8bf-c543d0954983",
        "trusted": true
      },
      "outputs": [],
      "source": []
    },
    {
      "cell_type": "code",
      "execution_count": null,
      "metadata": {
        "colab": {
          "base_uri": "https://localhost:8080/",
          "height": 524
        },
        "id": "O-sBBFsVGkqX",
        "outputId": "a419621e-3272-45ed-b121-c19fcceffb0e",
        "trusted": true
      },
      "outputs": [],
      "source": [
        "sns.catplot(x='Sex', y='Survived', data=df_titanic, kind='bar')"
      ]
    },
    {
      "attachments": {},
      "cell_type": "markdown",
      "metadata": {
        "id": "OM0G_N8tJAuZ"
      },
      "source": [
        "객실등급에 따른 생존율을 비교해보세요.\n",
        "\n",
        "1등급 : 생존율  \n",
        "2등급 : 생존율  \n",
        "3등급 : 생존율"
      ]
    },
    {
      "cell_type": "code",
      "execution_count": null,
      "metadata": {},
      "outputs": [],
      "source": []
    },
    {
      "cell_type": "code",
      "execution_count": null,
      "metadata": {
        "colab": {
          "base_uri": "https://localhost:8080/",
          "height": 525
        },
        "id": "0YRJoRzIJKxk",
        "outputId": "0745becb-2065-43ea-d031-c35f622008e6"
      },
      "outputs": [],
      "source": [
        "sns.catplot(x='Pclass', y='Survived', data=df_titanic, kind='bar')"
      ]
    },
    {
      "attachments": {},
      "cell_type": "markdown",
      "metadata": {
        "id": "_EPx26Y6JKcB"
      },
      "source": [
        "하나의 그래프에 객실등급과 성별에 대한 생존율을 함께 시각화해보세요."
      ]
    },
    {
      "cell_type": "code",
      "execution_count": null,
      "metadata": {},
      "outputs": [],
      "source": []
    },
    {
      "cell_type": "code",
      "execution_count": null,
      "metadata": {
        "colab": {
          "base_uri": "https://localhost:8080/",
          "height": 506
        },
        "id": "4KBFhHtTGkqg",
        "outputId": "a7c50c87-3812-45a5-c429-c41f5ec5ea15",
        "trusted": true
      },
      "outputs": [],
      "source": [
        "g = sns.catplot(x='Pclass', y='Survived', hue='Sex', data=df_titanic, kind='bar')"
      ]
    },
    {
      "attachments": {},
      "cell_type": "markdown",
      "metadata": {
        "id": "q5EmHGXEKdsv"
      },
      "source": [
        "성별에 따른 나이의 분포를 분석해보세요.\n",
        "\n",
        "객실등급에 따른 나이의 분포를 분석해보세요."
      ]
    },
    {
      "cell_type": "code",
      "execution_count": null,
      "metadata": {
        "colab": {
          "base_uri": "https://localhost:8080/",
          "height": 143
        },
        "id": "JaompP3x6mp2",
        "outputId": "36f17290-4f8e-41e4-f675-9eeb37be2d51"
      },
      "outputs": [],
      "source": []
    },
    {
      "cell_type": "code",
      "execution_count": null,
      "metadata": {
        "colab": {
          "base_uri": "https://localhost:8080/",
          "height": 175
        },
        "id": "j6fxpH6x63Vo",
        "outputId": "cbf16c9f-10b6-470e-9a6b-2938664589a8"
      },
      "outputs": [],
      "source": []
    },
    {
      "cell_type": "code",
      "execution_count": null,
      "metadata": {
        "colab": {
          "base_uri": "https://localhost:8080/",
          "height": 1000
        },
        "id": "92RJWK7JGkqr",
        "outputId": "2331256b-f205-49c9-ba60-53fb9baf566d",
        "trusted": true
      },
      "outputs": [],
      "source": [
        "sns.catplot(x='Sex', y='Age', data=df_titanic, kind='box')\n",
        "sns.catplot(x='Sex', y='Age', data=df_titanic, kind='violin')\n",
        "sns.catplot(x='Pclass', y='Age', data=df_titanic, kind='strip')\n",
        "sns.catplot(x='Pclass', y='Age', data=df_titanic, kind='swarm')"
      ]
    },
    {
      "attachments": {},
      "cell_type": "markdown",
      "metadata": {
        "id": "yCjr3PdUJW4e"
      },
      "source": [
        "항구에 따른 생존율을 시각화해보세요.\n",
        "\n",
        "catplot 활용\n",
        "- data: dataframe\n",
        "- kind: bar"
      ]
    },
    {
      "cell_type": "code",
      "execution_count": null,
      "metadata": {
        "colab": {
          "base_uri": "https://localhost:8080/",
          "height": 525
        },
        "id": "SvhmtwTvGkql",
        "outputId": "734482f3-8fc0-44d2-942f-e6403bed0db8",
        "trusted": true
      },
      "outputs": [],
      "source": []
    },
    {
      "attachments": {},
      "cell_type": "markdown",
      "metadata": {
        "id": "krFqNWM4Jnbo"
      },
      "source": [
        "항구에 따라 생존율의 차이가 있습니다.  \n",
        "왜일까?  \n",
        "항구에 따라 탑승하는 객실등급 수준의 차이가 있는건 아닐까.. Hoxi..?\n",
        "\n",
        "객실등급과 항구간의 관계를 확인해보세요"
      ]
    },
    {
      "cell_type": "code",
      "execution_count": null,
      "metadata": {
        "colab": {
          "base_uri": "https://localhost:8080/",
          "height": 175
        },
        "id": "DKs_jMx5_Z1A",
        "outputId": "f6c0dde0-a039-472b-cc99-fdb8d6f11cb9"
      },
      "outputs": [],
      "source": []
    },
    {
      "cell_type": "code",
      "execution_count": null,
      "metadata": {
        "colab": {
          "base_uri": "https://localhost:8080/",
          "height": 363
        },
        "id": "gjBlDIp4-yH4",
        "outputId": "d8db1326-3ff1-4ba3-cfe7-1dd384bea2c2"
      },
      "outputs": [],
      "source": [
        "count_em_pc = df_titanic[['Pclass', 'Embarked', 'PassengerId']].groupby(['Embarked', 'Pclass']).count()\n",
        "count_em_pc"
      ]
    },
    {
      "attachments": {},
      "cell_type": "markdown",
      "metadata": {
        "id": "1MKwAlqRAued"
      },
      "source": [
        "  count plot을 이용해서 표현해보자."
      ]
    },
    {
      "cell_type": "code",
      "execution_count": null,
      "metadata": {
        "colab": {
          "base_uri": "https://localhost:8080/",
          "height": 525
        },
        "id": "gagP4cbQGkqo",
        "outputId": "1bd7fdd2-ca63-47e3-e56d-85383b634772",
        "trusted": true
      },
      "outputs": [],
      "source": [
        "sns.catplot(x=\"Pclass\", col=\"Embarked\",  data=df_titanic,\n",
        "                   kind=\"count\", palette=\"muted\")"
      ]
    },
    {
      "attachments": {},
      "cell_type": "markdown",
      "metadata": {
        "id": "4koP3nVKIVxd"
      },
      "source": [
        "항구와 객실등급에 따른 생존율"
      ]
    },
    {
      "cell_type": "code",
      "execution_count": null,
      "metadata": {
        "colab": {
          "base_uri": "https://localhost:8080/",
          "height": 507
        },
        "id": "PGz1jEOzIzmb",
        "outputId": "02543d00-3aab-4799-8cc9-13214b9d730b"
      },
      "outputs": [],
      "source": [
        "g = sns.catplot(x='Embarked', y='Survived', data=df_titanic, kind='bar',\n",
        "                   aspect=1)"
      ]
    },
    {
      "cell_type": "code",
      "execution_count": null,
      "metadata": {
        "colab": {
          "base_uri": "https://localhost:8080/",
          "height": 506
        },
        "id": "uLYi9i-h_pq3",
        "outputId": "a029c17e-61ae-4a7c-d6ff-cb933140c03a"
      },
      "outputs": [],
      "source": [
        "g = sns.catplot(x='Embarked', y='Survived', hue='Pclass', data=df_titanic, kind='bar',\n",
        "                   aspect=3)"
      ]
    },
    {
      "attachments": {},
      "cell_type": "markdown",
      "metadata": {
        "id": "igjroRsgMgKx"
      },
      "source": [
        "요금의 분포를 시각화해보세요."
      ]
    },
    {
      "cell_type": "code",
      "execution_count": null,
      "metadata": {
        "colab": {
          "base_uri": "https://localhost:8080/",
          "height": 430
        },
        "id": "rnXoCVyh8YP3",
        "outputId": "57151735-287c-4c09-9550-b601f7224d0a"
      },
      "outputs": [],
      "source": [
        "plt.hist(df_titanic[\"Fare\"], bins=100)\n",
        "plt.show()"
      ]
    },
    {
      "cell_type": "code",
      "execution_count": null,
      "metadata": {
        "colab": {
          "base_uri": "https://localhost:8080/",
          "height": 449
        },
        "id": "uyoVRdB78xx9",
        "outputId": "c7283556-b2ce-4f81-ca7b-d4ac313107b2"
      },
      "outputs": [],
      "source": [
        "g = sns.kdeplot(df_titanic[\"Fare\"])"
      ]
    },
    {
      "cell_type": "code",
      "execution_count": null,
      "metadata": {
        "colab": {
          "base_uri": "https://localhost:8080/"
        },
        "id": "kit_YiNkMd2C",
        "outputId": "35360315-6775-4c75-ea57-821dda312418"
      },
      "outputs": [],
      "source": [
        "df_titanic[\"Fare\"].skew()"
      ]
    },
    {
      "attachments": {},
      "cell_type": "markdown",
      "metadata": {
        "id": "StjDllOZ9CzC"
      },
      "source": [
        "skewness는 -2 이하, 2 이상이 기준"
      ]
    },
    {
      "attachments": {},
      "cell_type": "markdown",
      "metadata": {
        "id": "stGTmhhz8Hij"
      },
      "source": [
        "치우침(Skewness)가 가장 심한 feature가 무엇인지 찾아보세요.\n",
        "\n",
        "df의 skew() method 활용\n",
        "\n",
        "0. skew를 활용해 데이터를 추출하고\n",
        "1. 데이터프레임을 생성\n",
        "2. index로 들어가있는 데이터로 feature 칼럼을 생성\n",
        "3. barplot 생성"
      ]
    },
    {
      "cell_type": "code",
      "execution_count": null,
      "metadata": {
        "colab": {
          "base_uri": "https://localhost:8080/"
        },
        "id": "gG55ZzLODjgd",
        "outputId": "d9659264-e3bf-4d0e-ab2d-9812397596b3"
      },
      "outputs": [],
      "source": []
    },
    {
      "cell_type": "code",
      "execution_count": null,
      "metadata": {
        "colab": {
          "base_uri": "https://localhost:8080/",
          "height": 238
        },
        "id": "UeHSZi1fgYvg",
        "outputId": "d6fe2356-0bf7-4a41-a3b1-200304e699c7"
      },
      "outputs": [],
      "source": [
        "df_skew = pd.DataFrame(skew,\n",
        "                       columns=['skew'])\n",
        "df_skew"
      ]
    },
    {
      "cell_type": "code",
      "execution_count": null,
      "metadata": {
        "colab": {
          "base_uri": "https://localhost:8080/",
          "height": 238
        },
        "id": "JOVG_coZPMJK",
        "outputId": "c1d5036f-3914-4874-c557-d00c538cd885"
      },
      "outputs": [],
      "source": [
        "df_skew['feature'] = df_skew.index\n",
        "df_skew"
      ]
    },
    {
      "cell_type": "code",
      "execution_count": null,
      "metadata": {
        "colab": {
          "base_uri": "https://localhost:8080/",
          "height": 525
        },
        "id": "fODS1FiVCPir",
        "outputId": "612f2e4f-7a4e-4c09-a507-70d796662f5f"
      },
      "outputs": [],
      "source": [
        "sns.catplot(x='feature', y='skew', data=df_skew, kind='bar')"
      ]
    },
    {
      "attachments": {},
      "cell_type": "markdown",
      "metadata": {
        "id": "M0q_q0-P8Hio"
      },
      "source": [
        "첨도(Kurtosis)가 가장 심한 feature가 무엇인지 찾아보세요.\n",
        "\n",
        "데이터프레임의 kurt() method 활용"
      ]
    },
    {
      "cell_type": "code",
      "execution_count": null,
      "metadata": {
        "colab": {
          "base_uri": "https://localhost:8080/"
        },
        "id": "76HOJrYY8Hio",
        "outputId": "4d8fec94-44a7-4059-9ecc-80ac2d7b5c01"
      },
      "outputs": [],
      "source": [
        "df_titanic.kurt().sort_values(ascending=False)"
      ]
    },
    {
      "cell_type": "code",
      "execution_count": null,
      "metadata": {
        "colab": {
          "base_uri": "https://localhost:8080/",
          "height": 206
        },
        "id": "qEC6jpUuGkqu",
        "outputId": "fd9ec342-1153-4fdc-8704-f02bd3949c32",
        "trusted": true
      },
      "outputs": [],
      "source": [
        "df_titanic.head()"
      ]
    },
    {
      "cell_type": "code",
      "execution_count": null,
      "metadata": {
        "colab": {
          "base_uri": "https://localhost:8080/",
          "height": 175
        },
        "id": "llrBHTpyGkqx",
        "outputId": "8ecce683-7984-4122-f8f4-218967bc3164",
        "trusted": true
      },
      "outputs": [],
      "source": [
        "df_titanic[['Name', 'Ticket', 'Cabin']].describe()"
      ]
    },
    {
      "attachments": {},
      "cell_type": "markdown",
      "metadata": {
        "id": "5ft2mnpEGkq0"
      },
      "source": [
        "Name, Ticket, Cabin은 모두 unique값이 많기 때문에, 데이터 자체값으로는 큰의미가 없다. 데이터를 직접 살펴보고, 유의미한 value를 추출할 수 있을지 고민해야한다."
      ]
    },
    {
      "cell_type": "code",
      "execution_count": null,
      "metadata": {
        "colab": {
          "base_uri": "https://localhost:8080/"
        },
        "id": "JyvEBqPOGkq0",
        "outputId": "a5059d15-2211-4e6a-f1d4-929c58d70c2c",
        "trusted": true
      },
      "outputs": [],
      "source": [
        "df_titanic['Name']"
      ]
    },
    {
      "cell_type": "code",
      "execution_count": null,
      "metadata": {
        "colab": {
          "base_uri": "https://localhost:8080/"
        },
        "id": "UbYMVnKUkxpH",
        "outputId": "605dae34-48fe-4923-9bef-09898b548695"
      },
      "outputs": [],
      "source": [
        "df_titanic.Name"
      ]
    },
    {
      "attachments": {},
      "cell_type": "markdown",
      "metadata": {
        "id": "xzLvo-uT6CGx"
      },
      "source": [
        "전체 이름에서, . 앞에 있는 알파벳묶음열(알파벳으로만 이루어진 문자열)을 찾아내고 싶다면?"
      ]
    },
    {
      "cell_type": "code",
      "execution_count": null,
      "metadata": {
        "id": "9GDsOX2_asPV"
      },
      "outputs": [],
      "source": [
        "# .\n",
        "# ?\n",
        "# +\n",
        "# *\n",
        "# []\n",
        "# [^]\n",
        "# ()\n",
        "\n",
        "# 회피용법 \\. \\? \\+ \\* \\[ \\] \\^ \\( \\)\n",
        "\n",
        "# greedy Q : 최대한 긴 문자열로 찾아낸다. = .+\n",
        "# reluctant Q : 최대한 짧은 문자열로 찾아낸다. = .+?\n",
        "\n"
      ]
    },
    {
      "cell_type": "code",
      "execution_count": null,
      "metadata": {
        "id": "e7_UXuTQkv7A"
      },
      "outputs": [],
      "source": [
        "df_titanic['Title'] = df_titanic.Name.str.extract('([A-Za-z]+)\\.', expand=True) # 정규표현식 7가지 핵심 문법 ? . + * [] [^] ()"
      ]
    },
    {
      "cell_type": "code",
      "execution_count": null,
      "metadata": {
        "colab": {
          "base_uri": "https://localhost:8080/"
        },
        "id": "8lYS-VA4cxIY",
        "outputId": "bc887e6c-4e1a-4da6-a8d0-47c396bb4d06"
      },
      "outputs": [],
      "source": [
        "import re\n",
        "text = 'abc.def..ght..xyz.poi'\n",
        "rq = re.findall('\\.(.+?)\\.', text)\n",
        "gq = re.findall('\\.(.+)\\.', text)\n",
        "rq, gq"
      ]
    },
    {
      "cell_type": "code",
      "execution_count": null,
      "metadata": {
        "id": "u_CX-uGs9I8b"
      },
      "outputs": [],
      "source": [
        "df_titanic['Title'] = df_titanic.Name.str.extract(',\\s(.+?)\\.', expand=True) # .+? = 문자열"
      ]
    },
    {
      "cell_type": "code",
      "execution_count": null,
      "metadata": {
        "colab": {
          "base_uri": "https://localhost:8080/"
        },
        "id": "pMHB2MCh6sdH",
        "outputId": "5f0f3469-40bc-42ba-f3eb-51f65b870876"
      },
      "outputs": [],
      "source": [
        "df_titanic['Title']"
      ]
    },
    {
      "cell_type": "code",
      "execution_count": null,
      "metadata": {
        "colab": {
          "base_uri": "https://localhost:8080/",
          "height": 614
        },
        "id": "hUoe-u-den_u",
        "outputId": "d4385b70-6786-4920-c9d0-4626ef2676c5"
      },
      "outputs": [],
      "source": [
        "pd.crosstab(df_titanic['Title'], df_titanic['Sex'])\n"
      ]
    },
    {
      "cell_type": "code",
      "execution_count": null,
      "metadata": {
        "colab": {
          "base_uri": "https://localhost:8080/"
        },
        "id": "w4B1deB7euMI",
        "outputId": "0fe45a6a-685e-4628-d8cc-830f868934c7"
      },
      "outputs": [],
      "source": [
        "list(df_titanic)"
      ]
    },
    {
      "cell_type": "code",
      "execution_count": null,
      "metadata": {
        "colab": {
          "base_uri": "https://localhost:8080/",
          "height": 614
        },
        "id": "YIo89mJQepdy",
        "outputId": "9015c036-c964-4e53-d475-51f8f9e9c245"
      },
      "outputs": [],
      "source": [
        "pd.crosstab(df_titanic['Title'], df_titanic['Pclass'])\n"
      ]
    },
    {
      "cell_type": "code",
      "execution_count": null,
      "metadata": {
        "colab": {
          "base_uri": "https://localhost:8080/",
          "height": 614
        },
        "id": "8XhvTCq-ku34",
        "outputId": "b1aa58cf-aa20-417f-f9d1-9d33040fe39b"
      },
      "outputs": [],
      "source": [
        "pd.crosstab(df_titanic['Title'], df_titanic['Survived'])"
      ]
    },
    {
      "cell_type": "code",
      "execution_count": null,
      "metadata": {
        "colab": {
          "base_uri": "https://localhost:8080/"
        },
        "id": "XXs8Xc3rhr4f",
        "outputId": "0d473a47-c4f1-4113-8b08-5979d1fcd8f1"
      },
      "outputs": [],
      "source": [
        "df_titanic['Name'].str.split(',')"
      ]
    },
    {
      "attachments": {},
      "cell_type": "markdown",
      "metadata": {
        "id": "YLIPcp-jK2Cc"
      },
      "source": [
        "이름에서 Mr, Miss 등 성별 혹은 직위를 나타내는 칭호가 있다. 이것은 생존율에 쓸만하지 않을까?\n",
        "\n",
        "  이녀석만 따로 빼내자."
      ]
    },
    {
      "cell_type": "code",
      "execution_count": null,
      "metadata": {
        "colab": {
          "base_uri": "https://localhost:8080/"
        },
        "id": "ZR-kx8ecGkq3",
        "outputId": "9a0a1cf7-1f33-475e-a650-3d4c42984c08",
        "trusted": true
      },
      "outputs": [],
      "source": [
        "[i.split(\",\")[1] for i in df_titanic[\"Name\"]]"
      ]
    },
    {
      "cell_type": "code",
      "execution_count": null,
      "metadata": {
        "colab": {
          "base_uri": "https://localhost:8080/"
        },
        "id": "2giloqY4Gkq6",
        "outputId": "7a606eb2-b747-4827-d8c5-c25ad3b356f3",
        "trusted": true
      },
      "outputs": [],
      "source": [
        "title = [i.split(\",\")[1].split(\".\")[0].strip() for i in df_titanic[\"Name\"]]\n",
        "df_titanic[\"Title\"] = pd.Series(title)\n",
        "df_titanic[\"Title\"].head()"
      ]
    },
    {
      "attachments": {},
      "cell_type": "markdown",
      "metadata": {
        "id": "25vBSowvLLx8"
      },
      "source": [
        "Title에 따른 생존율을 비교해보세요."
      ]
    },
    {
      "cell_type": "code",
      "execution_count": null,
      "metadata": {
        "colab": {
          "base_uri": "https://localhost:8080/",
          "height": 614
        },
        "id": "7vMKzi42Gkq-",
        "outputId": "1b940dfa-b5e0-40f3-a8e3-da5a80443ba1",
        "trusted": true
      },
      "outputs": [],
      "source": []
    },
    {
      "attachments": {},
      "cell_type": "markdown",
      "metadata": {
        "id": "cEZAKwRNLaF1"
      },
      "source": [
        "너무 빈도가 적은 Title은 묶어도 되지 않을까?"
      ]
    },
    {
      "attachments": {},
      "cell_type": "markdown",
      "metadata": {
        "id": "rb18D8FGGkrA"
      },
      "source": [
        "Mr -> 1\n",
        "Miss -> 2\n",
        "Mrs -> 3\n",
        "Master, Dr -> 4\n",
        "Rev -> 5\n",
        "others -> 0"
      ]
    },
    {
      "cell_type": "code",
      "execution_count": null,
      "metadata": {
        "colab": {
          "base_uri": "https://localhost:8080/"
        },
        "id": "BbxCmzfzGkrB",
        "outputId": "afe4f2db-230a-419b-f777-b5289a87319a",
        "trusted": true
      },
      "outputs": [],
      "source": [
        "set([i.split(\",\")[1].split(\".\")[0] for i in df_titanic[\"Name\"]])"
      ]
    },
    {
      "cell_type": "code",
      "execution_count": null,
      "metadata": {
        "colab": {
          "base_uri": "https://localhost:8080/"
        },
        "id": "i1Q2q8biGkrE",
        "outputId": "0782d5bf-fdc3-4405-b84f-9f819e3892f8",
        "trusted": true
      },
      "outputs": [],
      "source": [
        "[i.split(\",\")[1].split(\".\")[0] for i in df_titanic[\"Name\"]]"
      ]
    },
    {
      "attachments": {},
      "cell_type": "markdown",
      "metadata": {
        "id": "Lj8x0GhFLlk6"
      },
      "source": [
        "이와 같이, Ticket과 Cabin도 분석해보세요."
      ]
    },
    {
      "cell_type": "code",
      "execution_count": null,
      "metadata": {
        "colab": {
          "base_uri": "https://localhost:8080/"
        },
        "id": "TPWDW4NHGkrI",
        "outputId": "7d227400-3dfa-46b6-c930-d0bdef722a9d",
        "trusted": true
      },
      "outputs": [],
      "source": [
        "df_titanic['Ticket']"
      ]
    },
    {
      "cell_type": "code",
      "execution_count": null,
      "metadata": {
        "colab": {
          "base_uri": "https://localhost:8080/"
        },
        "id": "ryYTjcLMGkrL",
        "outputId": "6798f10b-a9b3-46b0-a4f3-84e904634a39",
        "trusted": true
      },
      "outputs": [],
      "source": [
        "df_titanic['Cabin']"
      ]
    },
    {
      "cell_type": "code",
      "execution_count": null,
      "metadata": {
        "colab": {
          "base_uri": "https://localhost:8080/"
        },
        "id": "vML7gZZB8KWk",
        "outputId": "e79ce9b5-b84f-455c-d58e-83d8ca5933cd"
      },
      "outputs": [],
      "source": [
        "for cabin in df_titanic['Cabin'][df_titanic['Cabin'].notnull()]:\n",
        "    print(cabin)"
      ]
    },
    {
      "cell_type": "code",
      "execution_count": null,
      "metadata": {
        "colab": {
          "base_uri": "https://localhost:8080/",
          "height": 249
        },
        "id": "ccO5_rDCGkrP",
        "outputId": "5fcc7d0e-ceb1-4ad0-97f6-45683dcec6fb",
        "trusted": true
      },
      "outputs": [],
      "source": [
        "cabin_num = [cabin.split()[0][0] for cabin in df_titanic['Cabin'][df_titanic['Cabin'].notnull()]]\n",
        "df_titanic[\"CabinCode\"] = pd.Series(cabin_num)\n",
        "sns.set(font_scale=2) # 폰트 크기 키우기\n",
        "sns.catplot(x=\"CabinCode\", col=\"SibSp\",  data=df_titanic,\n",
        "                 height=7,  kind=\"count\", palette=\"muted\")"
      ]
    },
    {
      "cell_type": "code",
      "execution_count": null,
      "metadata": {
        "id": "yOga9DzqPgbS"
      },
      "outputs": [],
      "source": []
    }
  ],
  "metadata": {
    "colab": {
      "provenance": []
    },
    "kernelspec": {
      "display_name": "Python 3",
      "language": "python",
      "name": "python3"
    },
    "language_info": {
      "codemirror_mode": {
        "name": "ipython",
        "version": 3
      },
      "file_extension": ".py",
      "mimetype": "text/x-python",
      "name": "python",
      "nbconvert_exporter": "python",
      "pygments_lexer": "ipython3",
      "version": "3.6.4"
    }
  },
  "nbformat": 4,
  "nbformat_minor": 0
}
