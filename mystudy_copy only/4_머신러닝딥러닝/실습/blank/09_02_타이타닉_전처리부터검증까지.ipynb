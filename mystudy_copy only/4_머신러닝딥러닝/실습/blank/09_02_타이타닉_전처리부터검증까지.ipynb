{
  "cells": [
    {
      "cell_type": "code",
      "execution_count": null,
      "metadata": {
        "id": "zWlL6adYRRpy",
        "trusted": true
      },
      "outputs": [],
      "source": [
        "import numpy as np # linear algebra\n",
        "import pandas as pd # data processing, CSV file I/O (e.g. pd.read_csv)\n",
        "\n",
        "train_df = pd.read_csv('./train.csv')\n",
        "test_df = pd.read_csv('./test.csv')\n",
        "submission_df = pd.read_csv('./gender_submission.csv')"
      ]
    },
    {
      "cell_type": "code",
      "execution_count": null,
      "metadata": {
        "colab": {
          "base_uri": "https://localhost:8080/"
        },
        "id": "bD6o5KNA_Eg9",
        "outputId": "855e1566-b33b-4a09-84a0-fdbec4356fb0"
      },
      "outputs": [],
      "source": [
        "# train_df.head()\n",
        "# test_df.head()\n",
        "# submission_df.head()\n",
        "print(train_df.shape, test_df.shape, submission_df.shape)"
      ]
    },
    {
      "cell_type": "code",
      "execution_count": null,
      "metadata": {
        "id": "WgKZhiTtRRp3",
        "trusted": true
      },
      "outputs": [],
      "source": [
        "# data analysis and wrangling\n",
        "import pandas as pd\n",
        "import numpy as np\n",
        "\n",
        "# visualization\n",
        "import seaborn as sns\n",
        "import matplotlib.pyplot as plt\n",
        "%matplotlib inline\n",
        "\n",
        "from sklearn.compose import ColumnTransformer\n",
        "from sklearn.pipeline import Pipeline\n",
        "from sklearn.impute import SimpleImputer\n",
        "from sklearn.preprocessing import OneHotEncoder, StandardScaler\n",
        "from sklearn.base import BaseEstimator, TransformerMixin\n",
        "\n",
        "from sklearn.ensemble import RandomForestClassifier, AdaBoostClassifier, GradientBoostingClassifier, ExtraTreesClassifier, VotingClassifier\n",
        "from sklearn.discriminant_analysis import LinearDiscriminantAnalysis\n",
        "from sklearn.linear_model import LogisticRegression\n",
        "from sklearn.neighbors import KNeighborsClassifier\n",
        "from sklearn.tree import DecisionTreeClassifier\n",
        "from sklearn.neural_network import MLPClassifier\n",
        "from sklearn.svm import SVC\n",
        "\n",
        "from sklearn.model_selection import train_test_split\n",
        "from sklearn.model_selection import GridSearchCV, cross_val_score, StratifiedKFold, learning_curve"
      ]
    },
    {
      "cell_type": "code",
      "execution_count": null,
      "metadata": {
        "colab": {
          "base_uri": "https://localhost:8080/"
        },
        "id": "oCaSMvpjRRp7",
        "outputId": "09118499-d921-4d5d-d69a-f52c95906f1f",
        "trusted": true
      },
      "outputs": [],
      "source": [
        "combine = [train_df, test_df]\n",
        "combine"
      ]
    },
    {
      "cell_type": "code",
      "execution_count": null,
      "metadata": {
        "colab": {
          "base_uri": "https://localhost:8080/",
          "height": 424
        },
        "id": "8z5_2lW1RRp_",
        "outputId": "32d4c029-6c4a-4278-8000-3e8a425782b1",
        "trusted": true
      },
      "outputs": [],
      "source": [
        "train_df"
      ]
    },
    {
      "cell_type": "code",
      "execution_count": null,
      "metadata": {
        "colab": {
          "base_uri": "https://localhost:8080/",
          "height": 460
        },
        "id": "bFyummlURRqC",
        "outputId": "0b6d7eb7-24c2-4321-c8f0-9fcbc4871d0f",
        "trusted": true
      },
      "outputs": [],
      "source": [
        "print(\"Before\", train_df.shape, test_df.shape, combine[0].shape, combine[1].shape)\n",
        "\n",
        "train_df = train_df.drop(['Ticket', 'Cabin'], axis=1) # axis=0 - Index, 1 - columns\n",
        "test_df = test_df.drop(['Ticket', 'Cabin'], axis=1)\n",
        "combine = [train_df, test_df]\n",
        "\n",
        "print(\"After\", train_df.shape, test_df.shape, combine[0].shape, combine[1].shape)\n",
        "train_df"
      ]
    },
    {
      "cell_type": "code",
      "execution_count": null,
      "metadata": {
        "colab": {
          "base_uri": "https://localhost:8080/",
          "height": 614
        },
        "id": "ua_TR9suRRqG",
        "outputId": "59dcaa19-3805-42ff-bda4-6d5fc13a2265",
        "trusted": true
      },
      "outputs": [],
      "source": [
        "for dataset in combine:\n",
        "    dataset['Title'] = dataset.Name.str.extract('([A-Za-z]+)\\.', expand=True)\n",
        "\n",
        "pd.crosstab(train_df['Title'], train_df['Sex'])"
      ]
    },
    {
      "cell_type": "code",
      "execution_count": null,
      "metadata": {
        "colab": {
          "base_uri": "https://localhost:8080/",
          "height": 238
        },
        "id": "GuaEfs4URRqJ",
        "outputId": "93ae77d7-63d8-4759-9e4f-a7c9bd541435",
        "trusted": true
      },
      "outputs": [],
      "source": [
        "# replace various titles with more common names\n",
        "for dataset in combine:\n",
        "    dataset['Title'] = dataset['Title'].replace(['Capt', 'Col',\n",
        "    'Don', 'Dr', 'Major', 'Rev', 'Jonkheer', 'Dona'], 'Rare')\n",
        "\n",
        "    dataset['Title'] = dataset['Title'].replace(['Countess', 'Lady', 'Sir'], 'Royal')\n",
        "    dataset['Title'] = dataset['Title'].replace('Mlle', 'Miss')\n",
        "    dataset['Title'] = dataset['Title'].replace('Ms', 'Miss')\n",
        "    dataset['Title'] = dataset['Title'].replace('Mme', 'Mrs')\n",
        "\n",
        "train_df[['Title', 'Survived']].groupby(['Title'], as_index=False).mean()"
      ]
    },
    {
      "cell_type": "code",
      "execution_count": null,
      "metadata": {
        "colab": {
          "base_uri": "https://localhost:8080/",
          "height": 206
        },
        "id": "QsI6KEbjRRqN",
        "outputId": "5ecf2c2a-9750-4837-de1e-9277d0482c07",
        "trusted": true
      },
      "outputs": [],
      "source": [
        "# map each of the title groups to a numerical value\n",
        "title_mapping = {\"Mr\": 1, \"Miss\": 2, \"Mrs\": 3, \"Master\": 4, \"Royal\": 5, \"Rare\": 6}\n",
        "for dataset in combine:\n",
        "    dataset['Title'] = dataset['Title'].map(title_mapping)\n",
        "    dataset['Title'] = dataset['Title'].fillna(0) # fill na = 채우다 결측치(na)를\n",
        "\n",
        "train_df.head()"
      ]
    },
    {
      "cell_type": "code",
      "execution_count": null,
      "metadata": {
        "colab": {
          "base_uri": "https://localhost:8080/"
        },
        "id": "BxCSyui2RRqR",
        "outputId": "70c230b5-27d0-4e9c-daf6-a5c5193acb81",
        "trusted": true
      },
      "outputs": [],
      "source": [
        "train_df = train_df.drop(['Name', 'PassengerId'], axis=1)\n",
        "test_df = test_df.drop(['Name'], axis=1)\n",
        "combine = [train_df, test_df]\n",
        "\n",
        "train_df.shape, test_df.shape"
      ]
    },
    {
      "cell_type": "code",
      "execution_count": null,
      "metadata": {
        "colab": {
          "base_uri": "https://localhost:8080/",
          "height": 206
        },
        "id": "woycrIc-RRqV",
        "outputId": "8765f586-0cd3-47cb-a415-96ea2967be34",
        "trusted": true
      },
      "outputs": [],
      "source": [
        "for dataset in combine:\n",
        "    dataset['Sex'] = dataset['Sex'].map( {'female': 1, 'male': 0} ).astype(int)\n",
        "\n",
        "train_df.head()"
      ]
    },
    {
      "cell_type": "code",
      "execution_count": null,
      "metadata": {
        "colab": {
          "base_uri": "https://localhost:8080/",
          "height": 685
        },
        "id": "MDFpERLWRRqY",
        "outputId": "3a70e0f2-2baf-4d4c-d62d-a00139288701",
        "trusted": true
      },
      "outputs": [],
      "source": [
        "grid = sns.FacetGrid(train_df, row='Pclass', col='Sex', height=2.2, aspect=1.6)\n",
        "grid.map(plt.hist, 'Age', alpha=.5, bins=20)\n",
        "grid.add_legend()"
      ]
    },
    {
      "cell_type": "code",
      "execution_count": null,
      "metadata": {
        "colab": {
          "base_uri": "https://localhost:8080/"
        },
        "id": "Uf9qMFd3RRqb",
        "outputId": "57f1a6e4-9cf2-4c97-f1ff-abbd3253054c",
        "trusted": true
      },
      "outputs": [],
      "source": [
        "guess_ages = np.zeros((2,3))\n",
        "guess_ages"
      ]
    },
    {
      "cell_type": "code",
      "execution_count": null,
      "metadata": {
        "id": "x4H5dtNYRRqg",
        "trusted": true
      },
      "outputs": [],
      "source": [
        "for dataset in combine:\n",
        "    for i in range(0, 2):\n",
        "        for j in range(0, 3):\n",
        "            guess_df = dataset[(dataset['Sex'] == i) & (dataset['Pclass'] == j+1)]['Age'].dropna() # drop na = 없애다 결측치를\n",
        "            # drop na values\n",
        "            # print('median', guess_df.median())\n",
        "\n",
        "            age_guess = guess_df.median()\n",
        "\n",
        "            # Convert random age float to nearest .5 age\n",
        "            guess_ages[i,j] = int( age_guess/0.5 + 0.5 ) * 0.5\n",
        "\n",
        "           # print('guess_age',guess_ages[i,j])\n",
        "\n",
        "    for i in range(0, 2):\n",
        "        for j in range(0, 3):\n",
        "            dataset.loc[ (dataset.Age.isnull()) & (dataset.Sex == i) & (dataset.Pclass == j+1),'Age'] = guess_ages[i,j]\n",
        "\n",
        "    dataset['Age'] = dataset['Age'].astype(int)"
      ]
    },
    {
      "cell_type": "code",
      "execution_count": null,
      "metadata": {
        "colab": {
          "base_uri": "https://localhost:8080/"
        },
        "id": "0RMRbs5wRRqk",
        "outputId": "c4972fdc-d357-4fc9-f23d-cf5fa1d2b908",
        "trusted": true
      },
      "outputs": [],
      "source": [
        "train_df.info()"
      ]
    },
    {
      "cell_type": "code",
      "execution_count": null,
      "metadata": {
        "colab": {
          "base_uri": "https://localhost:8080/",
          "height": 206
        },
        "id": "rZBNd0tORRqn",
        "outputId": "a326bbb9-6ce9-4709-ae51-de20f82ed41b",
        "trusted": true
      },
      "outputs": [],
      "source": [
        "train_df['AgeBand'] = pd.cut(train_df['Age'], 5)\n",
        "train_df[['AgeBand', 'Survived']].groupby(['AgeBand'], as_index=False).mean().sort_values(by='AgeBand', ascending=True)"
      ]
    },
    {
      "cell_type": "code",
      "execution_count": null,
      "metadata": {
        "id": "lDr-VJsVRRqq",
        "trusted": true
      },
      "outputs": [],
      "source": [
        "for dataset in combine:\n",
        "    dataset.loc[ dataset['Age'] <= 16, 'Age'] = 0\n",
        "    dataset.loc[(dataset['Age'] > 16) & (dataset['Age'] <= 32), 'Age'] = 1\n",
        "    dataset.loc[(dataset['Age'] > 32) & (dataset['Age'] <= 48), 'Age'] = 2\n",
        "    dataset.loc[(dataset['Age'] > 48) & (dataset['Age'] <= 64), 'Age'] = 3\n",
        "    dataset.loc[ dataset['Age'] > 64, 'Age'] = 4"
      ]
    },
    {
      "cell_type": "code",
      "execution_count": null,
      "metadata": {
        "colab": {
          "base_uri": "https://localhost:8080/",
          "height": 206
        },
        "id": "MS7gYvdQRRqt",
        "outputId": "828a6100-4248-4301-b057-f9995f7ab0de",
        "trusted": true
      },
      "outputs": [],
      "source": [
        "train_df.head()"
      ]
    },
    {
      "cell_type": "code",
      "execution_count": null,
      "metadata": {
        "colab": {
          "base_uri": "https://localhost:8080/",
          "height": 206
        },
        "id": "BWhiYwgwRRqw",
        "outputId": "9c0bcfbf-d2e4-4060-f82c-fd8b12d475ae",
        "trusted": true
      },
      "outputs": [],
      "source": [
        "train_df = train_df.drop(['AgeBand'], axis=1)\n",
        "combine = [train_df, test_df]\n",
        "train_df.head()"
      ]
    },
    {
      "cell_type": "code",
      "execution_count": null,
      "metadata": {
        "colab": {
          "base_uri": "https://localhost:8080/",
          "height": 332
        },
        "id": "-hEZrYu5RRq0",
        "outputId": "d81f5fd2-38ae-4c99-9639-e0df062f2afa",
        "trusted": true
      },
      "outputs": [],
      "source": [
        "for dataset in combine:\n",
        "    dataset['FamilySize'] = dataset['SibSp'] + dataset['Parch'] + 1\n",
        "\n",
        "train_df[['FamilySize', 'Survived']].groupby(['FamilySize'], as_index=False).mean().sort_values(by='Survived', ascending=False)"
      ]
    },
    {
      "cell_type": "code",
      "execution_count": null,
      "metadata": {
        "colab": {
          "base_uri": "https://localhost:8080/",
          "height": 112
        },
        "id": "NhqykhMaRRq3",
        "outputId": "cedd8108-5a33-4136-817c-c1d868f60796",
        "trusted": true
      },
      "outputs": [],
      "source": [
        "# isAlone 변수 생성\n",
        "for dataset in combine:\n",
        "    dataset['IsAlone'] = 0\n",
        "    dataset.loc[dataset['FamilySize'] == 1, 'IsAlone'] = 1\n",
        "\n",
        "train_df[['IsAlone', 'Survived']].groupby(['IsAlone'], as_index=False).mean()"
      ]
    },
    {
      "cell_type": "code",
      "execution_count": null,
      "metadata": {
        "colab": {
          "base_uri": "https://localhost:8080/",
          "height": 206
        },
        "id": "eRABN0FzRRq5",
        "outputId": "e3275958-b7a6-44ea-bdec-333e15497290",
        "trusted": true
      },
      "outputs": [],
      "source": [
        "train_df.head()"
      ]
    },
    {
      "cell_type": "code",
      "execution_count": null,
      "metadata": {
        "colab": {
          "base_uri": "https://localhost:8080/",
          "height": 206
        },
        "id": "bi2W06aERRq8",
        "outputId": "9652aa45-4a08-41e3-cda1-13292166ec10",
        "trusted": true
      },
      "outputs": [],
      "source": [
        "# Parch, SibSp, FamilySize drop\n",
        "\n",
        "train_df = train_df.drop(['Parch', 'SibSp', 'FamilySize'], axis=1)\n",
        "test_df = test_df.drop(['Parch', 'SibSp', 'FamilySize'], axis=1)\n",
        "combine = [train_df, test_df]\n",
        "\n",
        "train_df.head()"
      ]
    },
    {
      "cell_type": "code",
      "execution_count": null,
      "metadata": {
        "colab": {
          "base_uri": "https://localhost:8080/",
          "height": 112
        },
        "id": "UbhrFGeIRDpk",
        "outputId": "1f9827be-e3f7-49c8-e13a-3b30366f8e09"
      },
      "outputs": [],
      "source": [
        "train_df[['IsAlone', 'Survived']].corr()"
      ]
    },
    {
      "cell_type": "code",
      "execution_count": null,
      "metadata": {
        "colab": {
          "base_uri": "https://localhost:8080/",
          "height": 112
        },
        "id": "xQaYXpE0RNq7",
        "outputId": "5742949b-c194-4a03-b58f-4645d189d783"
      },
      "outputs": [],
      "source": [
        "train_df[['Survived', 'Age']].corr()"
      ]
    },
    {
      "cell_type": "code",
      "execution_count": null,
      "metadata": {
        "colab": {
          "base_uri": "https://localhost:8080/",
          "height": 363
        },
        "id": "mQLZzopqRRq-",
        "outputId": "42eb50ce-ded6-47e8-aec9-1197a9ec4350",
        "trusted": true
      },
      "outputs": [],
      "source": [
        "# Pclass 와 Age를 결합한 변수생성\n",
        "\n",
        "for dataset in combine:\n",
        "    dataset['Age*Class'] = dataset.Age * dataset.Pclass\n",
        "\n",
        "train_df.loc[:, ['Age*Class', 'Age', 'Pclass']].head(10)"
      ]
    },
    {
      "cell_type": "code",
      "execution_count": null,
      "metadata": {
        "colab": {
          "base_uri": "https://localhost:8080/",
          "height": 112
        },
        "id": "PqmkgPM9RlCJ",
        "outputId": "be1f040e-89e3-4047-f3b9-911cec20d16e"
      },
      "outputs": [],
      "source": [
        "train_df[['Age*Class', 'Survived']].corr()"
      ]
    },
    {
      "cell_type": "code",
      "execution_count": null,
      "metadata": {
        "colab": {
          "base_uri": "https://localhost:8080/",
          "height": 35
        },
        "id": "KZ3J-qJdRRrB",
        "outputId": "54209ddb-8738-4dc9-ca98-a169c4c30238",
        "trusted": true
      },
      "outputs": [],
      "source": [
        "freq_port = train_df.Embarked.dropna().mode()[0]\n",
        "freq_port"
      ]
    },
    {
      "cell_type": "code",
      "execution_count": null,
      "metadata": {
        "colab": {
          "base_uri": "https://localhost:8080/",
          "height": 143
        },
        "id": "u9I4wNGaRRrE",
        "outputId": "88f5e7a5-ab03-4d18-84aa-3693d3345d51",
        "trusted": true
      },
      "outputs": [],
      "source": [
        "for dataset in combine:\n",
        "    dataset['Embarked'] = dataset['Embarked'].fillna(freq_port)\n",
        "\n",
        "train_df[['Embarked', 'Survived']].groupby(['Embarked'], as_index=False).mean().sort_values(by='Survived', ascending=False)"
      ]
    },
    {
      "cell_type": "code",
      "execution_count": null,
      "metadata": {
        "colab": {
          "base_uri": "https://localhost:8080/",
          "height": 206
        },
        "id": "CRezLaIgRRrI",
        "outputId": "85b28731-31b2-4877-9960-cc4b364ef1f3",
        "trusted": true
      },
      "outputs": [],
      "source": [
        "for dataset in combine:\n",
        "    dataset['Embarked'] = dataset['Embarked'].map( {'S': 0, 'C': 1, 'Q': 2} ).astype(int)\n",
        "\n",
        "train_df.head()"
      ]
    },
    {
      "cell_type": "code",
      "execution_count": null,
      "metadata": {
        "colab": {
          "base_uri": "https://localhost:8080/",
          "height": 206
        },
        "id": "3ERI-vCvRRrM",
        "outputId": "07193ad3-a378-4cf6-ed36-ab7a2dc43201",
        "trusted": true
      },
      "outputs": [],
      "source": [
        "test_df['Fare'].fillna(test_df['Fare'].dropna().median(), inplace=True)\n",
        "Id_test = test_df[['PassengerId']]\n",
        "test_df = test_df.drop(['PassengerId'], axis=1)\n",
        "test_df.head()"
      ]
    },
    {
      "cell_type": "code",
      "execution_count": null,
      "metadata": {
        "colab": {
          "base_uri": "https://localhost:8080/",
          "height": 206
        },
        "id": "x-gflmpgRRrO",
        "outputId": "7b7d64e0-c68b-4dfb-cf0e-8f1d59728363",
        "trusted": true
      },
      "outputs": [],
      "source": [
        "Id_test.head()"
      ]
    },
    {
      "cell_type": "code",
      "execution_count": null,
      "metadata": {
        "colab": {
          "base_uri": "https://localhost:8080/",
          "height": 175
        },
        "id": "BRWq8sClRRrR",
        "outputId": "260cbb52-580d-4420-d1d9-6e31f9770a76",
        "trusted": true
      },
      "outputs": [],
      "source": [
        "train_df['FareBand'] = pd.qcut(train_df['Fare'], 4)\n",
        "train_df[['FareBand', 'Survived']].groupby(['FareBand'], as_index=False).mean().sort_values(by='FareBand', ascending=True)"
      ]
    },
    {
      "cell_type": "code",
      "execution_count": null,
      "metadata": {
        "colab": {
          "base_uri": "https://localhost:8080/",
          "height": 206
        },
        "id": "y3Ry5z1PRRrU",
        "outputId": "2384b19f-b237-425f-99c1-9a7b906802ef",
        "trusted": true
      },
      "outputs": [],
      "source": [
        "# Convert the Fare feature to ordinal values based on the FareBand.\n",
        "combine = [train_df, test_df]\n",
        "for dataset in combine:\n",
        "    dataset.loc[ dataset['Fare'] <= 7.91, 'Fare'] = 0\n",
        "    dataset.loc[(dataset['Fare'] > 7.91) & (dataset['Fare'] <= 14.454), 'Fare'] = 1\n",
        "    dataset.loc[(dataset['Fare'] > 14.454) & (dataset['Fare'] <= 31), 'Fare']   = 2\n",
        "    dataset.loc[ dataset['Fare'] > 31, 'Fare'] = 3\n",
        "    dataset['Fare'] = dataset['Fare'].astype(int)\n",
        "\n",
        "train_df = train_df.drop(['FareBand'], axis=1)\n",
        "combine = [train_df, test_df]\n",
        "\n",
        "train_df.head()"
      ]
    },
    {
      "cell_type": "code",
      "execution_count": null,
      "metadata": {
        "colab": {
          "base_uri": "https://localhost:8080/",
          "height": 206
        },
        "id": "iF1bqpdLRRrX",
        "outputId": "9d8aae7b-a569-4ef5-dd9d-b72444467611",
        "trusted": true
      },
      "outputs": [],
      "source": [
        "test_df.head()"
      ]
    },
    {
      "cell_type": "code",
      "execution_count": null,
      "metadata": {
        "id": "BlYUKTYIRRra",
        "trusted": true
      },
      "outputs": [],
      "source": [
        "Y_train = train_df[\"Survived\"]\n",
        "X_train = train_df.drop(labels = [\"Survived\"],axis = 1)"
      ]
    },
    {
      "cell_type": "code",
      "execution_count": null,
      "metadata": {
        "id": "Sn0QJJptRRrc",
        "trusted": true
      },
      "outputs": [],
      "source": [
        "kfold = StratifiedKFold(n_splits=10)"
      ]
    },
    {
      "cell_type": "code",
      "execution_count": null,
      "metadata": {
        "colab": {
          "base_uri": "https://localhost:8080/",
          "height": 248
        },
        "id": "5LRJL9c_RRrf",
        "outputId": "4e25ee8c-8818-4d26-e97c-c861e5d266f8",
        "trusted": true
      },
      "outputs": [],
      "source": [
        "# Modeling step Test differents algorithms\n",
        "random_state = 2\n",
        "classifiers = []\n",
        "classifiers.append(SVC(random_state=random_state))\n",
        "classifiers.append(DecisionTreeClassifier(random_state=random_state))\n",
        "classifiers.append(AdaBoostClassifier(DecisionTreeClassifier(random_state=random_state),random_state=random_state,learning_rate=0.1))\n",
        "classifiers.append(RandomForestClassifier(random_state=random_state))\n",
        "classifiers.append(ExtraTreesClassifier(random_state=random_state))\n",
        "classifiers.append(GradientBoostingClassifier(random_state=random_state))\n",
        "classifiers.append(MLPClassifier(random_state=random_state))\n",
        "classifiers.append(KNeighborsClassifier())\n",
        "classifiers.append(LogisticRegression(random_state = random_state))\n",
        "classifiers.append(LinearDiscriminantAnalysis())\n",
        "\n",
        "cv_results = []\n",
        "for classifier in classifiers :\n",
        "    cv_results.append(cross_val_score(classifier, X_train, y = Y_train, scoring = \"accuracy\", cv = kfold, n_jobs=4))\n",
        "\n",
        "cv_means = []\n",
        "cv_std = []\n",
        "for cv_result in cv_results:\n",
        "    cv_means.append(cv_result.mean())\n",
        "    cv_std.append(cv_result.std())\n",
        "\n",
        "cv_res = pd.DataFrame({\n",
        "    \"CrossValMeans\":cv_means,\n",
        "    \"CrossValerrors\": cv_std,\n",
        "    \"Algorithm\":[\"SVC\",\"DecisionTree\",\"AdaBoost\",\"RandomForest\",\n",
        "                 \"ExtraTrees\",\"GradientBoosting\",\"MultipleLayerPerceptron\",\n",
        "                 \"KNeighboors\",\"LogisticRegression\",\"LinearDiscriminantAnalysis\"\n",
        "                 ]})\n",
        "\n",
        "g = sns.barplot(data=cv_res, x=\"CrossValMeans\",y=\"Algorithm\", palette=\"Set3\",orient = \"h\") #'xerr':cv_std\n",
        "g.set_xlabel(\"Mean Accuracy\")\n",
        "g = g.set_title(\"Cross validation scores\")"
      ]
    },
    {
      "cell_type": "code",
      "execution_count": null,
      "metadata": {
        "colab": {
          "base_uri": "https://localhost:8080/",
          "height": 472
        },
        "id": "FWU_pI5QuChV",
        "outputId": "8496e614-88e9-4713-f075-9fb382973f56"
      },
      "outputs": [],
      "source": []
    },
    {
      "cell_type": "code",
      "execution_count": null,
      "metadata": {
        "colab": {
          "base_uri": "https://localhost:8080/",
          "height": 193
        },
        "id": "hU9zokUZRRri",
        "outputId": "bd709b22-8a84-4d43-982f-c6faead16e08",
        "trusted": true
      },
      "outputs": [],
      "source": [
        "# Adaboost\n",
        "DTC = DecisionTreeClassifier()\n",
        "\n",
        "adaDTC = AdaBoostClassifier(DTC, random_state=7)\n",
        "\n",
        "ada_param_grid = {\"base_estimator__criterion\" : [\"gini\", \"entropy\"],\n",
        "              \"base_estimator__splitter\" :   [\"best\", \"random\"],\n",
        "              \"algorithm\" : [\"SAMME\",\"SAMME.R\"],\n",
        "              \"n_estimators\" :[1,2],\n",
        "              \"learning_rate\":  [0.0001, 0.001, 0.01, 0.1, 0.2, 0.3,1.5]}\n",
        "\n",
        "gsadaDTC = GridSearchCV(adaDTC,param_grid = ada_param_grid, cv=kfold, scoring=\"accuracy\", n_jobs= 4, verbose = 1)\n",
        "\n",
        "gsadaDTC.fit(X_train,Y_train)\n",
        "\n",
        "ada_best = gsadaDTC.best_estimator_\n",
        "ada_best"
      ]
    },
    {
      "cell_type": "code",
      "execution_count": null,
      "metadata": {
        "colab": {
          "base_uri": "https://localhost:8080/"
        },
        "id": "dFSkpMSsRRrl",
        "outputId": "0e015a95-4f0b-455a-a493-1a22c91bfbd2",
        "trusted": true
      },
      "outputs": [],
      "source": [
        "gsadaDTC.best_score_"
      ]
    },
    {
      "cell_type": "code",
      "execution_count": null,
      "metadata": {
        "colab": {
          "base_uri": "https://localhost:8080/"
        },
        "id": "04TwWEA2RRro",
        "outputId": "164e77c1-01e5-4744-b67b-e4cdd301a85a",
        "trusted": true
      },
      "outputs": [],
      "source": [
        "#ExtraTrees\n",
        "ExtC = ExtraTreesClassifier()\n",
        "\n",
        "\n",
        "## Search grid for optimal parameters\n",
        "ex_param_grid = {\"max_depth\": [None],\n",
        "              \"min_samples_split\": [2, 3, 10],\n",
        "              \"min_samples_leaf\": [1, 3, 10],\n",
        "              \"bootstrap\": [False],\n",
        "              \"n_estimators\" :[100,300],\n",
        "              \"criterion\": [\"gini\"]}\n",
        "\n",
        "\n",
        "gsExtC = GridSearchCV(ExtC,param_grid = ex_param_grid, cv=kfold, scoring=\"accuracy\", n_jobs= 4, verbose = 1)\n",
        "\n",
        "gsExtC.fit(X_train,Y_train)\n",
        "\n",
        "ExtC_best = gsExtC.best_estimator_\n",
        "\n",
        "# Best score\n",
        "gsExtC.best_score_"
      ]
    },
    {
      "cell_type": "code",
      "execution_count": null,
      "metadata": {
        "colab": {
          "base_uri": "https://localhost:8080/"
        },
        "id": "i7HrXMP5RRrr",
        "outputId": "c2b60f4e-e069-4419-cc69-2a85c85ab3fe",
        "trusted": true
      },
      "outputs": [],
      "source": [
        "# RFC Parameters tunning\n",
        "RFC = RandomForestClassifier()\n",
        "\n",
        "\n",
        "## Search grid for optimal parameters\n",
        "rf_param_grid = {\"max_depth\": [None],\n",
        "              \"min_samples_split\": [2, 3, 10],\n",
        "              \"min_samples_leaf\": [1, 3, 10],\n",
        "              \"bootstrap\": [False],\n",
        "              \"n_estimators\" :[100,300],\n",
        "              \"criterion\": [\"gini\"]}\n",
        "\n",
        "\n",
        "gsRFC = GridSearchCV(RFC,param_grid = rf_param_grid, cv=kfold, scoring=\"accuracy\", n_jobs= 4, verbose = 1)\n",
        "\n",
        "gsRFC.fit(X_train,Y_train)\n",
        "\n",
        "RFC_best = gsRFC.best_estimator_\n",
        "\n",
        "# Best score\n",
        "gsRFC.best_score_"
      ]
    },
    {
      "cell_type": "code",
      "execution_count": null,
      "metadata": {
        "colab": {
          "base_uri": "https://localhost:8080/"
        },
        "id": "9UCkn7AmRRrt",
        "outputId": "1e8aa5f2-ec01-436a-ad83-4e9c4487196d",
        "trusted": true
      },
      "outputs": [],
      "source": [
        "# Gradient boosting tunning\n",
        "\n",
        "GBC = GradientBoostingClassifier()\n",
        "gb_param_grid = {'loss' : [\"deviance\"],\n",
        "              'n_estimators' : [100,200,300],\n",
        "              'learning_rate': [0.1, 0.05, 0.01],\n",
        "              'max_depth': [4, 8],\n",
        "              'min_samples_leaf': [100,150],\n",
        "              }\n",
        "\n",
        "gsGBC = GridSearchCV(GBC,param_grid = gb_param_grid, cv=kfold, scoring=\"accuracy\", n_jobs= 4, verbose = 1)\n",
        "\n",
        "gsGBC.fit(X_train,Y_train)\n",
        "\n",
        "GBC_best = gsGBC.best_estimator_\n",
        "\n",
        "# Best score\n",
        "gsGBC.best_score_"
      ]
    },
    {
      "cell_type": "code",
      "execution_count": null,
      "metadata": {
        "colab": {
          "base_uri": "https://localhost:8080/"
        },
        "id": "iz2Vcd3yRRrw",
        "outputId": "bcb61223-8937-4fbd-f7d4-4710f690f46d",
        "trusted": true
      },
      "outputs": [],
      "source": [
        "### SVC classifier\n",
        "SVMC = SVC(probability=True)\n",
        "svc_param_grid = {'kernel': ['rbf'],\n",
        "                  'gamma': [ 0.001, 0.01, 0.1, 1],\n",
        "                  'C': [1, 10, 50, 100,200,300, 1000]}\n",
        "\n",
        "gsSVMC = GridSearchCV(SVMC,param_grid = svc_param_grid, cv=kfold, scoring=\"accuracy\", n_jobs= 4, verbose = 1)\n",
        "\n",
        "gsSVMC.fit(X_train,Y_train)\n",
        "\n",
        "SVMC_best = gsSVMC.best_estimator_\n",
        "\n",
        "# Best score\n",
        "gsSVMC.best_score_"
      ]
    },
    {
      "cell_type": "code",
      "execution_count": null,
      "metadata": {
        "colab": {
          "base_uri": "https://localhost:8080/",
          "height": 1000
        },
        "id": "uUH1qAb1RRr0",
        "outputId": "f36615eb-2488-46b3-da0a-45bc2496fb57",
        "trusted": true
      },
      "outputs": [],
      "source": [
        "def plot_learning_curve(estimator, title, X, y, ylim=None, cv=None,\n",
        "                        n_jobs=-1, train_sizes=np.linspace(.1, 1.0, 5)):\n",
        "    \"\"\"Generate a simple plot of the test and training learning curve\"\"\"\n",
        "    plt.figure()\n",
        "    plt.title(title)\n",
        "    if ylim is not None:\n",
        "        plt.ylim(*ylim)\n",
        "    plt.xlabel(\"Training examples\")\n",
        "    plt.ylabel(\"Score\")\n",
        "    train_sizes, train_scores, test_scores = learning_curve(\n",
        "        estimator, X, y, cv=cv, n_jobs=n_jobs, train_sizes=train_sizes)\n",
        "    train_scores_mean = np.mean(train_scores, axis=1)\n",
        "    train_scores_std = np.std(train_scores, axis=1)\n",
        "    test_scores_mean = np.mean(test_scores, axis=1)\n",
        "    test_scores_std = np.std(test_scores, axis=1)\n",
        "    plt.grid()\n",
        "\n",
        "    plt.fill_between(train_sizes, train_scores_mean - train_scores_std,\n",
        "                     train_scores_mean + train_scores_std, alpha=0.1,\n",
        "                     color=\"r\")\n",
        "    plt.fill_between(train_sizes, test_scores_mean - test_scores_std,\n",
        "                     test_scores_mean + test_scores_std, alpha=0.1, color=\"g\")\n",
        "    plt.plot(train_sizes, train_scores_mean, 'o-', color=\"r\",\n",
        "             label=\"Training score\")\n",
        "    plt.plot(train_sizes, test_scores_mean, 'o-', color=\"g\",\n",
        "             label=\"Cross-validation score\")\n",
        "\n",
        "    plt.legend(loc=\"best\")\n",
        "    return plt\n",
        "\n",
        "g = plot_learning_curve(gsRFC.best_estimator_,\"RF mearning curves\",X_train,Y_train,cv=kfold)\n",
        "g = plot_learning_curve(gsExtC.best_estimator_,\"ExtraTrees learning curves\",X_train,Y_train,cv=kfold)\n",
        "g = plot_learning_curve(gsSVMC.best_estimator_,\"SVC learning curves\",X_train,Y_train,cv=kfold)\n",
        "g = plot_learning_curve(gsadaDTC.best_estimator_,\"AdaBoost learning curves\",X_train,Y_train,cv=kfold)\n",
        "g = plot_learning_curve(gsGBC.best_estimator_,\"GradientBoosting learning curves\",X_train,Y_train,cv=kfold)"
      ]
    },
    {
      "cell_type": "code",
      "execution_count": null,
      "metadata": {
        "colab": {
          "base_uri": "https://localhost:8080/",
          "height": 1000
        },
        "id": "7nsr0jiHRRr4",
        "outputId": "e75cfe08-5952-4ad5-b79b-0d56423cc75d",
        "trusted": true
      },
      "outputs": [],
      "source": [
        "nrows = ncols = 2\n",
        "fig, axes = plt.subplots(nrows = nrows, ncols = ncols, sharex=\"all\", figsize=(15,15))\n",
        "\n",
        "names_classifiers = [(\"AdaBoosting\", ada_best),(\"ExtraTrees\",ExtC_best),(\"RandomForest\",RFC_best),(\"GradientBoosting\",GBC_best)]\n",
        "\n",
        "nclassifier = 0\n",
        "for row in range(nrows):\n",
        "    for col in range(ncols):\n",
        "        name = names_classifiers[nclassifier][0]\n",
        "        classifier = names_classifiers[nclassifier][1]\n",
        "        indices = np.argsort(classifier.feature_importances_)[::-1][:40]\n",
        "        g = sns.barplot(y=X_train.columns[indices][:40],x = classifier.feature_importances_[indices][:40] , orient='h',ax=axes[row][col])\n",
        "        g.set_xlabel(\"Relative importance\",fontsize=12)\n",
        "        g.set_ylabel(\"Features\",fontsize=12)\n",
        "        g.tick_params(labelsize=9)\n",
        "        g.set_title(name + \" feature importance\")\n",
        "        nclassifier += 1"
      ]
    },
    {
      "cell_type": "code",
      "execution_count": null,
      "metadata": {
        "colab": {
          "base_uri": "https://localhost:8080/",
          "height": 435
        },
        "id": "EBuR6K-2RRr6",
        "outputId": "b67945dd-a884-44d7-af56-bf5ebef059bc",
        "trusted": true
      },
      "outputs": [],
      "source": [
        "test_Survived_RFC = pd.Series(RFC_best.predict(test_df), name=\"RFC\")\n",
        "test_Survived_ExtC = pd.Series(ExtC_best.predict(test_df), name=\"ExtC\")\n",
        "test_Survived_SVMC = pd.Series(SVMC_best.predict(test_df), name=\"SVC\")\n",
        "test_Survived_AdaC = pd.Series(ada_best.predict(test_df), name=\"Ada\")\n",
        "test_Survived_GBC = pd.Series(GBC_best.predict(test_df), name=\"GBC\")\n",
        "\n",
        "\n",
        "# Concatenate all classifier results\n",
        "ensemble_results = pd.concat([test_Survived_RFC,test_Survived_ExtC,test_Survived_AdaC,test_Survived_GBC, test_Survived_SVMC],axis=1)\n",
        "\n",
        "\n",
        "g= sns.heatmap(ensemble_results.corr(),annot=True)"
      ]
    },
    {
      "cell_type": "code",
      "execution_count": null,
      "metadata": {
        "id": "IebbcM5TRRr9",
        "trusted": true
      },
      "outputs": [],
      "source": [
        "votingC = VotingClassifier(estimators=[('rfc', RFC_best), ('extc', ExtC_best),\n",
        "('svc', SVMC_best), ('adac',ada_best),('gbc',GBC_best)], voting='soft', n_jobs=4)\n",
        "\n",
        "votingC = votingC.fit(X_train, Y_train)"
      ]
    },
    {
      "cell_type": "code",
      "execution_count": null,
      "metadata": {
        "id": "6acIFACBRRsB",
        "trusted": true
      },
      "outputs": [],
      "source": [
        "test_Survived = pd.Series(votingC.predict(test_df), name=\"Survived\")\n",
        "\n",
        "results = pd.concat([Id_test,test_Survived],axis=1)\n",
        "\n",
        "results.to_csv(\"ensemble_python_voting.csv\",index=False)"
      ]
    },
    {
      "cell_type": "code",
      "execution_count": null,
      "metadata": {
        "id": "KhjwJFRnRRsH",
        "trusted": true
      },
      "outputs": [],
      "source": []
    }
  ],
  "metadata": {
    "colab": {
      "provenance": []
    },
    "kernelspec": {
      "display_name": "Python [conda env:lecto-gpu]",
      "language": "python",
      "name": "conda-env-lecto-gpu-py"
    },
    "language_info": {
      "codemirror_mode": {
        "name": "ipython",
        "version": 3
      },
      "file_extension": ".py",
      "mimetype": "text/x-python",
      "name": "python",
      "nbconvert_exporter": "python",
      "pygments_lexer": "ipython3",
      "version": "3.5.6"
    }
  },
  "nbformat": 4,
  "nbformat_minor": 0
}
