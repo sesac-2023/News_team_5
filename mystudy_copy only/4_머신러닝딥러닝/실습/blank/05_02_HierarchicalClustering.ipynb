{
  "cells": [
    {
      "attachments": {},
      "cell_type": "markdown",
      "metadata": {
        "id": "BXUtKtEslfe7"
      },
      "source": [
        "# 실습을 통해 계층적 클러스터링 모델 이해하기"
      ]
    },
    {
      "cell_type": "code",
      "execution_count": null,
      "metadata": {
        "id": "YcZyBtwtlfe-"
      },
      "outputs": [],
      "source": [
        "from scipy.cluster.hierarchy import linkage, dendrogram\n",
        "from sklearn.datasets import make_blobs\n",
        "import numpy as np\n",
        "import matplotlib.pyplot as plt"
      ]
    },
    {
      "cell_type": "code",
      "execution_count": null,
      "metadata": {
        "colab": {
          "base_uri": "https://localhost:8080/"
        },
        "id": "IUtVGw5SlffA",
        "outputId": "dbdc2638-4ab2-4276-f962-335a3b8ce203"
      },
      "outputs": [],
      "source": [
        "# 가상의 분류용 데이터를 만들기 때문에 x와 y값으로 리턴한다.\n",
        "\n",
        "X = make_blobs(n_samples=30, centers=1, cluster_std=0.5, random_state=30)\n",
        "X = X[0]\n",
        "X[:5]"
      ]
    },
    {
      "attachments": {},
      "cell_type": "markdown",
      "metadata": {
        "id": "Thy2DRXhF34l"
      },
      "source": [
        "https://docs.scipy.org/doc/scipy/reference/cluster.hierarchy.html"
      ]
    },
    {
      "cell_type": "code",
      "execution_count": null,
      "metadata": {
        "colab": {
          "base_uri": "https://localhost:8080/"
        },
        "id": "oLHWj-gilffD",
        "outputId": "3ac07c85-7ed6-40d5-d305-feafa3581e0b"
      },
      "outputs": [],
      "source": [
        "merge = linkage(X, method='complete')\n",
        "merge"
      ]
    },
    {
      "cell_type": "code",
      "execution_count": null,
      "metadata": {
        "colab": {
          "base_uri": "https://localhost:8080/",
          "height": 434
        },
        "id": "zO_0QsbulffE",
        "outputId": "f0df5a04-43d1-46bb-b41e-aeab52c581a0"
      },
      "outputs": [],
      "source": [
        "ax = plt.subplot(111)\n",
        "dendrogram(merge, leaf_font_size=8, orientation='right')\n",
        "ax.set_xlim(xmin=0.03)\n",
        "ax.set_xscale('log')\n",
        "plt.show()"
      ]
    },
    {
      "attachments": {},
      "cell_type": "markdown",
      "metadata": {
        "id": "r9DgCI8Pz1-f"
      },
      "source": [
        "출처 :\n",
        "https://scikit-learn.org/stable/auto_examples/cluster/plot_agglomerative_clustering_metrics.html#sphx-glr-auto-examples-cluster-plot-agglomerative-clustering-metrics-py\n"
      ]
    },
    {
      "cell_type": "code",
      "execution_count": null,
      "metadata": {
        "id": "e6g1ymNNoZIE"
      },
      "outputs": [],
      "source": [
        "AgglomerativeClustering?"
      ]
    },
    {
      "cell_type": "code",
      "execution_count": null,
      "metadata": {
        "colab": {
          "base_uri": "https://localhost:8080/",
          "height": 1000
        },
        "id": "rOyYlFKulffG",
        "outputId": "8423a8b3-6621-4a0f-e3d3-5a0113462d5e"
      },
      "outputs": [],
      "source": [
        "# Author: Gael Varoquaux\n",
        "# License: BSD 3-Clause or CC-0\n",
        "\n",
        "import matplotlib.pyplot as plt\n",
        "import numpy as np\n",
        "\n",
        "from sklearn.cluster import AgglomerativeClustering\n",
        "from sklearn.metrics import pairwise_distances\n",
        "\n",
        "np.random.seed(0)\n",
        "\n",
        "# Generate waveform data\n",
        "n_features = 2000\n",
        "t = np.pi * np.linspace(0, 1, n_features)\n",
        "\n",
        "\n",
        "def sqr(x):\n",
        "    return np.sign(np.cos(x))\n",
        "\n",
        "X = list()\n",
        "y = list()\n",
        "for i, (phi, a) in enumerate([(.5, .15), (.5, .6), (.3, .2)]):\n",
        "    for _ in range(30):\n",
        "        phase_noise = .01 * np.random.normal()\n",
        "        amplitude_noise = .04 * np.random.normal()\n",
        "        additional_noise = 1 - 2 * np.random.rand(n_features)\n",
        "        # Make the noise sparse\n",
        "        additional_noise[np.abs(additional_noise) < .997] = 0\n",
        "\n",
        "        X.append(12 * ((a + amplitude_noise)\n",
        "                 * (sqr(6 * (t + phi + phase_noise)))\n",
        "                 + additional_noise))\n",
        "        y.append(i)\n",
        "\n",
        "X = np.array(X)\n",
        "y = np.array(y)\n",
        "\n",
        "# 클러스터의 개수\n",
        "n_clusters = 3\n",
        "\n",
        "labels = ('Waveform 1', 'Waveform 2', 'Waveform 3')\n",
        "\n",
        "# Plot the ground-truth labelling\n",
        "plt.figure()\n",
        "plt.axes([0, 0, 1, 1])\n",
        "for l, c, n in zip(range(n_clusters), 'rgb',\n",
        "                   labels):\n",
        "    lines = plt.plot(X[y == l].T, c=c, alpha=.5)\n",
        "    lines[0].set_label(n)\n",
        "\n",
        "plt.legend(loc='best')\n",
        "\n",
        "plt.axis('tight')\n",
        "plt.axis('off')\n",
        "plt.suptitle(\"Ground truth\", size=20)\n",
        "\n",
        "\n",
        "# Plot the distances\n",
        "for index, metric in enumerate([\"cosine\", \"euclidean\", \"cityblock\"]):\n",
        "    avg_dist = np.zeros((n_clusters, n_clusters))\n",
        "    plt.figure(figsize=(5, 4.5))\n",
        "    for i in range(n_clusters):\n",
        "        for j in range(n_clusters):\n",
        "            avg_dist[i, j] = pairwise_distances(X[y == i], X[y == j],\n",
        "                                                metric=metric).mean()\n",
        "    avg_dist /= avg_dist.max()\n",
        "    for i in range(n_clusters):\n",
        "        for j in range(n_clusters):\n",
        "            plt.text(i, j, '%5.3f' % avg_dist[i, j],\n",
        "                     verticalalignment='center',\n",
        "                     horizontalalignment='center')\n",
        "\n",
        "    plt.imshow(avg_dist, interpolation='nearest', cmap=plt.cm.gnuplot2,\n",
        "               vmin=0)\n",
        "    plt.xticks(range(n_clusters), labels, rotation=45)\n",
        "    plt.yticks(range(n_clusters), labels)\n",
        "    plt.colorbar()\n",
        "    plt.suptitle(\"Interclass %s distances\" % metric, size=18)\n",
        "    plt.tight_layout()"
      ]
    },
    {
      "cell_type": "code",
      "execution_count": null,
      "metadata": {
        "colab": {
          "base_uri": "https://localhost:8080/",
          "height": 1000
        },
        "id": "2NXNaUmnzvqH",
        "outputId": "7d3d32d7-e072-4005-84e3-4034fc3a7f2d"
      },
      "outputs": [],
      "source": [
        "# Plot clustering results\n",
        "for _, metric in enumerate([\"cosine\", \"euclidean\", \"cityblock\"]):\n",
        "    model = AgglomerativeClustering(n_clusters=n_clusters,\n",
        "                                    linkage=\"average\", affinity=metric)\n",
        "    model.fit(X)\n",
        "\n",
        "    plt.figure()\n",
        "    plt.axes([0, 0, 1, 1])\n",
        "    for l, c in zip(np.arange(model.n_clusters), 'rgbk'):\n",
        "        plt.plot(X[model.labels_ == l].T, c=c, alpha=.5)\n",
        "    plt.axis('tight')\n",
        "    plt.suptitle(\"AgglomerativeClustering(affinity=%s)\" % metric, size=20)\n",
        "\n",
        "\n",
        "plt.show()"
      ]
    },
    {
      "cell_type": "code",
      "execution_count": null,
      "metadata": {
        "id": "6kImoD180i7m"
      },
      "outputs": [],
      "source": []
    }
  ],
  "metadata": {
    "colab": {
      "provenance": []
    },
    "kernelspec": {
      "display_name": "Python 3",
      "language": "python",
      "name": "python3"
    },
    "language_info": {
      "codemirror_mode": {
        "name": "ipython",
        "version": 3
      },
      "file_extension": ".py",
      "mimetype": "text/x-python",
      "name": "python",
      "nbconvert_exporter": "python",
      "pygments_lexer": "ipython3",
      "version": "3.7.1"
    }
  },
  "nbformat": 4,
  "nbformat_minor": 0
}
