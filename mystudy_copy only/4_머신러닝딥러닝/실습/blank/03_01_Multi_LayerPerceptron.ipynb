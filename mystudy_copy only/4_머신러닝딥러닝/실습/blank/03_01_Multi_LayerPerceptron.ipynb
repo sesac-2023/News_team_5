{
  "cells": [
    {
      "cell_type": "code",
      "execution_count": null,
      "metadata": {
        "colab": {
          "base_uri": "https://localhost:8080/"
        },
        "id": "3fetnEr4BJKZ",
        "outputId": "c6e4f9dc-5d1b-4a6b-e339-2c3cf44ada99"
      },
      "outputs": [],
      "source": [
        "pip install mglearn"
      ]
    },
    {
      "cell_type": "code",
      "execution_count": null,
      "metadata": {
        "id": "6jJlbdOu5XV9"
      },
      "outputs": [],
      "source": [
        "from sklearn.neural_network import MLPClassifier"
      ]
    },
    {
      "cell_type": "code",
      "execution_count": null,
      "metadata": {
        "colab": {
          "base_uri": "https://localhost:8080/",
          "height": 430
        },
        "id": "UOG0Z4Gx5XWB",
        "outputId": "64b88450-ea17-401a-8de7-dd2bfdf7c9d7"
      },
      "outputs": [],
      "source": [
        "import numpy as np\n",
        "from matplotlib import pyplot as plt\n",
        "import mglearn\n",
        "\n",
        "#200개의 데이터, feature = 2개\n",
        "np.random.seed(30)\n",
        "X = np.random.randn(100, 2)\n",
        "y = np.logical_xor(X[:, 0]>0, X[:, 1]>0)\n",
        "y = np.where(y, 1, -1)\n",
        "mglearn.discrete_scatter(X[:, 0], X[:, 1], y)\n",
        "plt.show()"
      ]
    },
    {
      "cell_type": "code",
      "execution_count": null,
      "metadata": {
        "id": "BFBVmfWu5XWE"
      },
      "outputs": [],
      "source": [
        "from sklearn.model_selection import train_test_split\n",
        "\n",
        "X_train, X_test, y_train, y_test = train_test_split(X, y,\n",
        "                                                   test_size=0.2,\n",
        "                                                   shuffle=True)"
      ]
    },
    {
      "attachments": {},
      "cell_type": "markdown",
      "metadata": {
        "id": "ckEjCNaLPOWN"
      },
      "source": [
        "직접 해보세요.  \n",
        "1번째 은닉층 : 노드 10개  \n",
        "2번째 은닉층 : 노드 5개  \n",
        "3번째 은닉층 : 노드 3개"
      ]
    },
    {
      "cell_type": "code",
      "execution_count": null,
      "metadata": {
        "id": "bN7dV4JO5XWF"
      },
      "outputs": [],
      "source": [
        "model_pctr = MLPClassifier(hidden_layer_sizes=(  ), max_iter=int(1e+05)) # 다층 퍼셉트론"
      ]
    },
    {
      "cell_type": "code",
      "execution_count": null,
      "metadata": {
        "colab": {
          "base_uri": "https://localhost:8080/",
          "height": 75
        },
        "id": "YTN17jVK5XWH",
        "outputId": "df99e93f-72d7-4026-8782-2bc6e2d0bbb8"
      },
      "outputs": [],
      "source": [
        "model_pctr.fit(X_train, y_train)"
      ]
    },
    {
      "cell_type": "code",
      "execution_count": null,
      "metadata": {
        "colab": {
          "base_uri": "https://localhost:8080/"
        },
        "id": "-VLYqSam5XWL",
        "outputId": "a73d5798-d867-4205-8b31-4255464cab7c"
      },
      "outputs": [],
      "source": [
        "model_pctr.score(X_train, y_train)"
      ]
    },
    {
      "cell_type": "code",
      "execution_count": null,
      "metadata": {
        "colab": {
          "base_uri": "https://localhost:8080/"
        },
        "id": "IfVJuqg95XWJ",
        "outputId": "96162a76-f8a2-4d41-adec-e061e0bb0151"
      },
      "outputs": [],
      "source": [
        "model_pctr.score(X_test, y_test)"
      ]
    },
    {
      "attachments": {},
      "cell_type": "markdown",
      "metadata": {
        "id": "WUmocY1h5XWS"
      },
      "source": [
        "#### parameter\n",
        "- activation  \n",
        "1) default : relu  \n",
        "2) logistic (sigmoid)  \n",
        "3) tanh (sigmoid 일종)  \n",
        "4) indentity : linear  \n",
        "\n",
        "- solver\n",
        "1) default : adam  \n",
        "2) lbfgs  \n",
        "3) sgd : stochastic(확률적) gradient decent  \n",
        "\n",
        "- alpha : l2 norm 규제 정도 (Ridge regression과 동일)\n",
        "\n",
        "- tol : cost 가 학습을 멈추는 기준 값 (cost = tol 일 될때까지)\n",
        "\n",
        "- max_iter : optimizing 최대 반복 수"
      ]
    },
    {
      "cell_type": "code",
      "execution_count": null,
      "metadata": {
        "colab": {
          "base_uri": "https://localhost:8080/"
        },
        "id": "RfgAebwn5XWU",
        "outputId": "4c6476a1-18e9-4ce4-f35c-0c63a47a4446"
      },
      "outputs": [],
      "source": [
        "model_pctr.coefs_, model_pctr.intercepts_"
      ]
    },
    {
      "cell_type": "code",
      "execution_count": null,
      "metadata": {
        "colab": {
          "base_uri": "https://localhost:8080/"
        },
        "id": "JdGW6KS45XWW",
        "outputId": "7b8a5563-9a4b-43c7-d6dc-75d08ac530d6",
        "scrolled": true
      },
      "outputs": [],
      "source": [
        "#각 층의 coef 개수\n",
        "for i, coef in enumerate(model_pctr.coefs_):\n",
        "    print('hidden_layer_{}_weight_no: {}'.format(i, coef.shape))"
      ]
    },
    {
      "attachments": {},
      "cell_type": "markdown",
      "metadata": {
        "id": "ikfU3LEeU7N5"
      },
      "source": [
        "총 weight 의 개수는 ?  \n",
        "coef_ 몇 개인가?  \n",
        "intercept_ 몇 개인가?  \n",
        "\n",
        "  각 층마다의 coef_ intercept 는 몇개씩인가?\n",
        "\n",
        "출력해보세요."
      ]
    },
    {
      "cell_type": "code",
      "execution_count": null,
      "metadata": {
        "colab": {
          "base_uri": "https://localhost:8080/"
        },
        "id": "i3pM-xdwYCLs",
        "outputId": "d0ae5a32-d4ee-42eb-de52-f3df28557337"
      },
      "outputs": [],
      "source": [
        "model_pctr.intercepts_[0].shape"
      ]
    },
    {
      "cell_type": "code",
      "execution_count": null,
      "metadata": {},
      "outputs": [],
      "source": [
        "## 여기에서 코드를 작성해보세요."
      ]
    },
    {
      "cell_type": "code",
      "execution_count": null,
      "metadata": {
        "id": "U9DTwy7m5XWj"
      },
      "outputs": [],
      "source": [
        "#graph, dataset 확장 패키지\n",
        "def result_visualization(model, X, y):\n",
        "    mglearn.plots.plot_2d_separator(model, X,\n",
        "                                    fill=True, alpha=.1)\n",
        "    mglearn.discrete_scatter(X[:, 0], X[:, 1], y)"
      ]
    },
    {
      "cell_type": "code",
      "execution_count": null,
      "metadata": {
        "colab": {
          "base_uri": "https://localhost:8080/",
          "height": 406
        },
        "id": "sA9bTGnn5XWk",
        "outputId": "719eca28-6bc5-473b-fe32-c6ee33777e5d"
      },
      "outputs": [],
      "source": [
        "result_visualization(model_pctr, X_train, y_train)"
      ]
    },
    {
      "cell_type": "code",
      "execution_count": null,
      "metadata": {
        "colab": {
          "base_uri": "https://localhost:8080/",
          "height": 406
        },
        "id": "mVRD3WOyBZQw",
        "outputId": "bd3f71d0-bb59-4f60-cb8b-bb9a8d5cd792"
      },
      "outputs": [],
      "source": [
        "result_visualization(model_pctr, X_test, y_test)"
      ]
    },
    {
      "attachments": {},
      "cell_type": "markdown",
      "metadata": {
        "id": "1K8sE1KXcNTA"
      },
      "source": [
        "사람 얼굴 인식 문제"
      ]
    },
    {
      "cell_type": "code",
      "execution_count": null,
      "metadata": {
        "id": "hFxd50oUls0l"
      },
      "outputs": [],
      "source": [
        "from sklearn.datasets import fetch_olivetti_faces"
      ]
    },
    {
      "cell_type": "code",
      "execution_count": null,
      "metadata": {
        "colab": {
          "base_uri": "https://localhost:8080/"
        },
        "id": "-QBfp-X6dCaL",
        "outputId": "c36da1da-d0f7-48ac-a55f-174755915ba7"
      },
      "outputs": [],
      "source": [
        "face_data = fetch_olivetti_faces()\n",
        "print(face_data.DESCR)"
      ]
    },
    {
      "cell_type": "code",
      "execution_count": null,
      "metadata": {
        "colab": {
          "base_uri": "https://localhost:8080/"
        },
        "id": "GdwbTKxldQBS",
        "outputId": "324e8bb5-17cf-4e0e-d45f-f07788ecbba9"
      },
      "outputs": [],
      "source": [
        "face_data.keys()"
      ]
    },
    {
      "cell_type": "code",
      "execution_count": null,
      "metadata": {
        "colab": {
          "base_uri": "https://localhost:8080/"
        },
        "id": "-YH2fkmvdqLo",
        "outputId": "31e1226d-b597-47e7-c4bf-84498b1b3cfa"
      },
      "outputs": [],
      "source": [
        "face_data.data.shape"
      ]
    },
    {
      "cell_type": "code",
      "execution_count": null,
      "metadata": {
        "colab": {
          "base_uri": "https://localhost:8080/"
        },
        "id": "GRBJoEIMdtxU",
        "outputId": "73d16b43-7ab7-487e-8d11-1d57d1b7b28e"
      },
      "outputs": [],
      "source": [
        "face_data.images.shape"
      ]
    },
    {
      "cell_type": "code",
      "execution_count": null,
      "metadata": {
        "colab": {
          "base_uri": "https://localhost:8080/"
        },
        "id": "f6IQ1pvjd4Va",
        "outputId": "ae17f856-df45-4fd3-f3dc-197fb1af3e62"
      },
      "outputs": [],
      "source": [
        "face_data.target.shape"
      ]
    },
    {
      "attachments": {},
      "cell_type": "markdown",
      "metadata": {
        "id": "XiLeyVdNeDj6"
      },
      "source": [
        "1) 데이터의 총 개수는?\n",
        "2) 하나의 데이터가 갖고 있는 X_feature의 개수는?\n",
        "3) 다중 클래스 문제인가?\n",
        "4) 클래스의 개수는?"
      ]
    },
    {
      "attachments": {},
      "cell_type": "markdown",
      "metadata": {
        "id": "JBiSL5EvfIPd"
      },
      "source": [
        "- 여기에 답변을 작성하세요"
      ]
    },
    {
      "attachments": {},
      "cell_type": "markdown",
      "metadata": {
        "id": "70HJNic9fOVZ"
      },
      "source": [
        "1) 적정한 층 수는?\n",
        "2) 각 층의 노드는 몇 개가 적당한가?\n",
        "3) 총 가중치의 개수는? (coef + weight)"
      ]
    },
    {
      "cell_type": "code",
      "execution_count": null,
      "metadata": {
        "id": "CSBlixtafmJI"
      },
      "outputs": [],
      "source": [
        "from sklearn.neural_network import MLPClassifier"
      ]
    },
    {
      "cell_type": "code",
      "execution_count": null,
      "metadata": {
        "id": "7_-8bZpBmRcp"
      },
      "outputs": [],
      "source": [
        "# 모델 선택\n",
        "model = MLPClassifier(hidden_layer_sizes=([80, 40]))"
      ]
    },
    {
      "cell_type": "code",
      "execution_count": null,
      "metadata": {
        "id": "eg74oLQqnS8d"
      },
      "outputs": [],
      "source": [
        "from sklearn.model_selection import train_test_split"
      ]
    },
    {
      "cell_type": "code",
      "execution_count": null,
      "metadata": {
        "id": "lWaCaP8TnV8u"
      },
      "outputs": [],
      "source": [
        "X_train, X_test, y_train, y_test = train_test_split(face_data.data, face_data.target)"
      ]
    },
    {
      "cell_type": "code",
      "execution_count": null,
      "metadata": {
        "colab": {
          "base_uri": "https://localhost:8080/",
          "height": 111
        },
        "id": "ztjEXleUnJah",
        "outputId": "8597199c-3d69-4f86-eda1-0bbf52232bff"
      },
      "outputs": [],
      "source": [
        "model.fit(X_train, y_train)"
      ]
    },
    {
      "cell_type": "code",
      "execution_count": null,
      "metadata": {
        "colab": {
          "base_uri": "https://localhost:8080/"
        },
        "id": "LbJKrNJqnj3p",
        "outputId": "ccc2871a-f995-435d-c192-ba6b5e49a3c9"
      },
      "outputs": [],
      "source": [
        "model.score(X_train, y_train)"
      ]
    },
    {
      "cell_type": "code",
      "execution_count": null,
      "metadata": {
        "colab": {
          "base_uri": "https://localhost:8080/"
        },
        "id": "N2jEa6RImsK1",
        "outputId": "cec50a75-3281-4b43-8574-d29d4ab10efd"
      },
      "outputs": [],
      "source": [
        "model.score(X_test, y_test)"
      ]
    },
    {
      "cell_type": "code",
      "execution_count": null,
      "metadata": {
        "id": "x6Xf8MvOnEeo"
      },
      "outputs": [],
      "source": []
    }
  ],
  "metadata": {
    "colab": {
      "provenance": []
    },
    "kernelspec": {
      "display_name": "Python 3",
      "language": "python",
      "name": "python3"
    },
    "language_info": {
      "codemirror_mode": {
        "name": "ipython",
        "version": 3
      },
      "file_extension": ".py",
      "mimetype": "text/x-python",
      "name": "python",
      "nbconvert_exporter": "python",
      "pygments_lexer": "ipython3",
      "version": "3.7.3"
    }
  },
  "nbformat": 4,
  "nbformat_minor": 0
}
