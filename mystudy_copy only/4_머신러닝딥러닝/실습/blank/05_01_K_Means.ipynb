{
  "cells": [
    {
      "attachments": {},
      "cell_type": "markdown",
      "metadata": {
        "id": "bhWA4kJcBKVZ"
      },
      "source": [
        "# 실습을 통해 K-Means Clustering 모델 이해하기"
      ]
    },
    {
      "cell_type": "code",
      "execution_count": null,
      "metadata": {
        "id": "6AIHecsVBKVg"
      },
      "outputs": [],
      "source": [
        "from sklearn.cluster import KMeans\n",
        "from sklearn.datasets import make_blobs\n",
        "\n",
        "import matplotlib.pyplot as plt\n",
        "import numpy as np"
      ]
    },
    {
      "attachments": {},
      "cell_type": "markdown",
      "metadata": {
        "id": "nsmdfQWWBKVo"
      },
      "source": [
        "## 가상의 데이터 생성\n",
        "* 분류용 데이터 생성 메서드를 이용해서 label이 없는 데이터를 생성하였다."
      ]
    },
    {
      "cell_type": "code",
      "execution_count": null,
      "metadata": {
        "colab": {
          "base_uri": "https://localhost:8080/"
        },
        "id": "J_qEHTDvBKVq",
        "outputId": "59d75e4a-858f-41d5-b31d-59b54ce61824"
      },
      "outputs": [],
      "source": [
        "input_feature, _ = make_blobs(n_samples=200, centers=2, cluster_std=0.5, random_state=30) #데이터, #중심값\n",
        "# print(input_feature)\n",
        "input_feature[:5]"
      ]
    },
    {
      "cell_type": "code",
      "execution_count": null,
      "metadata": {
        "colab": {
          "base_uri": "https://localhost:8080/",
          "height": 430
        },
        "id": "n09l6Z8tBKV3",
        "outputId": "0eac58d8-777a-4665-fa9b-688d15cb0f53"
      },
      "outputs": [],
      "source": [
        "plt.scatter(input_feature[:, 0], input_feature[:, 1], c='blue', edgecolor='k', lw=0.5)\n",
        "plt.show()"
      ]
    },
    {
      "attachments": {},
      "cell_type": "markdown",
      "metadata": {
        "id": "YJULpHZiBSdN"
      },
      "source": [
        "**[잠깐! 상식 - 1]**  \n",
        "**plt.scatter 함수에 대해 알아보자**  \n",
        ".  \n",
        "plt.scatter( A , B , ... )  \n",
        ".  \n",
        "scatter 는 산점도를 그려주는 함수다.  \n",
        "plt.scatter(A, B)를 하면, 좌표 (A, B) 에 점을 찍어준다는 의미다.  \n",
        "예) plt.scatter(1, 2) 라고 한다면, 좌표 (1, 2) 에 점을 하나 찍는다.  \n",
        ".  \n",
        "그럼 동시에 여러개의 점을 찍고 싶다면?  \n",
        "예를 들어, 좌표 (1, 2) , 좌표 (3, 1), 좌표 (4, 3) 세 개의 점을 한번에 찍고 싶다면  \n",
        "아래와 같이 A 자리에 [1, 3, 4], B 자리에 [2, 1, 3]을 작성해주면 된다.  \n",
        ".  \n",
        "plt.scatter([1, 3, 4], [2, 1, 3])"
      ]
    },
    {
      "cell_type": "code",
      "execution_count": null,
      "metadata": {},
      "outputs": [],
      "source": []
    },
    {
      "attachments": {},
      "cell_type": "markdown",
      "metadata": {
        "id": "onwxGJOtE4QS"
      },
      "source": [
        "**[잠깐! 상식 - 2]**  \n",
        "**numpy array를 알아보자.**  \n",
        "\n",
        "위에서 input_feature 와 같이 여러 숫자를 array[ ] 형식으로 담고 있는 데이터 형식이 바로 numpy의 array다.  \n",
        ".  \n",
        "그럼 예를 들어,  \n",
        "A = array([[1, 2],  \n",
        "           [3, 4],  \n",
        "           [5, 6]])  \n",
        "           와 같은 array가 있을 때,  \n",
        "           1, 3, 5만 지정하고 싶다면 어떻게 해야할까?  \n",
        ".  \n",
        "우선 A[0] = [1, 2],  \n",
        "    A[1] = [3, 4],  \n",
        "    A[2] = [5, 6] 이다.  \n",
        ".  \n",
        "그럼, A[0, 0] = 1,  \n",
        "     A[1, 0] = 3,  \n",
        "     A[2, 0] = 5 다.  \n",
        "(여기까지를 Indexing 이라고 말한다.)  \n",
        ".  \n",
        "자 이제, A[0, 0], A[1, 0], A[2, 0]을 한번에 표현하는 법만 알면된다.  \n",
        ".  \n",
        "A[:, 0] 이렇게 표현하면 된다.(이를 Slicing이라고 한다.)  \n",
        "1, 3 <= A[:2, 0],  \n",
        "3, 5 <= A[1:, 0]라고 표현할 수 있다."
      ]
    },
    {
      "attachments": {},
      "cell_type": "markdown",
      "metadata": {
        "id": "bfNovIxfBKV_"
      },
      "source": [
        "## KMeans (초기화 = random)"
      ]
    },
    {
      "cell_type": "code",
      "execution_count": null,
      "metadata": {
        "colab": {
          "base_uri": "https://localhost:8080/"
        },
        "id": "XQH8BI3-BKWB",
        "outputId": "f437900b-ee01-4752-999e-31193fcd0683"
      },
      "outputs": [],
      "source": [
        "model_r = KMeans(n_clusters=3, init=\"random\").fit(input_feature)"
      ]
    },
    {
      "attachments": {},
      "cell_type": "markdown",
      "metadata": {
        "id": "NfG-VdbcBKWJ"
      },
      "source": [
        "Attributes of sklearn.clustering.KMeans\n",
        "\n",
        "- cluster__centers_ : Coordinates of cluster centers\n",
        "\n",
        "- labels_ : Labels of each point\n",
        "\n",
        "- inertia_ : Sum of squared distances of samples to their closest cluster center.\n",
        "\n",
        "- n__iter_ : Number of iterations run."
      ]
    },
    {
      "cell_type": "code",
      "execution_count": null,
      "metadata": {
        "colab": {
          "base_uri": "https://localhost:8080/"
        },
        "id": "mlvI_AuVBKWL",
        "outputId": "3385aa4c-bf36-4326-f98e-3f276c86a414"
      },
      "outputs": [],
      "source": [
        "# center = np.zeros([3, 2])\n",
        "center = model_r.cluster_centers_\n",
        "center"
      ]
    },
    {
      "cell_type": "code",
      "execution_count": null,
      "metadata": {
        "id": "3YmxX2WSBKWV"
      },
      "outputs": [],
      "source": [
        "c0 = center[0]\n",
        "c1 = center[1]\n",
        "c2 = center[2]"
      ]
    },
    {
      "attachments": {},
      "cell_type": "markdown",
      "metadata": {
        "id": "pdlEdbwMImif"
      },
      "source": [
        "**그럼 이제, 데이터가 클러스터링된 결과를 시각화해서 확인해보자**  \n",
        ".  \n",
        "plt.scatter(cluster_0 에 속한 데이터만, 초록색(g)으로)  \n",
        "plt.scatter(cluster_1 에 속한 데이터만, 빨간색(r)으로)  \n",
        "plt.scatter(cluster_2 에 속한 데이터만, 파란색(b)으로)  \n",
        ".  \n",
        "plt.scatter(cluster_0 중심값, size는 200으로) # 기본값 = 100  \n",
        "plt.scatter(cluster_1 중심값, size는 200으로) # 기본값 = 100  \n",
        "plt.scatter(cluster_2 중심값, size는 200으로) # 기본값 = 100"
      ]
    },
    {
      "cell_type": "code",
      "execution_count": null,
      "metadata": {
        "colab": {
          "base_uri": "https://localhost:8080/",
          "height": 430
        },
        "id": "MPy2QmiTBKWb",
        "outputId": "4443404f-4ce2-4309-d599-1b9a70ef6c69"
      },
      "outputs": [],
      "source": [
        "plt.scatter(input_feature[model_r.labels_ == 0, 0], input_feature[model_r.labels_ == 0, 1], marker='o', c='g', edgecolor='k', lw=0.5)\n",
        "plt.scatter(input_feature[model_r.labels_ == 1, 0], input_feature[model_r.labels_ == 1, 1], marker='o', c='r', edgecolor='k', lw=0.5)\n",
        "plt.scatter(input_feature[model_r.labels_ == 2, 0], input_feature[model_r.labels_ == 2, 1], marker='o', c='b', edgecolor='k', lw=0.5)\n",
        "plt.scatter(c0[0], c0[1], s=200, c=\"g\", edgecolor='k', lw=1)\n",
        "plt.scatter(c1[0], c1[1], s=200, c=\"r\", edgecolor='k', lw=1)\n",
        "plt.scatter(c2[0], c2[1], s=200, c=\"b\", edgecolor='k', lw=1)\n",
        "plt.show()"
      ]
    },
    {
      "attachments": {},
      "cell_type": "markdown",
      "metadata": {
        "id": "75twW8ySBKWi"
      },
      "source": [
        "## 초기화를 K-Means++로 수정해보자."
      ]
    },
    {
      "cell_type": "code",
      "execution_count": null,
      "metadata": {
        "colab": {
          "base_uri": "https://localhost:8080/"
        },
        "id": "x0QcF935BKWn",
        "outputId": "87fbbe8c-59c8-463e-9783-cfb2c097f0a0"
      },
      "outputs": [],
      "source": [
        "model_pp = KMeans(n_clusters=3, init=\"k-means++\").fit(input_feature)"
      ]
    },
    {
      "cell_type": "code",
      "execution_count": null,
      "metadata": {
        "colab": {
          "base_uri": "https://localhost:8080/",
          "height": 430
        },
        "id": "2uYCcgpjKKVp",
        "outputId": "d8d17da1-1ef0-49c6-f208-e9ad5581e21d"
      },
      "outputs": [],
      "source": [
        "plt.scatter(input_feature[model_r.labels_ == 0, 0], input_feature[model_r.labels_ == 0, 1], marker='o', c='g', edgecolor='k', lw=0.5)\n",
        "plt.scatter(input_feature[model_r.labels_ == 1, 0], input_feature[model_r.labels_ == 1, 1], marker='o', c='r', edgecolor='k', lw=0.5)\n",
        "plt.scatter(input_feature[model_r.labels_ == 2, 0], input_feature[model_r.labels_ == 2, 1], marker='o', c='b', edgecolor='k', lw=0.5)\n",
        "plt.show()"
      ]
    },
    {
      "attachments": {},
      "cell_type": "markdown",
      "metadata": {
        "id": "cOJe5A9DKMEJ"
      },
      "source": [
        "## K-Means의 적정 K를 판단하는 방법은 없을까?\n",
        "\n",
        "K-Means는 처음에 클러스터의 갯수를 사람이 직접 설정해줘야하는 제약이 있다.  \n",
        "그럼, 가장 적합한 K는 어떻게 판단할 수 있을까?\n",
        "\n",
        "물론, 정성적으로 판단해서 정하기도 하지만,  \n",
        "Sklearn에서 적정 K를 판단해주는 척도도 제공한다.\n",
        "\n",
        "바로, 위에서 언급했던 Attributes 중 inertia_라는 값이다.\n",
        "\n",
        "inertia = Sum of squared distances of samples to their closest cluster center(자신의 클러스터 중심점과 데이터(samples) 간의 거리의 합)\n",
        "\n",
        "즉, 각 클러스터가 데이터와 중심점이 얼마나 가까이 붙어있는가를 의미하는 값이다.\n",
        "\n",
        "중심점과 데이터가 가까이 붙어있을수록 클러스터의 응집도가 높다고 볼 수 있다.  \n",
        "이 응집도를 클러스터의 평가 척도로 사용할 수 있다.\n",
        "\n",
        "하지만, inertia 값은 본질 상, 클러스터가 커질수록 값이 작아지므로,  \n",
        "클러스터 수에 대한 inertia값의 추세를 보고 적절한 K를 선택해야한다.\n"
      ]
    },
    {
      "cell_type": "code",
      "execution_count": null,
      "metadata": {
        "colab": {
          "base_uri": "https://localhost:8080/"
        },
        "id": "67TWTKspKrkK",
        "outputId": "ae33808a-5e5e-4897-b8fa-102f5495634c"
      },
      "outputs": [],
      "source": [
        "model_r.inertia_"
      ]
    },
    {
      "attachments": {},
      "cell_type": "markdown",
      "metadata": {
        "id": "m16kOhAHMLeI"
      },
      "source": [
        "그럼, K 를 바꿔보면서 inertia_값의 변화를 한번 살펴보자."
      ]
    },
    {
      "cell_type": "code",
      "execution_count": null,
      "metadata": {
        "colab": {
          "base_uri": "https://localhost:8080/",
          "height": 692
        },
        "id": "1DQf0Z_CMY2b",
        "outputId": "ec3d12eb-da49-4e79-f6ff-a9aae89ccc11"
      },
      "outputs": [],
      "source": [
        "set_k = [k for k in range(2, 8)]\n",
        "set_inertia = []\n",
        "for k in set_k:\n",
        "    model = KMeans(n_clusters=k)\n",
        "    model.fit(input_feature)\n",
        "\n",
        "    set_inertia.append(model.inertia_)\n",
        "\n",
        "plt.plot(set_k, set_inertia, '-o')\n",
        "\n",
        "plt.title('Relationship of Num.Cluster and inertia')\n",
        "plt.xlabel('Num.Cluster')\n",
        "plt.ylabel('inertia')\n",
        "plt.xticks(set_k)\n",
        "plt.grid()\n",
        "plt.show()"
      ]
    },
    {
      "attachments": {},
      "cell_type": "markdown",
      "metadata": {
        "id": "fE4S9KMlNexg"
      },
      "source": [
        "## 데이터의 개수가 많으면, K-Means의 수행 시간은 어떻게 달라질까?\n",
        "\n",
        "데이터가 매우 커지지 않는 이상, 큰 차이는 나지 않습니다.\n",
        "\n",
        "**[잠깐! 상식]**  \n",
        "코드 수행 시간을 체크할 때, 보통 time 패키지를 사용합니다.  \n",
        "time.time() 은 해당 현재 시각을 반환해주는 함수로서,  \n",
        "이 함수를 수행시간을 체크해볼 코드 앞뒤에 넣어서 시각의 차이를 계산함으로써, 수행시간을 체크합니다."
      ]
    },
    {
      "cell_type": "code",
      "execution_count": null,
      "metadata": {
        "colab": {
          "base_uri": "https://localhost:8080/"
        },
        "id": "S9wHugBgV2Lh",
        "outputId": "41749e1c-9953-450b-aecb-2399f4c6da2c"
      },
      "outputs": [],
      "source": [
        "import time\n",
        "\n",
        "start = time.time()\n",
        "model_r = KMeans(n_clusters=3, init=\"random\").fit(input_feature)\n",
        "end = time.time()\n",
        "\n",
        "end - start"
      ]
    },
    {
      "cell_type": "code",
      "execution_count": null,
      "metadata": {
        "id": "OEJ12LKFS1dk"
      },
      "outputs": [],
      "source": [
        "input_expended, _ = make_blobs(n_samples=200000, centers=1, cluster_std=0.5, random_state=30)"
      ]
    },
    {
      "cell_type": "code",
      "execution_count": null,
      "metadata": {
        "colab": {
          "base_uri": "https://localhost:8080/"
        },
        "id": "LPnDzVDjS2ag",
        "outputId": "a23bdab9-543a-44e4-f7e6-8e2aac9c5c7b"
      },
      "outputs": [],
      "source": [
        "start = time.time()\n",
        "model_r = KMeans(n_clusters=3, init=\"random\").fit(input_expended)\n",
        "end = time.time()\n",
        "\n",
        "end - start"
      ]
    },
    {
      "attachments": {},
      "cell_type": "markdown",
      "metadata": {
        "id": "q2hONiBTWCE0"
      },
      "source": [
        "## K-Means 외의 다른 Clustering 방법론은 뭐가 있을까?\n",
        "\n",
        "기본적인 K-Means 외에도 K-Means를 보완한 버전의 모델이 여러가지 있습니다.\n",
        ".\n",
        "또한, K-Means와 다른 방식으로 클러스터링을 하는 모델도 여러가지 있습니다.\n",
        "계층적클러스터링, DBSCAN, Spectral Clustering 등이 있습니다.\n"
      ]
    },
    {
      "attachments": {},
      "cell_type": "markdown",
      "metadata": {
        "id": "OeZk5AibhIpi"
      },
      "source": [
        "## 그럼, 이러한 다양한 선택지 가운데, 어떤 것을 선택해야 할까?\n",
        "\n",
        "기본적으로 각 방법론마다 궁합(?)이 맞는 특정 데이터 조건들이 있습니다.\n",
        "\n",
        "자세한 내용은 직접 페이지에 들어가서 살펴봅시다.  \n",
        "https://scikit-learn.org/stable/modules/clustering.html"
      ]
    }
  ],
  "metadata": {
    "colab": {
      "provenance": []
    },
    "kernelspec": {
      "display_name": "Python 3",
      "language": "python",
      "name": "python3"
    },
    "language_info": {
      "codemirror_mode": {
        "name": "ipython",
        "version": 3
      },
      "file_extension": ".py",
      "mimetype": "text/x-python",
      "name": "python",
      "nbconvert_exporter": "python",
      "pygments_lexer": "ipython3",
      "version": "3.7.1"
    }
  },
  "nbformat": 4,
  "nbformat_minor": 0
}
