{
  "cells": [
    {
      "cell_type": "code",
      "execution_count": null,
      "metadata": {
        "id": "NKexMbdNy_XE"
      },
      "outputs": [],
      "source": [
        "# Colab 한글 깨짐 해결 위한 폰트 설치\n",
        "!sudo apt-get install -y fonts-nanum\n",
        "!sudo fc-cache -fv\n",
        "!rm ~/.cache/matplotlib -rf\n",
        "\n",
        "# 런타임 재시작 !"
      ]
    },
    {
      "cell_type": "code",
      "execution_count": null,
      "metadata": {
        "id": "mZ2P0sGIMs8G"
      },
      "outputs": [],
      "source": [
        "# matplotlib 설정\n",
        "import matplotlib.pyplot as plt\n",
        "%matplotlib inline\n",
        "plt.rc('font', family='NanumBarunGothic')\n",
        "plt.rcParams['axes.unicode_minus'] = False\n",
        "\n",
        "import warnings\n",
        "warnings.filterwarnings('ignore')\n",
        "\n",
        "import numpy as np"
      ]
    },
    {
      "attachments": {},
      "cell_type": "markdown",
      "metadata": {
        "id": "41HA0ODrMs8L"
      },
      "source": [
        "# LightGBM"
      ]
    },
    {
      "attachments": {},
      "cell_type": "markdown",
      "metadata": {
        "id": "j8wdtDlHMs8L"
      },
      "source": [
        "- LightGBM 역시 사이킷런에서 제공하지 않기 떄문에 별도의 설치가 필요하다.\n",
        "- https://lightgbm.readthedocs.io/en/latest/index.html (LightGBM 공식문서)를 참고하여 설치"
      ]
    },
    {
      "attachments": {},
      "cell_type": "markdown",
      "metadata": {
        "id": "CGsLBMaUMs8M"
      },
      "source": [
        "- LightGBM은 XGBoost보다 더 빠른 연산이 가능하고 메모리도 적게 사용한다 그러한 측면에서 대용량 데이터 셋에서 효율적이다. 그러나 너무 작은 데이터 셋에서는 과적합 될 우려가 높으니 주의하자."
      ]
    },
    {
      "cell_type": "code",
      "execution_count": null,
      "metadata": {
        "id": "L_D3TMl0Ms8N",
        "scrolled": true
      },
      "outputs": [],
      "source": [
        "import lightgbm as lgb\n",
        "lgb_model = lgb.LGBMClassifier()"
      ]
    },
    {
      "attachments": {},
      "cell_type": "markdown",
      "metadata": {
        "id": "FTcRubikMs8P"
      },
      "source": [
        "### LightGBM의 파라미터\n",
        "- xgboost의 파라미터와 거의 동일하다.\n",
        "- max_depth : 트리의 깊이를 조정하는 파라미터\n",
        "- n_estimators : 반복할 결정 트리의 개수\n",
        "- learning_rate : 학습기 마다 가중치를 얼마나 줄 것인지를 설정하는 파라미터\n",
        "- boosting_type : xgboost의 booster파라미터와 같은 역할을 하지만 지원하는 모델이 다르다, gbdt(Gradient Boosted Decision Trees), rf(Random Forest), dart, goss(Gradient-based One-Sied Sampling)가 있다.\n",
        "    - goss는 계산속도를 줄여 주지만 예측력에서 손실이 있을 수 있다.\n",
        "- reg_alpha : L1 규제\n",
        "- reg_lambda : L2 규제"
      ]
    },
    {
      "cell_type": "code",
      "execution_count": null,
      "metadata": {
        "colab": {
          "base_uri": "https://localhost:8080/",
          "height": 75
        },
        "id": "zat8lqZvMs8Q",
        "outputId": "e297694f-852e-4175-a970-c34bf9a7d03a"
      },
      "outputs": [],
      "source": [
        "lgb_model"
      ]
    },
    {
      "cell_type": "code",
      "execution_count": null,
      "metadata": {
        "id": "iYmewtNuMs8U"
      },
      "outputs": [],
      "source": [
        "from sklearn.datasets import load_breast_cancer\n",
        "from sklearn.model_selection import train_test_split\n",
        "\n",
        "cancer = load_breast_cancer()\n",
        "\n",
        "X_train, X_test, y_train, y_test = train_test_split(cancer.data, cancer.target,\n",
        "                                                   stratify = cancer.target,\n",
        "                                                   shuffle = True)\n",
        "\n",
        "lgb_model = lgb.LGBMClassifier(max_depth=3, n_estimators=9,\n",
        "                               learning_rate=0.1).fit(X_train, y_train)"
      ]
    },
    {
      "cell_type": "code",
      "execution_count": null,
      "metadata": {
        "colab": {
          "base_uri": "https://localhost:8080/"
        },
        "id": "R3DcEbNzMs8W",
        "outputId": "b06be989-d850-42ec-db06-07e23ec7f898"
      },
      "outputs": [],
      "source": [
        "print('train score : {:.3f}'.format(lgb_model.score(X_train, y_train)))\n",
        "print('test score : {:.3f}'.format(lgb_model.score(X_test, y_test)))"
      ]
    },
    {
      "cell_type": "code",
      "execution_count": null,
      "metadata": {
        "colab": {
          "base_uri": "https://localhost:8080/",
          "height": 486
        },
        "id": "JhbL7PNZMs8Z",
        "outputId": "b3f2e3d2-9569-4a58-dc5c-eb2519cc3d4b"
      },
      "outputs": [],
      "source": [
        "from lightgbm import plot_importance\n",
        "fig, ax = plt.subplots(figsize = (10, 5))\n",
        "plot_importance(lgb_model, ax=ax)\n",
        "plt.show()"
      ]
    },
    {
      "attachments": {},
      "cell_type": "markdown",
      "metadata": {
        "id": "b35AyG1dMs8b"
      },
      "source": [
        "- XGBoost와 동일하게 plot_importance로 특성들의 유효성을 확인할 수 있다."
      ]
    },
    {
      "cell_type": "code",
      "execution_count": null,
      "metadata": {
        "colab": {
          "base_uri": "https://localhost:8080/"
        },
        "id": "M6giJOd7Ms8c",
        "outputId": "65af7dc8-d68e-4d76-a05d-047700011b0b"
      },
      "outputs": [],
      "source": [
        "from lightgbm import plot_tree\n",
        "fig, ax = plt.subplots(figsize = (15, 10))\n",
        "plot_tree(lgb_model, ax=ax)"
      ]
    },
    {
      "attachments": {},
      "cell_type": "markdown",
      "metadata": {
        "id": "d5n5t4iYMs8e"
      },
      "source": [
        "- plot_tree를 이용해서 LightGBM의 트리구조를 시각화할 수 있다."
      ]
    },
    {
      "cell_type": "code",
      "execution_count": null,
      "metadata": {
        "id": "WiYRUpXjMs8e"
      },
      "outputs": [],
      "source": [
        "from sklearn.datasets import load_wine\n",
        "\n",
        "wine = load_wine()\n",
        "\n",
        "X_train, X_test, y_train, y_test = train_test_split(wine.data, wine.target,\n",
        "                                                   test_size = 0.3, shuffle = True)"
      ]
    },
    {
      "cell_type": "code",
      "execution_count": null,
      "metadata": {
        "colab": {
          "base_uri": "https://localhost:8080/",
          "height": 52
        },
        "id": "sJn09p-OMs8g",
        "outputId": "8ae1ac60-6970-4e6d-fc24-0e8ae55da6f2"
      },
      "outputs": [],
      "source": [
        "lgb_model = lgb.LGBMClassifier(max_depth=3, n_estimators=100,\n",
        "                               learning_rate=0.01).fit(X_train, y_train)\n",
        "\n",
        "print('train score : {:.3f}'.format(lgb_model.score(X_train, y_train)))\n",
        "print('test score : {:.3f}'.format(lgb_model.score(X_test, y_test)))"
      ]
    },
    {
      "cell_type": "code",
      "execution_count": null,
      "metadata": {
        "colab": {
          "base_uri": "https://localhost:8080/",
          "height": 350
        },
        "id": "78ferLtOMs8i",
        "outputId": "8a876f15-e49c-4788-87a7-ada1b9d89cc3"
      },
      "outputs": [],
      "source": [
        "fig, ax = plt.subplots(figsize = (10, 5))\n",
        "plot_importance(lgb_model, ax=ax)\n",
        "plt.show()"
      ]
    },
    {
      "cell_type": "code",
      "execution_count": null,
      "metadata": {
        "colab": {
          "base_uri": "https://localhost:8080/",
          "height": 208
        },
        "id": "PoIgBOXwMs8k",
        "outputId": "17430d93-74ec-42d0-da53-961f782b8e42"
      },
      "outputs": [],
      "source": [
        "fig, ax = plt.subplots(figsize = (15, 10))\n",
        "plot_tree(lgb_model, ax=ax)\n",
        "plt.show()"
      ]
    },
    {
      "cell_type": "code",
      "execution_count": null,
      "metadata": {
        "id": "Ym-qpGX_Ms8m"
      },
      "outputs": [],
      "source": []
    }
  ],
  "metadata": {
    "colab": {
      "provenance": []
    },
    "kernelspec": {
      "display_name": "Python 3",
      "language": "python",
      "name": "python3"
    },
    "language_info": {
      "codemirror_mode": {
        "name": "ipython",
        "version": 3
      },
      "file_extension": ".py",
      "mimetype": "text/x-python",
      "name": "python",
      "nbconvert_exporter": "python",
      "pygments_lexer": "ipython3",
      "version": "3.7.4"
    }
  },
  "nbformat": 4,
  "nbformat_minor": 0
}
