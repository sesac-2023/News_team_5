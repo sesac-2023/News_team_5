{
  "cells": [
    {
      "attachments": {},
      "cell_type": "markdown",
      "metadata": {
        "id": "hcDpkPWlgLTM"
      },
      "source": [
        "CUDA 버전 확인하기\n",
        "\n",
        "- !nvidia-smi\n",
        "- !nvcc --version\n",
        "\n",
        "둘의 차이점은\n",
        "nvidia-smi는 해당 장치에서 설치 가능한 가장 높은 버전을 보여주고,\n",
        "nvcc --version은 현재 설치된 cuda 버전을 보여줌\n",
        "\n",
        "출처 : https://stackoverflow.com/questions/9727688/how-to-get-the-cuda-version"
      ]
    },
    {
      "cell_type": "code",
      "execution_count": null,
      "metadata": {
        "colab": {
          "base_uri": "https://localhost:8080/"
        },
        "id": "xBjhMOvSgAZH",
        "outputId": "fe58fe33-d3f7-4ef2-a5a3-b4d024e000ac"
      },
      "outputs": [],
      "source": [
        "!nvcc --version"
      ]
    },
    {
      "cell_type": "code",
      "execution_count": null,
      "metadata": {
        "colab": {
          "base_uri": "https://localhost:8080/"
        },
        "id": "ttqUGq2AgKk7",
        "outputId": "579efb17-5d8c-4ab8-abce-621b96ea01d0"
      },
      "outputs": [],
      "source": [
        "!nvidia-smi"
      ]
    },
    {
      "cell_type": "code",
      "execution_count": null,
      "metadata": {
        "colab": {
          "base_uri": "https://localhost:8080/"
        },
        "id": "epE_X6qbyoQ0",
        "outputId": "44d220c0-2f3e-45db-d4ef-703cdb692798"
      },
      "outputs": [],
      "source": [
        "# PyTorch 2.x 버전 설치\n",
        "try:\n",
        "    # 기본적으로 https://pytorch.kr/get-started/locally/ 에서\n",
        "    # cuda 버전과 패키지매니저에 맞는 설치 명령어를 확인 가능\n",
        "    # %pip install torch torchvision torchaudio --index-url https://download.pytorch.org/whl/cu118\n",
        "    import torch\n",
        "    print(torch.__version__)\n",
        "except:\n",
        "    pass"
      ]
    },
    {
      "cell_type": "code",
      "execution_count": null,
      "metadata": {
        "id": "Cxz1VK5-iQCJ"
      },
      "outputs": [],
      "source": [
        "# pytorch에서 사용할 함수들 호출하기\n",
        "import torch.nn as nn\n",
        "import torch.nn.functional as F\n",
        "import torch.optim as optim\n",
        "from torchvision import datasets, transforms\n",
        "from torch.optim.lr_scheduler import StepLR"
      ]
    },
    {
      "attachments": {},
      "cell_type": "markdown",
      "metadata": {
        "id": "dwr6-f65iUA_"
      },
      "source": [
        "----------------------------------------------------------\n",
        "\n",
        "# CNN 으로 이미지 분석하기"
      ]
    },
    {
      "attachments": {},
      "cell_type": "markdown",
      "metadata": {
        "id": "_gjojIGLhALq"
      },
      "source": [
        "## ****1. Mnist 데이터로 Convolution2D로 구현하기****"
      ]
    },
    {
      "cell_type": "code",
      "execution_count": null,
      "metadata": {
        "colab": {
          "base_uri": "https://localhost:8080/"
        },
        "id": "Z92u1WATiWRh",
        "outputId": "e57d2863-250f-4b0c-8def-52fee83a5b5d"
      },
      "outputs": [],
      "source": [
        "train_dataset = datasets.MNIST('./data', train=True, download=True)"
      ]
    },
    {
      "cell_type": "code",
      "execution_count": null,
      "metadata": {
        "colab": {
          "base_uri": "https://localhost:8080/",
          "height": 297
        },
        "id": "7Bpqxh_NiY43",
        "outputId": "787584c4-6edb-4020-ed8f-83a723f6c797"
      },
      "outputs": [],
      "source": [
        "train_dataset[10004][0].resize((280, 280))"
      ]
    },
    {
      "cell_type": "code",
      "execution_count": null,
      "metadata": {
        "colab": {
          "base_uri": "https://localhost:8080/",
          "height": 430
        },
        "id": "iAm3AJMei6hf",
        "outputId": "580dc142-3de2-4e2d-bdc5-af47b1b3d151"
      },
      "outputs": [],
      "source": [
        "from matplotlib import pyplot as plt\n",
        "\n",
        "plt.figure()\n",
        "plt.imshow(train_dataset[10004][0])\n",
        "plt.show()"
      ]
    },
    {
      "attachments": {},
      "cell_type": "markdown",
      "metadata": {
        "id": "_j4wVCEKkWRs"
      },
      "source": [
        "## 2. 이미지를 학습시키기 위한 처리\n",
        "\n",
        "1. ToTensor: 이미지를 학습이 가능하도록 숫자화한다. (Image, np,ndarray[W, H, C] -> tensor[C, H, W])\n",
        "https://pytorch.org/vision/stable/generated/torchvision.transforms.ToTensor.html\n",
        "\n",
        "2. Normalize: CNN 성능을 높이기 위한 처리 (채널별로 각각 다른 평균, 분산을 적용 가능하다.)\n",
        "https://pytorch.org/vision/main/generated/torchvision.transforms.Normalize.html"
      ]
    },
    {
      "cell_type": "code",
      "execution_count": null,
      "metadata": {
        "id": "o3SigPXvi_Yo"
      },
      "outputs": [],
      "source": [
        "# 이미지를 학습이 가능하도록 숫자화\n",
        "to_tensor = transforms.ToTensor()"
      ]
    },
    {
      "cell_type": "code",
      "execution_count": null,
      "metadata": {
        "id": "Z1w18alEjO8-"
      },
      "outputs": [],
      "source": [
        "image_tensor = to_tensor(train_dataset[10004][0])"
      ]
    },
    {
      "cell_type": "code",
      "execution_count": null,
      "metadata": {
        "colab": {
          "base_uri": "https://localhost:8080/"
        },
        "id": "_7pfI8SzjqMC",
        "outputId": "d3f8bdb1-f88c-4704-f8ba-3f083adfe436"
      },
      "outputs": [],
      "source": [
        "image_tensor.shape"
      ]
    },
    {
      "cell_type": "code",
      "execution_count": null,
      "metadata": {
        "id": "KXmXv3p8jj8J"
      },
      "outputs": [],
      "source": [
        "# 단일 채널이므로 하나의 채널에만 평균 0.1307, 분산 0.3081로 조정한다.\n",
        "normalizer = transforms.Normalize((0.1307,), (0.3081,))"
      ]
    },
    {
      "cell_type": "code",
      "execution_count": null,
      "metadata": {
        "id": "jBGZPgHtjVE9"
      },
      "outputs": [],
      "source": [
        "normalizer(image_tensor)"
      ]
    },
    {
      "attachments": {},
      "cell_type": "markdown",
      "metadata": {
        "id": "r1mnmqNIlGiP"
      },
      "source": [
        "알아서 적용할수는 없을까?\n",
        "\n",
        "-> 당연히 있다.\n",
        "\n",
        "transforms.Compose([  \n",
        "&nbsp;&nbsp;&nbsp;&nbsp;적용할 변형들  \n",
        "])"
      ]
    },
    {
      "cell_type": "code",
      "execution_count": null,
      "metadata": {
        "id": "wsFnL22AjsaE"
      },
      "outputs": [],
      "source": [
        "transform = transforms.Compose([\n",
        "    transforms.ToTensor(),\n",
        "    transforms.Normalize((0.1307, ), (0.3081, ))\n",
        "])"
      ]
    },
    {
      "cell_type": "code",
      "execution_count": null,
      "metadata": {
        "id": "MU2ALUS_m1Bg"
      },
      "outputs": [],
      "source": [
        "# train_dataset에 transform 적용\n",
        "train_dataset.transform = transform"
      ]
    },
    {
      "attachments": {},
      "cell_type": "markdown",
      "metadata": {
        "id": "zQH4gxM2l2sU"
      },
      "source": [
        "## DataLoader 생성\n",
        "\n",
        "- PyTorch는 모델을 학습시킬 때 batch_size만큼 데이터를 뽑아서 Dataset의 처리를 진행한 뒤 모델에 주입한다.\n",
        "- 지금은 Dataset을 커스텀하여 사용하지 않고 있지만, 이러한 처리를 DataLoader가 해준다는 것은 분명 큰 이점이다.\n",
        "- n_workers 옵션은 이를 병렬적으로 수행 가능하게 한다."
      ]
    },
    {
      "cell_type": "code",
      "execution_count": null,
      "metadata": {
        "id": "rggOE4WJlvLX"
      },
      "outputs": [],
      "source": [
        "train_loader = torch.utils.data.DataLoader(train_dataset, batch_size=32, shuffle=True)"
      ]
    },
    {
      "attachments": {},
      "cell_type": "markdown",
      "metadata": {
        "id": "gCkIon89m35X"
      },
      "source": [
        "## 모델 구축"
      ]
    },
    {
      "cell_type": "code",
      "execution_count": null,
      "metadata": {
        "id": "yRj49WjnlvA1"
      },
      "outputs": [],
      "source": [
        "class MyCNN(nn.Module):\n",
        "    def __init__(self):\n",
        "        super(MyCNN, self).__init__()\n",
        "\n",
        "        # self.name\n",
        "        self.model = nn.Sequential(\n",
        "            nn.Conv2d(1, 64, 3, 1),\n",
        "            nn.ReLU(True),\n",
        "            nn.MaxPool2d(2),\n",
        "            nn.Conv2d(64, 128, 3, 1),\n",
        "            nn.ReLU(True),\n",
        "            nn.MaxPool2d(2),\n",
        "            nn.Conv2d(128, 256, 3, 1),\n",
        "            nn.ReLU(True),\n",
        "            nn.Flatten(),\n",
        "\n",
        "            nn.Linear(2304, 32),\n",
        "            nn.ReLU(True),\n",
        "            nn.Linear(32, 10),\n",
        "        )\n",
        "\n",
        "    def forward(self, x):\n",
        "        output = self.model(x)\n",
        "        return output"
      ]
    },
    {
      "cell_type": "code",
      "execution_count": null,
      "metadata": {
        "id": "Ppb5lsgToreT"
      },
      "outputs": [],
      "source": [
        "cnn = MyCNN()"
      ]
    },
    {
      "cell_type": "code",
      "execution_count": null,
      "metadata": {
        "colab": {
          "base_uri": "https://localhost:8080/"
        },
        "id": "9KobaG09pV5D",
        "outputId": "f38709df-5edb-4816-aa72-5561ae92000e"
      },
      "outputs": [],
      "source": [
        "cnn"
      ]
    },
    {
      "cell_type": "code",
      "execution_count": null,
      "metadata": {
        "id": "th9sHn_VpmHm"
      },
      "outputs": [],
      "source": [
        "# 모델 학습을 위한 옵티마이저와 스케줄러 정의\n",
        "device = torch.device(\"cuda\") if torch.cuda.is_available() else torch.device(\"cpu\")\n",
        "cnn.to(device)\n",
        "\n",
        "# loss를 multiclass 분류에 적합한 loss인 cross entropy loss를 사용\n",
        "criterion = nn.CrossEntropyLoss().cuda()\n",
        "\n",
        "optimizer = optim.Adadelta(cnn.parameters(), lr=1.0)\n",
        "scheduler = StepLR(optimizer, step_size=1, gamma=0.7)"
      ]
    },
    {
      "cell_type": "code",
      "execution_count": null,
      "metadata": {
        "id": "J_igsgoOp_2W"
      },
      "outputs": [],
      "source": [
        "test_dataset = datasets.MNIST('./data', train=False, transform=transform)\n",
        "test_loader = torch.utils.data.DataLoader(test_dataset, batch_size=32)"
      ]
    },
    {
      "cell_type": "code",
      "execution_count": null,
      "metadata": {
        "colab": {
          "base_uri": "https://localhost:8080/"
        },
        "id": "JBOou4KEpvbf",
        "outputId": "edd83add-1fac-4dc1-d495-f2f1db888019"
      },
      "outputs": [],
      "source": [
        "# 모델 학습 (tensorflow는 fit 하나로 아래의 과정을 처리한다.)\n",
        "epochs = 10\n",
        "dry_run = False # 1 배치만 훈련\n",
        "\n",
        "for epoch in range(1, epochs+1):\n",
        "    # 학습\n",
        "    cnn.train()\n",
        "    for batch_idx, (data, target) in enumerate(train_loader):\n",
        "        data, target = data.to(device), target.to(device)\n",
        "        optimizer.zero_grad()\n",
        "        output = cnn(data)\n",
        "        loss = criterion(output, target)\n",
        "        loss.backward()\n",
        "        optimizer.step()\n",
        "        if batch_idx % 100 == 0:\n",
        "            print('Train Epoch: {} [{}/{} ({:.0f}%)]\\tLoss: {:.6f}'.format(\n",
        "                epoch, batch_idx * len(data), len(train_loader.dataset),\n",
        "                100. * batch_idx / len(train_loader), loss.item()))\n",
        "            if dry_run:\n",
        "                break\n",
        "\n",
        "    # 테스트\n",
        "    cnn.eval()\n",
        "    test_loss = 0\n",
        "    correct = 0\n",
        "    with torch.no_grad():\n",
        "        for data, target in test_loader:\n",
        "            data, target = data.to(device), target.to(device)\n",
        "            output = cnn(data)\n",
        "            test_loss += criterion(output, target).detach().sum()  # sum up batch loss\n",
        "            pred = output.argmax(dim=1, keepdim=True)  # get the index of the max log-probability\n",
        "            correct += pred.eq(target.view_as(pred)).sum().item()\n",
        "\n",
        "    test_loss /= len(test_loader.dataset)\n",
        "\n",
        "    print('\\nTest set: Average loss: {:.4f}, Accuracy: {}/{} ({:.0f}%)\\n'.format(\n",
        "        test_loss, correct, len(test_loader.dataset),\n",
        "        100. * correct / len(test_loader.dataset)))\n",
        "\n",
        "    scheduler.step()"
      ]
    },
    {
      "attachments": {},
      "cell_type": "markdown",
      "metadata": {
        "id": "9hjfbjFgRD_Q"
      },
      "source": [
        "### 모델의 구조를 이해해보자.  \n",
        "output shape : 피처맵의 크기 * 채널  \n",
        "param : weight의 개수"
      ]
    },
    {
      "cell_type": "code",
      "execution_count": null,
      "metadata": {
        "colab": {
          "base_uri": "https://localhost:8080/"
        },
        "id": "vuvhd8JimLD2",
        "outputId": "1f38d4dc-6517-4891-8ec3-c52fc30cc9da"
      },
      "outputs": [],
      "source": [
        "%pip install torchinfo\n",
        "from torchinfo import summary\n",
        "summary(cnn.model)\n",
        "\n",
        "# ouptut image의 크기는?\n",
        "# 가중치의 개수는?"
      ]
    },
    {
      "cell_type": "code",
      "execution_count": null,
      "metadata": {
        "colab": {
          "base_uri": "https://localhost:8080/"
        },
        "id": "5L6cxsi-WkAP",
        "outputId": "16183560-ae4e-4450-c2f9-1a898865af70"
      },
      "outputs": [],
      "source": [
        "(3*3*1+1)*64\n",
        "(3*3*64+1)*128\n",
        "(3*3*128+1)*256\n",
        "3*3*256\n",
        "(2304+1)*32\n",
        "(32+1)*10"
      ]
    },
    {
      "attachments": {},
      "cell_type": "markdown",
      "metadata": {
        "id": "plwI0ZU5qmTY"
      },
      "source": [
        "## ****2.cifar10 데이터로 Convolution2D로 구현해보기****"
      ]
    },
    {
      "cell_type": "code",
      "execution_count": null,
      "metadata": {
        "colab": {
          "base_uri": "https://localhost:8080/"
        },
        "id": "SdV8t4GOrdCk",
        "outputId": "986881c2-dd21-4c1f-9eb0-cd21c3748524"
      },
      "outputs": [],
      "source": [
        "transform = transforms.Compose(\n",
        "    [transforms.ToTensor(),\n",
        "     transforms.Normalize((0.5, 0.5, 0.5), (0.5, 0.5, 0.5))])\n",
        "\n",
        "batch_size = 32\n",
        "\n",
        "train_dataset = datasets.CIFAR10(root='./data', train=True,\n",
        "                                        download=True, transform=transform)\n",
        "trainloader = torch.utils.data.DataLoader(train_dataset, batch_size=batch_size,\n",
        "                                          shuffle=True, num_workers=2)\n",
        "\n",
        "test_dataset = datasets.CIFAR10(root='./data', train=False,\n",
        "                                       download=True, transform=transform)\n",
        "testloader = torch.utils.data.DataLoader(test_dataset, batch_size=batch_size,\n",
        "                                         shuffle=False, num_workers=2)\n",
        "\n",
        "classes = ('plane', 'car', 'bird', 'cat', 'deer',\n",
        "           'dog', 'frog', 'horse', 'ship', 'truck')"
      ]
    },
    {
      "cell_type": "code",
      "execution_count": null,
      "metadata": {
        "colab": {
          "base_uri": "https://localhost:8080/"
        },
        "id": "53B-1KPgsttr",
        "outputId": "7c181a97-d516-48c6-9ad9-2914e7cf269b"
      },
      "outputs": [],
      "source": [
        "train_dataset[0][0].shape"
      ]
    },
    {
      "cell_type": "code",
      "execution_count": null,
      "metadata": {
        "id": "OqVFzO87tgVU"
      },
      "outputs": [],
      "source": [
        "# 역정규화\n",
        "denormalize = transforms.Compose([\n",
        "     transforms.Normalize((0., 0., 0.), (1/0.5, 1/0.5, 1/0.5)),\n",
        "     transforms.Normalize((-0.5, -0.5, -0.5), (1., 1., 1.)),\n",
        "     ])"
      ]
    },
    {
      "cell_type": "code",
      "execution_count": null,
      "metadata": {
        "id": "xz0LGJectU70"
      },
      "outputs": [],
      "source": [
        "i = 5\n",
        "denormalize(train_dataset[i][0])"
      ]
    },
    {
      "cell_type": "code",
      "execution_count": null,
      "metadata": {
        "colab": {
          "base_uri": "https://localhost:8080/",
          "height": 1000
        },
        "id": "ZD9ok0qsrtZj",
        "outputId": "574e3d0e-d137-4b1a-f77a-7dc3406d208b"
      },
      "outputs": [],
      "source": [
        "plt.figure(figsize=(20,20))\n",
        "for i in range(100):\n",
        "    plt.subplot(10,10,i+1)\n",
        "    plt.xticks([])\n",
        "    plt.yticks([])\n",
        "    plt.imshow(denormalize(train_dataset[i][0]).permute(1, 2, 0)) # C, W, H -> W, H, C\n",
        "    plt.xlabel(classes[train_dataset[i][1]])\n",
        "plt.show()"
      ]
    },
    {
      "cell_type": "code",
      "execution_count": null,
      "metadata": {
        "id": "OorNQT1NvrzM"
      },
      "outputs": [],
      "source": []
    },
    {
      "cell_type": "code",
      "execution_count": null,
      "metadata": {
        "id": "bggFDpoZsKmd"
      },
      "outputs": [],
      "source": [
        "class MyCNN(nn.Module):\n",
        "    def __init__(self):\n",
        "        super(MyCNN, self).__init__()\n",
        "\n",
        "        # self.name\n",
        "        # 각 이미지의 크기는 어떻게 변할까?\n",
        "        self.convolution = nn.Sequential(\n",
        "            nn.Conv2d(3, 64, 3, 1),\n",
        "            nn.ReLU(),\n",
        "            nn.MaxPool2d(2),\n",
        "            nn.Conv2d(64, 128, 3, 1),\n",
        "            nn.ReLU(),\n",
        "            nn.MaxPool2d(2),\n",
        "            nn.Conv2d(128, 256, 3, 1),\n",
        "            nn.ReLU(),)\n",
        "        # 30 30 64\n",
        "        # 15 15 64\n",
        "        # 13 13 128\n",
        "        # 6 6 128\n",
        "        # 4 4 256\n",
        "\n",
        "        self.fully_connected = nn.Sequential(\n",
        "            nn.Linear(4096, 128),\n",
        "            nn.ReLU(),\n",
        "            nn.Linear(128, 10),\n",
        "        )\n",
        "\n",
        "    def forward(self, x):\n",
        "        x = self.convolution(x)\n",
        "        x = torch.flatten(x, 1)\n",
        "        output = self.fully_connected(x)\n",
        "        return output"
      ]
    },
    {
      "cell_type": "code",
      "execution_count": null,
      "metadata": {
        "id": "O-FWEwoMv7ei"
      },
      "outputs": [],
      "source": [
        "model = MyCNN()"
      ]
    },
    {
      "cell_type": "code",
      "execution_count": null,
      "metadata": {
        "colab": {
          "base_uri": "https://localhost:8080/"
        },
        "id": "FsZ0KudKv9vw",
        "outputId": "7e6beabf-9f31-4b9c-cb91-6b4a7e2af730"
      },
      "outputs": [],
      "source": [
        "model"
      ]
    },
    {
      "cell_type": "code",
      "execution_count": null,
      "metadata": {
        "colab": {
          "base_uri": "https://localhost:8080/"
        },
        "id": "U3ffXM64wAJW",
        "outputId": "2ff602a1-ef43-4371-8338-d4a8e266356c"
      },
      "outputs": [],
      "source": [
        "from torchinfo import summary\n",
        "summary(model)"
      ]
    },
    {
      "cell_type": "code",
      "execution_count": null,
      "metadata": {
        "id": "z2qhHSdwwDfd"
      },
      "outputs": [],
      "source": [
        "# 모델 학습을 위한 옵티마이저와 스케줄러 정의\n",
        "device = torch.device(\"cuda\") if torch.cuda.is_available() else torch.device(\"cpu\")\n",
        "model.to(device)\n",
        "\n",
        "criterion = nn.CrossEntropyLoss().cuda()\n",
        "\n",
        "optimizer = optim.Adadelta(model.parameters(), lr=1.0)\n",
        "scheduler = StepLR(optimizer, step_size=1, gamma=0.7)"
      ]
    },
    {
      "cell_type": "code",
      "execution_count": null,
      "metadata": {
        "colab": {
          "base_uri": "https://localhost:8080/"
        },
        "id": "YBLId1UrwTG-",
        "outputId": "e9107627-706f-46e1-96c4-c232712590f6"
      },
      "outputs": [],
      "source": [
        "# 모델 학습 (tensorflow는 fit 하나로 아래의 과정을 처리한다.)\n",
        "epochs = 10\n",
        "dry_run = False # 1 배치만 훈련\n",
        "\n",
        "for epoch in range(1, epochs+1):\n",
        "    # 학습\n",
        "    model.train()\n",
        "    for batch_idx, (data, target) in enumerate(trainloader):\n",
        "        data, target = data.to(device), target.to(device)\n",
        "        optimizer.zero_grad()\n",
        "        output = model(data)\n",
        "        loss = criterion(output, target)\n",
        "        loss.backward()\n",
        "        optimizer.step()\n",
        "        if batch_idx % 100 == 0:\n",
        "            print('Train Epoch: {} [{}/{} ({:.0f}%)]\\tLoss: {:.6f}'.format(\n",
        "                epoch, batch_idx * len(data), len(trainloader.dataset),\n",
        "                100. * batch_idx / len(trainloader), loss.item()))\n",
        "            if dry_run:\n",
        "                break\n",
        "\n",
        "    # 테스트\n",
        "    model.eval()\n",
        "    test_loss = 0\n",
        "    correct = 0\n",
        "    with torch.no_grad():\n",
        "        for data, target in testloader:\n",
        "            data, target = data.to(device), target.to(device)\n",
        "            output = model(data)\n",
        "            test_loss += criterion(output, target).detach().sum()  # sum up batch loss\n",
        "            pred = output.argmax(dim=1, keepdim=True)  # get the index of the max log-probability\n",
        "            correct += pred.eq(target.view_as(pred)).sum().item()\n",
        "\n",
        "    test_loss /= len(testloader.dataset)\n",
        "\n",
        "    print('\\nTest set: Average loss: {:.4f}, Accuracy: {}/{} ({:.0f}%)\\n'.format(\n",
        "        test_loss, correct, len(testloader.dataset),\n",
        "        100. * correct / len(testloader.dataset)))\n",
        "\n",
        "    scheduler.step()"
      ]
    },
    {
      "cell_type": "code",
      "execution_count": null,
      "metadata": {
        "id": "SX7GDka1wVk0"
      },
      "outputs": [],
      "source": []
    },
    {
      "attachments": {},
      "cell_type": "markdown",
      "metadata": {
        "id": "XzluHCQCipXm"
      },
      "source": [
        "### CNN 응용모델들\n",
        "\n",
        "https://pytorch.org/vision/stable/models.html"
      ]
    },
    {
      "cell_type": "code",
      "execution_count": null,
      "metadata": {
        "colab": {
          "base_uri": "https://localhost:8080/"
        },
        "id": "4bWY0yV_w7aZ",
        "outputId": "7283d12a-e132-4683-a786-521b4c1bb18f"
      },
      "outputs": [],
      "source": [
        "import torchvision.models as tc_models\n",
        "print(dir(tc_models))"
      ]
    },
    {
      "cell_type": "code",
      "execution_count": null,
      "metadata": {
        "id": "FQLRAnHryCxj"
      },
      "outputs": [],
      "source": [
        "resnet = tc_models.resnet50(weights=\"IMAGENET1K_V2\")"
      ]
    },
    {
      "cell_type": "code",
      "execution_count": null,
      "metadata": {
        "id": "yeJjeMF4yKu-"
      },
      "outputs": [],
      "source": [
        "resnet"
      ]
    },
    {
      "cell_type": "code",
      "execution_count": null,
      "metadata": {
        "id": "JC0a9FqxyZUZ"
      },
      "outputs": [],
      "source": [
        "resnet = tc_models.resnet50(weights=None)"
      ]
    },
    {
      "cell_type": "code",
      "execution_count": null,
      "metadata": {
        "id": "WN75b0Lnycs8"
      },
      "outputs": [],
      "source": []
    },
    {
      "cell_type": "code",
      "execution_count": null,
      "metadata": {
        "colab": {
          "base_uri": "https://localhost:8080/"
        },
        "id": "SaDUyuPAxmFA",
        "outputId": "ab8168e7-bf39-46d4-a0ad-1a86d1daa2e9"
      },
      "outputs": [],
      "source": [
        "import torch\n",
        "\n",
        "# Option 1: passing weights param as string\n",
        "model = torch.hub.load(\"pytorch/vision\", \"resnet50\", weights=\"IMAGENET1K_V2\")\n",
        "\n",
        "# # Option 2: passing weights param as enum\n",
        "# weights = torch.hub.load(\"pytorch/vision\", \"get_weight\", weights=\"ResNet50_Weights.IMAGENET1K_V2\")\n",
        "# model = torch.hub.load(\"pytorch/vision\", \"resnet50\", weights=weights)"
      ]
    },
    {
      "cell_type": "code",
      "execution_count": null,
      "metadata": {
        "id": "FYnQFWrLlAHT"
      },
      "outputs": [],
      "source": []
    }
  ],
  "metadata": {
    "accelerator": "GPU",
    "colab": {
      "provenance": []
    },
    "kernelspec": {
      "display_name": "Python 3",
      "name": "python3"
    }
  },
  "nbformat": 4,
  "nbformat_minor": 0
}
