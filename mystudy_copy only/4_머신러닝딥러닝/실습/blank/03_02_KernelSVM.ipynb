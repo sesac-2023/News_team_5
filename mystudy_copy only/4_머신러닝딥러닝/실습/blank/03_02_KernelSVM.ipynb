{
  "cells": [
    {
      "cell_type": "code",
      "execution_count": null,
      "metadata": {
        "id": "h7Y4o0p-qvx4"
      },
      "outputs": [],
      "source": [
        "# colab 한글깨짐 해결위한 폰트 설치\n",
        "\n",
        "!sudo apt-get install -y fonts-nanum\n",
        "!sudo fc-cache -fv\n",
        "!rm ~/.cache/matplotlib -rf\n",
        "\n",
        "# 런타임 재시작 !"
      ]
    },
    {
      "attachments": {},
      "cell_type": "markdown",
      "metadata": {
        "id": "YZKZ7pWWuxTD"
      },
      "source": [
        "# 2. KernelSVM (커널 서포트 벡터 머신)"
      ]
    },
    {
      "cell_type": "code",
      "execution_count": null,
      "metadata": {
        "id": "tQdYM08PuxTF"
      },
      "outputs": [],
      "source": [
        "# matplotlib과 관련된 모듈을 미리 선언\n",
        "import matplotlib.pyplot as plt\n",
        "plt.rc('font', family='NanumBarunGothic')\n",
        "plt.rcParams['axes.unicode_minus'] = False\n",
        "\n",
        "import warnings\n",
        "warnings.filterwarnings('ignore')\n",
        "import numpy as np"
      ]
    },
    {
      "cell_type": "code",
      "execution_count": null,
      "metadata": {
        "colab": {
          "base_uri": "https://localhost:8080/",
          "height": 445
        },
        "id": "3E2homd_uxTu",
        "outputId": "b13e8704-4ba8-4074-a1ea-507fe7171ff7"
      },
      "outputs": [],
      "source": [
        "from sklearn.datasets import make_moons\n",
        "\n",
        "X, y = make_moons(n_samples = 400, noise = 0.25, random_state = 42)\n",
        "plt.figure(figsize = (10, 5))\n",
        "plt.scatter(X[:, 0], X[:, 1], c = y)\n",
        "plt.show()"
      ]
    },
    {
      "attachments": {},
      "cell_type": "markdown",
      "metadata": {
        "id": "iCLsLAXsuxUC"
      },
      "source": [
        "make_moons는 초승달 모양을 가진 2개의 클러스터를 가진 데이터를 생성해준다.\n",
        "  - noise : 잡음의 크기를 설정한다. 0으로 설정하면 정확한 반원이 생성된다.\n",
        "  - 직선을 사용하여 분리하는게 어렵다."
      ]
    },
    {
      "cell_type": "code",
      "execution_count": null,
      "metadata": {
        "colab": {
          "base_uri": "https://localhost:8080/"
        },
        "id": "C-WunuF9uxUN",
        "outputId": "8b935402-ddf7-4949-abbf-a6ae81ce4c3b"
      },
      "outputs": [],
      "source": [
        "from sklearn.model_selection import train_test_split\n",
        "from sklearn.svm import SVC\n",
        "# 여기서는 매개변수로 커널을 변경할 수 있는 SVC를 사용하겠다.\n",
        "\n",
        "X_train, X_test, y_train, y_test = train_test_split(X, y, test_size = 0.2, shuffle = True)\n",
        "\n",
        "linear_svc = SVC(kernel = 'linear', C = 1).fit(X_train, y_train)\n",
        "\n",
        "print('train score : {:.3f}'.format(linear_svc.score(X_train, y_train)))\n",
        "print('test score : {:.3f}'.format(linear_svc.score(X_test, y_test)))"
      ]
    },
    {
      "cell_type": "code",
      "execution_count": null,
      "metadata": {
        "id": "S-gXFocjuxUc"
      },
      "outputs": [],
      "source": [
        "def draw_contour(model, X, y):\n",
        "    x_min, x_max, y_min, y_max = -2, 3, -1.5, 2\n",
        "    X_grid, Y_grid = np.meshgrid(np.arange(x_min, x_max, 0.01),\n",
        "                                np.arange(y_min, y_max, 0.01))\n",
        "    pred_grid = model.predict(np.array([X_grid.ravel(), Y_grid.ravel()]).T)\n",
        "    Z = np.reshape(pred_grid, X_grid.shape)\n",
        "\n",
        "    plt.figure(figsize = (10, 5))\n",
        "    plt.contourf(X_grid, Y_grid, Z, alpha=0.3)\n",
        "    plt.scatter(X[y == 1, 0],\n",
        "                X[y == 1, 1], c = 'b')\n",
        "    plt.scatter(X[y == 0, 0],\n",
        "                X[y == 0, 1], c = 'r')\n",
        "    plt.show()"
      ]
    },
    {
      "attachments": {},
      "cell_type": "markdown",
      "metadata": {
        "id": "gKJ1eHJeuxVP"
      },
      "source": [
        "-------- 부가 설명 ----------"
      ]
    },
    {
      "cell_type": "code",
      "execution_count": null,
      "metadata": {
        "colab": {
          "base_uri": "https://localhost:8080/"
        },
        "id": "6bOZAQ70uxVV",
        "outputId": "56743934-db16-4aa5-be99-44de1ee2fbb8",
        "scrolled": true
      },
      "outputs": [],
      "source": [
        "x_min, x_max, y_min, y_max = -3, 3, -3, 3\n",
        "X_grid, Y_grid = np.meshgrid(np.arange(x_min, x_max, 0.01),\n",
        "                            np.arange(y_min, y_max, 0.01))\n",
        "print('grid의 shape : {}\\n\\n'.format(X_grid.shape))\n",
        "print('grid의 값 : \\n\\n{}'.format(X_grid))"
      ]
    },
    {
      "cell_type": "code",
      "execution_count": null,
      "metadata": {
        "colab": {
          "base_uri": "https://localhost:8080/"
        },
        "id": "xkTawqvEuxVv",
        "outputId": "54b07842-4aca-4472-9021-9e0bb32c02b8"
      },
      "outputs": [],
      "source": [
        "# flatten : ravel()\n",
        "x = np.array([[[1,2,3]],[[4,5,6]]])\n",
        "x"
      ]
    },
    {
      "cell_type": "code",
      "execution_count": null,
      "metadata": {
        "colab": {
          "base_uri": "https://localhost:8080/"
        },
        "id": "jLvu06mYuxWH",
        "outputId": "9185f566-39f9-47e8-ebfb-a144e8b38477"
      },
      "outputs": [],
      "source": [
        "print('행렬 x를 ravel() 한 결과 : {}'.format(x.ravel())) # matrix를 vector화 한다."
      ]
    },
    {
      "cell_type": "code",
      "execution_count": null,
      "metadata": {
        "colab": {
          "base_uri": "https://localhost:8080/"
        },
        "id": "EAhb0i6YuxWa",
        "outputId": "f15d94cf-b0b6-4503-9b58-556e91b1d059"
      },
      "outputs": [],
      "source": [
        "print('X_grid를 ravel() 한 결과의 shape : {}\\n\\n'.format(X_grid.ravel().shape))\n",
        "print('X_grid를 ravel() 한 결과 값 : {}'.format(X_grid.ravel()))"
      ]
    },
    {
      "cell_type": "code",
      "execution_count": null,
      "metadata": {
        "colab": {
          "base_uri": "https://localhost:8080/"
        },
        "id": "8OeKHbJKuxW1",
        "outputId": "fa04763a-6710-44cd-8871-a4f5db4093f1"
      },
      "outputs": [],
      "source": [
        "x, y = [1,2,3], [10,20,30]\n",
        "print(x, y)"
      ]
    },
    {
      "cell_type": "code",
      "execution_count": null,
      "metadata": {
        "colab": {
          "base_uri": "https://localhost:8080/"
        },
        "id": "djZnnqZYuxXH",
        "outputId": "392d6b33-6f60-4d68-84d4-dce13248646b"
      },
      "outputs": [],
      "source": [
        "print(np.array([x, y]))"
      ]
    },
    {
      "cell_type": "code",
      "execution_count": null,
      "metadata": {
        "colab": {
          "base_uri": "https://localhost:8080/"
        },
        "id": "qQKsVFwJuxXg",
        "outputId": "4c1b5b5b-07c8-4326-95c1-8dcd63e86361",
        "scrolled": true
      },
      "outputs": [],
      "source": [
        "print(np.array([x, y]).T)\n",
        "# np.array().T는 전치행렬을 실행한다. 열과 행을 바꿔준다."
      ]
    },
    {
      "attachments": {},
      "cell_type": "markdown",
      "metadata": {
        "id": "AjC6wmzJuxYA"
      },
      "source": [
        "-----설명 끝 -----"
      ]
    },
    {
      "attachments": {},
      "cell_type": "markdown",
      "metadata": {
        "id": "x-2c6loVuxYB"
      },
      "source": [
        "3차원을 시각화하는 방법에는 등고선으로 표현하는 방법이 있다.\n",
        "  - contour : 등고선만 그려준다.\n",
        "  - contourf : 등고선에다 색까지 칠해준다.\n",
        "  입력변수들을 그대로 사용할 수는 없고 meshgrid 명령으로 그리드 포인트 행렬을 만들어 줘야 한다.\n",
        "  meshgrid를 많이 그려줄수록 시간은 오래 걸리게 된다."
      ]
    },
    {
      "cell_type": "code",
      "execution_count": null,
      "metadata": {
        "colab": {
          "base_uri": "https://localhost:8080/",
          "height": 445
        },
        "id": "ykwnCXejuxYH",
        "outputId": "91c4ca3e-d394-4479-f757-6a026ec00ad3"
      },
      "outputs": [],
      "source": [
        "draw_contour(linear_svc, X_train, y_train)"
      ]
    },
    {
      "attachments": {},
      "cell_type": "markdown",
      "metadata": {
        "id": "abmUc8_yuxYW"
      },
      "source": [
        "선형모델로 분류를 해본 결과."
      ]
    },
    {
      "attachments": {},
      "cell_type": "markdown",
      "metadata": {
        "id": "4jVLEkgnuxYY"
      },
      "source": [
        "그 어떤 cost 함수를 사용해도 선형 SVM으로는 분류가 불가능할 때, 커널 SVM은 커널 트릭이라 불리는 데이터 처리 방법을 사용해서 데이터를 분류할 수 있다."
      ]
    },
    {
      "attachments": {},
      "cell_type": "markdown",
      "metadata": {
        "id": "ge7iNRLvuxYa"
      },
      "source": [
        "### 매개변수 kernel을 변경해보면서 결과를 확인해보자."
      ]
    },
    {
      "attachments": {},
      "cell_type": "markdown",
      "metadata": {
        "id": "l-NDMBLxuxYm"
      },
      "source": [
        "#### 다차항 커널"
      ]
    },
    {
      "cell_type": "code",
      "execution_count": null,
      "metadata": {
        "colab": {
          "base_uri": "https://localhost:8080/"
        },
        "id": "6yMu20aFuxYo",
        "outputId": "4b8fcd24-fad5-4976-8cc1-0fd7d14a19a8"
      },
      "outputs": [],
      "source": [
        "poly_svc = SVC(kernel = 'poly', C = 1, degree = 3,\n",
        "               coef0 = 1, gamma = 1).fit(X_train, y_train)\n",
        "\n",
        "print('train score : {:.3f}'.format(poly_svc.score(X_train, y_train)))\n",
        "print('test score : {:.3f}'.format(poly_svc.score(X_test, y_test)))"
      ]
    },
    {
      "attachments": {},
      "cell_type": "markdown",
      "metadata": {
        "id": "ANKStChMuxYx"
      },
      "source": [
        "poly는 다항식 커널을 말한다.  \n",
        "poly로 설정할 때에는 degree차수를 지정할 수 있다, 기본값은 3이다.  \n",
        "coef0은 높은 차수와 낮은 차수에 얼마나 영향을 받을지 조절할 수 있다. (다항식 커널의 상수항 r을 나타낸다.)  \n",
        "\n",
        "\n",
        "Q. degree가 하는 역할은 무엇일까?  \n",
        "  - Linear SVC의 boundary와 polynomial의 boundary가 degree(차수)에 따라 어떻게 다른지 확인해보자.\n",
        "  "
      ]
    },
    {
      "cell_type": "code",
      "execution_count": null,
      "metadata": {
        "colab": {
          "base_uri": "https://localhost:8080/",
          "height": 445
        },
        "id": "nHIaaymDuxYy",
        "outputId": "cdb5912e-02b0-4290-8861-c276b50ace8a"
      },
      "outputs": [],
      "source": [
        "# degree = 3, coef0 = 1, C = 1\n",
        "draw_contour(poly_svc, X_train, y_train)"
      ]
    },
    {
      "cell_type": "code",
      "execution_count": null,
      "metadata": {
        "colab": {
          "base_uri": "https://localhost:8080/"
        },
        "id": "KI4v7cxAuxY7",
        "outputId": "65c70f09-fc33-4b93-8164-dd14c49cc2d8"
      },
      "outputs": [],
      "source": [
        "poly_svc_d20 = SVC(kernel = 'poly', C = 1, degree = 20,\n",
        "               coef0 = 1, gamma = 1).fit(X_train, y_train)\n",
        "\n",
        "print('train score : {:.3f}'.format(poly_svc_d20.score(X_train, y_train)))\n",
        "print('test score : {:.3f}'.format(poly_svc_d20.score(X_test, y_test)))"
      ]
    },
    {
      "cell_type": "code",
      "execution_count": null,
      "metadata": {
        "colab": {
          "base_uri": "https://localhost:8080/",
          "height": 445
        },
        "id": "zAecANXZuxZF",
        "outputId": "ca5a529e-4a72-43f5-8273-d6dd28300bfc"
      },
      "outputs": [],
      "source": [
        "# degree = 20, coef0 = 1, C = 1\n",
        "draw_contour(poly_svc_d20, X_train, y_train)"
      ]
    },
    {
      "attachments": {},
      "cell_type": "markdown",
      "metadata": {
        "id": "TFKiMKpruxZW"
      },
      "source": [
        "모델이 과적합상태라면 차수를 줄여보자."
      ]
    },
    {
      "cell_type": "code",
      "execution_count": null,
      "metadata": {
        "id": "AJ5nclU_uxZY"
      },
      "outputs": [],
      "source": [
        "poly_svc_r100 = SVC(kernel = 'poly', C = 1, degree = 20,\n",
        "               coef0 = 50, gamma = 1).fit(X_train, y_train)\n",
        "\n",
        "print('train score : {:.3f}'.format(poly_svc_r100.score(X_train, y_train)))\n",
        "print('test score : {:.3f}'.format(poly_svc_r100.score(X_test, y_test)))"
      ]
    },
    {
      "cell_type": "code",
      "execution_count": null,
      "metadata": {
        "id": "dwPlFqkduxZp"
      },
      "outputs": [],
      "source": [
        "# degree = 20, coef0 = 50, C = 1\n",
        "draw_contour(poly_svc_r100, X_train, y_train)"
      ]
    },
    {
      "attachments": {},
      "cell_type": "markdown",
      "metadata": {
        "id": "HypWTrk2uxZw"
      },
      "source": [
        "coef0을 100으로 주었더니 고차항의 영향을 많이 받게된다 적절한 coef0의 값을 찾는것도 중요하다."
      ]
    },
    {
      "attachments": {},
      "cell_type": "markdown",
      "metadata": {
        "id": "D03NjMV9uxZy"
      },
      "source": [
        "#### 가우시안 RBF 커널"
      ]
    },
    {
      "cell_type": "code",
      "execution_count": null,
      "metadata": {
        "colab": {
          "base_uri": "https://localhost:8080/",
          "height": 52
        },
        "id": "QF79k0mDuxZz",
        "outputId": "2ab5d6ab-7315-4041-dc05-0cfffe2b5317"
      },
      "outputs": [],
      "source": [
        "rbf_svc = SVC(kernel = 'rbf', C = 1, gamma = 1).fit(X_train, y_train)\n",
        "\n",
        "print('train score : {:.3f}'.format(rbf_svc.score(X_train, y_train)))\n",
        "print('test score : {:.3f}'.format(rbf_svc.score(X_test, y_test)))"
      ]
    },
    {
      "cell_type": "code",
      "execution_count": null,
      "metadata": {
        "colab": {
          "base_uri": "https://localhost:8080/",
          "height": 320
        },
        "id": "-4ChEhJEuxaG",
        "outputId": "6f10a0b9-7cbc-4616-8aa9-924155481d38"
      },
      "outputs": [],
      "source": [
        "draw_contour(rbf_svc, X_train, y_train)"
      ]
    },
    {
      "attachments": {},
      "cell_type": "markdown",
      "metadata": {
        "id": "hnhIP0pQuxaP"
      },
      "source": [
        "gamma 매개변수는 가우시안 커널 폭의 역수로 하나의 훈련 샘플이 미치는 영향의 범위를 결정한다. \n",
        "\n",
        "작은 값은 넓은 영역, 큰 값은 영향이 미치는 영역이 좁아진다. C와 gamma를 함께 조정해주는 것이 좋다."
      ]
    },
    {
      "cell_type": "code",
      "execution_count": null,
      "metadata": {
        "colab": {
          "base_uri": "https://localhost:8080/",
          "height": 52
        },
        "id": "Dy1SmPQvuxaS",
        "outputId": "2984ece2-d5f8-4ade-f6e9-24215e0d0fac"
      },
      "outputs": [],
      "source": [
        "rbf_svc_g100 = SVC(kernel = 'rbf', C = 1, gamma = 100).fit(X_train, y_train)\n",
        "\n",
        "print('train score : {:.3f}'.format(rbf_svc_g100.score(X_train, y_train)))\n",
        "print('test score : {:.3f}'.format(rbf_svc_g100.score(X_test, y_test)))"
      ]
    },
    {
      "cell_type": "code",
      "execution_count": null,
      "metadata": {
        "colab": {
          "base_uri": "https://localhost:8080/",
          "height": 320
        },
        "id": "BUh9s_GHuxab",
        "outputId": "daac9bdb-b855-451e-c5a4-3dd44756867c"
      },
      "outputs": [],
      "source": [
        "draw_contour(rbf_svc_g100, X_train, y_train)"
      ]
    },
    {
      "cell_type": "code",
      "execution_count": null,
      "metadata": {
        "colab": {
          "base_uri": "https://localhost:8080/",
          "height": 52
        },
        "id": "Syxq05Xouxal",
        "outputId": "6575a893-c9b6-4468-f807-ff09f2379cf7"
      },
      "outputs": [],
      "source": [
        "rbf_svc_g001 = SVC(kernel = 'rbf', C = 1, gamma = 0.01).fit(X_train, y_train)\n",
        "\n",
        "print('train score : {:.3f}'.format(rbf_svc_g001.score(X_train, y_train)))\n",
        "print('test score : {:.3f}'.format(rbf_svc_g001.score(X_test, y_test)))"
      ]
    },
    {
      "cell_type": "code",
      "execution_count": null,
      "metadata": {
        "colab": {
          "base_uri": "https://localhost:8080/",
          "height": 320
        },
        "id": "2S2sNK2puxa1",
        "outputId": "c1a02da9-ca74-4157-b26a-77e70c12b225"
      },
      "outputs": [],
      "source": [
        "draw_contour(rbf_svc_g001, X_train, y_train)"
      ]
    },
    {
      "cell_type": "code",
      "execution_count": null,
      "metadata": {
        "colab": {
          "base_uri": "https://localhost:8080/",
          "height": 52
        },
        "id": "MBrnewa4uxa-",
        "outputId": "63913a5b-b14d-402b-a576-31618b31fec2"
      },
      "outputs": [],
      "source": [
        "rbf_svc_c001 = SVC(kernel = 'rbf', C = 0.1, gamma = 50).fit(X_train, y_train)\n",
        "\n",
        "print('train score : {:.3f}'.format(rbf_svc_c001.score(X_train, y_train)))\n",
        "print('test score : {:.3f}'.format(rbf_svc_c001.score(X_test, y_test)))"
      ]
    },
    {
      "cell_type": "code",
      "execution_count": null,
      "metadata": {
        "colab": {
          "base_uri": "https://localhost:8080/",
          "height": 320
        },
        "id": "ijIzqqbMuxey",
        "outputId": "88388071-5977-43a3-b415-6ddd85e1791a"
      },
      "outputs": [],
      "source": [
        "draw_contour(rbf_svc_c001, X_train, y_train)"
      ]
    },
    {
      "attachments": {},
      "cell_type": "markdown",
      "metadata": {
        "id": "g3u98Qxuuxe5"
      },
      "source": [
        "커널 서포트 벡터 머신은 다양한 데이터셋에서 잘 작동한다. 특성이 적어도, 많아도 잘 작동하지만 데이터수가 많을 때와는 맞지 않다. 그리고 데이터의 전처리와 매개변수 설정에 신경을 많이 써야 한다. 특히 SVM모델은 분석하기도 어려워 예측이 어떻게 결정되었는지 이해하기 어려우며 모델을 설명하기가 힘들다.\n",
        "\n",
        "모든 특성이 비슷한 단위이며 스케일도 비슷하다면 SVM을 써볼만 하다."
      ]
    },
    {
      "attachments": {},
      "cell_type": "markdown",
      "metadata": {
        "id": "kZvHNGD7uxe6"
      },
      "source": [
        "사이킷런에서 제공하는 olivetti_faces를 이용하여 실습해보자."
      ]
    },
    {
      "attachments": {},
      "cell_type": "markdown",
      "metadata": {
        "id": "k4JyRt2Guxe6"
      },
      "source": [
        "olivetti_faces는 40명의 얼굴사진이 총 400장이 있다.\n",
        "이미지에는 다른 조건에서 찍은 사진들이다. (빛이나 얼굴표정 각도등이 다르다.)"
      ]
    },
    {
      "cell_type": "code",
      "execution_count": null,
      "metadata": {
        "colab": {
          "base_uri": "https://localhost:8080/",
          "height": 846
        },
        "id": "mKdLJVXUuxe7",
        "outputId": "7d974ecd-79e8-4fe2-c687-477a28070227"
      },
      "outputs": [],
      "source": [
        "from sklearn.datasets import fetch_olivetti_faces\n",
        "faces = fetch_olivetti_faces()\n",
        "print(faces.DESCR)"
      ]
    },
    {
      "cell_type": "code",
      "execution_count": null,
      "metadata": {
        "colab": {
          "base_uri": "https://localhost:8080/",
          "height": 34
        },
        "id": "Na1xwqxuuxfX",
        "outputId": "fc777511-03c8-4f62-9ccf-df56c4a8ab15"
      },
      "outputs": [],
      "source": [
        "faces.images.shape\n",
        "# 464 x 64의 픽셀을 가진 사진이 400장이 있다."
      ]
    },
    {
      "cell_type": "code",
      "execution_count": null,
      "metadata": {
        "colab": {
          "base_uri": "https://localhost:8080/",
          "height": 34
        },
        "id": "ZF4Ykd-Uuxff",
        "outputId": "7907c69b-9192-454b-cebe-fd5e84a268b6"
      },
      "outputs": [],
      "source": [
        "faces.data.shape\n",
        "# data는 400장의 사진에대한 픽셀 배열들이 들어있다."
      ]
    },
    {
      "cell_type": "code",
      "execution_count": null,
      "metadata": {
        "colab": {
          "base_uri": "https://localhost:8080/",
          "height": 246
        },
        "id": "WBZGgtDwuxfm",
        "outputId": "b566da10-6855-4a64-c349-d503cafe2393"
      },
      "outputs": [],
      "source": [
        "faces.data"
      ]
    },
    {
      "cell_type": "code",
      "execution_count": null,
      "metadata": {
        "colab": {
          "base_uri": "https://localhost:8080/",
          "height": 34
        },
        "id": "OFWTt9CNuxfs",
        "outputId": "7c91428b-c4ce-4b50-c071-409c1700c347"
      },
      "outputs": [],
      "source": [
        "faces.target.shape\n",
        "# 0 ~ 39 까지"
      ]
    },
    {
      "cell_type": "code",
      "execution_count": null,
      "metadata": {
        "colab": {
          "base_uri": "https://localhost:8080/",
          "height": 439
        },
        "id": "s92pMRXHuxfy",
        "outputId": "98d6d675-2392-4099-c558-731dfe25a2c7",
        "scrolled": true
      },
      "outputs": [],
      "source": [
        "faces.target"
      ]
    },
    {
      "cell_type": "code",
      "execution_count": null,
      "metadata": {
        "id": "Pa1F9Gk-uxf4"
      },
      "outputs": [],
      "source": [
        "from sklearn.svm import SVC\n",
        "from sklearn.model_selection import train_test_split\n",
        "\n",
        "X_train, X_test, y_train, y_test = train_test_split(faces.data, faces.target,\n",
        "                                                   test_size = 0.3, shuffle = True)\n",
        "\n",
        "# svc = SVC(kernel = 'rbf', C = 1, gamma = 1).fit(X_train, y_train)\n",
        "svc = SVC(kernel='linear').fit(X_train, y_train)"
      ]
    },
    {
      "cell_type": "code",
      "execution_count": null,
      "metadata": {
        "colab": {
          "base_uri": "https://localhost:8080/",
          "height": 34
        },
        "id": "mgqzv5TGuxgC",
        "outputId": "dd9fdfbe-b325-4bf0-98c3-d6d3ad3dd826"
      },
      "outputs": [],
      "source": [
        "svc.score(X_test, y_test)"
      ]
    },
    {
      "cell_type": "code",
      "execution_count": null,
      "metadata": {
        "colab": {
          "base_uri": "https://localhost:8080/",
          "height": 158
        },
        "id": "youUY_mcuxgL",
        "outputId": "7769d497-6e35-4e52-aa86-b3371e357a9d"
      },
      "outputs": [],
      "source": [
        "svc.predict(X_test)"
      ]
    },
    {
      "cell_type": "code",
      "execution_count": null,
      "metadata": {
        "colab": {
          "base_uri": "https://localhost:8080/",
          "height": 970
        },
        "id": "1kdFHJRUuxgT",
        "outputId": "5cddae55-ee84-4023-e681-fdb60c2fd1ea"
      },
      "outputs": [],
      "source": [
        "N = 10\n",
        "M = 6\n",
        "np.random.seed(4)\n",
        "fig = plt.figure(figsize=(15, 15))\n",
        "plt.subplots_adjust(top=1, bottom=0, hspace=0, wspace=0.05)\n",
        "klist = np.random.choice(range(len(y_test)), N * M)\n",
        "for i in range(N):\n",
        "    for j in range(M):\n",
        "        k = klist[i * M + j]\n",
        "        ax = fig.add_subplot(N, M, i * M + j + 1)\n",
        "        ax.imshow(X_test[k:(k + 1), :].reshape(64, 64), cmap=plt.cm.bone)\n",
        "        ax.grid(False)\n",
        "        ax.xaxis.set_ticks([])\n",
        "        ax.yaxis.set_ticks([])\n",
        "        plt.title(\"결과 : {}\".format(y_test[k] == svc.predict(X_test[k:(k + 1), :])[0]))\n",
        "plt.tight_layout()\n",
        "plt.show()"
      ]
    },
    {
      "cell_type": "code",
      "execution_count": null,
      "metadata": {
        "id": "_t4hfDPNuxgZ"
      },
      "outputs": [],
      "source": []
    }
  ],
  "metadata": {
    "colab": {
      "provenance": []
    },
    "kernelspec": {
      "display_name": "Python 3",
      "language": "python",
      "name": "python3"
    },
    "language_info": {
      "codemirror_mode": {
        "name": "ipython",
        "version": 3
      },
      "file_extension": ".py",
      "mimetype": "text/x-python",
      "name": "python",
      "nbconvert_exporter": "python",
      "pygments_lexer": "ipython3",
      "version": "3.7.4"
    }
  },
  "nbformat": 4,
  "nbformat_minor": 0
}
