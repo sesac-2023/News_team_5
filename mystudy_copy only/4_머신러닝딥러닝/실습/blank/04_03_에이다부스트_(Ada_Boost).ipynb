{
  "cells": [
    {
      "cell_type": "code",
      "execution_count": null,
      "metadata": {
        "id": "epmNbIXBx96N"
      },
      "outputs": [],
      "source": [
        "# Colab 한글 깨짐 해결 위한 폰트 설치\n",
        "!sudo apt-get install -y fonts-nanum\n",
        "!sudo fc-cache -fv\n",
        "!rm ~/.cache/matplotlib -rf\n",
        "\n",
        "# 런타임 재시작 !"
      ]
    },
    {
      "cell_type": "code",
      "execution_count": null,
      "metadata": {
        "id": "w4BE0fRLxdve"
      },
      "outputs": [],
      "source": [
        "# matplotlib 설정\n",
        "import matplotlib.pyplot as plt\n",
        "%matplotlib inline\n",
        "plt.rc('font', family='NanumBarunGothic')\n",
        "plt.rcParams['axes.unicode_minus'] = False\n",
        "\n",
        "import warnings\n",
        "warnings.filterwarnings('ignore')\n",
        "\n",
        "import numpy as np"
      ]
    },
    {
      "attachments": {},
      "cell_type": "markdown",
      "metadata": {
        "id": "_YhEAUVsxdvi"
      },
      "source": [
        "# Ada Boost"
      ]
    },
    {
      "cell_type": "code",
      "execution_count": null,
      "metadata": {
        "id": "B9VuMixCxdvj"
      },
      "outputs": [],
      "source": [
        "from sklearn.ensemble import AdaBoostClassifier\n",
        "from sklearn.datasets import load_iris\n",
        "from sklearn.model_selection import train_test_split\n",
        "\n",
        "iris = load_iris()\n",
        "\n",
        "X_train, X_test, y_train, y_test = train_test_split(iris.data[:, :2], iris.target,\n",
        "                                                   test_size = 0.3,\n",
        "                                                   shuffle = True)"
      ]
    },
    {
      "cell_type": "code",
      "execution_count": null,
      "metadata": {
        "id": "--3N39Nmxdvl"
      },
      "outputs": [],
      "source": [
        "model_ada = AdaBoostClassifier(n_estimators=9, algorithm='SAMME.R',\n",
        "                              learning_rate=0.5).fit(X_train, y_train)"
      ]
    },
    {
      "attachments": {},
      "cell_type": "markdown",
      "metadata": {
        "id": "Vt79JATtxdvn"
      },
      "source": [
        "#### 에이다 부스트의 파라미터\n",
        "  - base_estimator : 모델을 정해주는 파라미터이다. 값을 지정해주지 않으면 기본값으로 DecisionTreeClassifier(max_depth=1)로 설정된다.\n",
        "  - learning_rate : 이전 트리의 오차를 얼마나 강하게 보정할 것인지를 설정한다. 클수록 보정을 강하게 한다, 기본값은 1.0"
      ]
    },
    {
      "attachments": {},
      "cell_type": "markdown",
      "metadata": {
        "id": "s6JR92_hxdvo"
      },
      "source": [
        "- algorithm : 사이킷런에서 제공하는 에이다 부스트는 SAMME(Stagewise Additive Modeling using a Multiclass Exponential loss function)이라는 알고리즘으로 구현되어 있다. 기본값은 SAMME.R(R은 Real) 이다.\n",
        "  - SAMME는 AdaBoost와 알고리즘은 유사하다. 다만 n번째 모델의 가중치를 구하는 부분만 AdaBoost와 다른 수식을 가진다. 만약 클래스의 수가 2인 이중 분류의 경우에는 SAMME는 AdaBoost와 동일한 알고리즘이 된다. SAMME.R은 모델의 예측값을 이용하는게 아니라 클래스의 확률을 기반으로 한다."
      ]
    },
    {
      "cell_type": "code",
      "execution_count": null,
      "metadata": {
        "colab": {
          "base_uri": "https://localhost:8080/"
        },
        "id": "_em-7Bqjxdvp",
        "outputId": "9ff431f4-408a-4d91-85c5-9d25d0c8b3e8"
      },
      "outputs": [],
      "source": [
        "model_ada.estimators_"
      ]
    },
    {
      "attachments": {},
      "cell_type": "markdown",
      "metadata": {
        "id": "gYt0AW7dxdvt"
      },
      "source": [
        "- 랜덤 포레스트와 같이 에이다 부스트의 예측기들은 estimators_에 저장된다."
      ]
    },
    {
      "cell_type": "code",
      "execution_count": null,
      "metadata": {
        "id": "Ne305GHexdvu"
      },
      "outputs": [],
      "source": [
        "def draw_border(model, X, y, contour=True):\n",
        "    xmin = X[:, 0].min()\n",
        "    xmax = X[:, 0].max()\n",
        "    ymin = X[:, 1].min()\n",
        "    ymax = X[:, 1].max()\n",
        "    xminmax = np.arange(xmin, xmax, .02)\n",
        "    yminmax = np.arange(ymin, ymax, .02)\n",
        "    X1, X2 = np.meshgrid(xminmax, yminmax)\n",
        "    X_pred = np.c_[X1.ravel(), X2.ravel()]\n",
        "    Z = model.predict(X_pred).reshape(X1.shape)\n",
        "    plt.contourf(X1, X2, Z, alpha=0.3)\n",
        "    plt.plot(X[:, 0][y==0], X[:, 1][y==0], \"ro\", alpha=0.5) # 클래스 0에 해당하는 X값 표시\n",
        "    plt.plot(X[:, 0][y==1], X[:, 1][y==1], \"bs\", alpha=0.5) # 클래스 1에 해당하는 X값 표시\n",
        "    plt.plot(X[:, 0][y==2], X[:, 1][y==2], \"g^\", alpha=0.5) # 클래스 2에 해당하는 X값 표시\n",
        "    plt.xlim([xmin, xmax])\n",
        "    plt.ylim([ymin, ymax])"
      ]
    },
    {
      "cell_type": "code",
      "execution_count": null,
      "metadata": {
        "colab": {
          "base_uri": "https://localhost:8080/",
          "height": 1000
        },
        "id": "HOYo8RFhxdvw",
        "outputId": "e184d07c-5dde-490e-fd77-25b27abc4d00"
      },
      "outputs": [],
      "source": [
        "plt.figure(figsize = (30, 20))\n",
        "\n",
        "plt.subplot(3,3,1)\n",
        "plt.title(\"1번 예측기\")\n",
        "draw_border(model_ada.estimators_[0], X_train, y_train)\n",
        "\n",
        "plt.subplot(3,3,2)\n",
        "plt.title(\"2번 예측기\")\n",
        "draw_border(model_ada.estimators_[1], X_train, y_train)\n",
        "\n",
        "plt.subplot(3,3,3)\n",
        "plt.title(\"3번 예측기\")\n",
        "draw_border(model_ada.estimators_[2], X_train, y_train)\n",
        "\n",
        "plt.subplot(3,3,4)\n",
        "plt.title(\"4번 예측기\")\n",
        "draw_border(model_ada.estimators_[3], X_train, y_train)\n",
        "\n",
        "plt.subplot(3,3,5)\n",
        "plt.title(\"5번 예측기\")\n",
        "draw_border(model_ada.estimators_[4], X_train, y_train)\n",
        "\n",
        "plt.subplot(3,3,6)\n",
        "plt.title(\"6번 예측기\")\n",
        "draw_border(model_ada.estimators_[5], X_train, y_train)\n",
        "\n",
        "plt.subplot(3,3,7)\n",
        "plt.title(\"7번 예측기\")\n",
        "draw_border(model_ada.estimators_[6], X_train, y_train)\n",
        "\n",
        "plt.subplot(3,3,8)\n",
        "plt.title(\"8번 예측기\")\n",
        "draw_border(model_ada.estimators_[7], X_train, y_train)\n",
        "\n",
        "plt.subplot(3,3,9)\n",
        "plt.title(\"에이다 부스트\")\n",
        "draw_border(model_ada, X_train, y_train)"
      ]
    },
    {
      "attachments": {},
      "cell_type": "markdown",
      "metadata": {
        "id": "oaqTwNICxdvy"
      },
      "source": [
        "- 에이다 부스트는 깊이가 1인 결정트리를 사용한다. 깊이가 1이기 때문에 경계선이 하나만 표시 되어있다. 앙상블된 모델역시 경계선이 단순하게 그려져있다."
      ]
    },
    {
      "cell_type": "code",
      "execution_count": null,
      "metadata": {
        "colab": {
          "base_uri": "https://localhost:8080/"
        },
        "id": "V6hMzO_Lxdvz",
        "outputId": "d5f2ee09-f3d5-4595-9b36-ee5ee9be5d4b",
        "scrolled": true
      },
      "outputs": [],
      "source": [
        "model_ada.predict_proba(X_test)"
      ]
    },
    {
      "attachments": {},
      "cell_type": "markdown",
      "metadata": {
        "id": "oaDnCFiLxdv1"
      },
      "source": [
        "- algorithm이 SAMME.R인 경우에는 predict_proba를 이용해 각 클래스의 확률을 알 수 있다."
      ]
    },
    {
      "cell_type": "code",
      "execution_count": null,
      "metadata": {
        "colab": {
          "base_uri": "https://localhost:8080/"
        },
        "id": "UfQ20PMdxdv1",
        "outputId": "29c5df37-8c38-404e-c6de-1ac88e0c1037"
      },
      "outputs": [],
      "source": [
        "model_ada.predict(X_test)"
      ]
    },
    {
      "attachments": {},
      "cell_type": "markdown",
      "metadata": {
        "id": "uu2CUjwLxdv4"
      },
      "source": [
        "- 예측 결과와 클래스의 확률을 비교해보자."
      ]
    },
    {
      "cell_type": "code",
      "execution_count": null,
      "metadata": {
        "colab": {
          "base_uri": "https://localhost:8080/"
        },
        "id": "ki3rHZ7sxdv5",
        "outputId": "e4786533-5246-45bc-a76d-86d299e208d5"
      },
      "outputs": [],
      "source": [
        "print('SAMME.R의 train score : {}'.format(model_ada.score(X_train, y_train)))\n",
        "print('SAMME.R의 test score : {}'.format(model_ada.score(X_test, y_test)))"
      ]
    },
    {
      "cell_type": "code",
      "execution_count": null,
      "metadata": {
        "id": "5hfMdPUOxdv8"
      },
      "outputs": [],
      "source": [
        "ada_samme = AdaBoostClassifier(n_estimators=9, algorithm='SAMME',\n",
        "                              learning_rate=0.5).fit(X_train, y_train)"
      ]
    },
    {
      "cell_type": "code",
      "execution_count": null,
      "metadata": {
        "colab": {
          "base_uri": "https://localhost:8080/",
          "height": 1000
        },
        "id": "HanfKhgrxdv9",
        "outputId": "2e2f3b49-c49f-4e02-9efd-5751e6ed6ad3"
      },
      "outputs": [],
      "source": [
        "plt.figure(figsize = (30, 20))\n",
        "\n",
        "plt.subplot(3,3,1)\n",
        "plt.title(\"1번 예측기\")\n",
        "draw_border(ada_samme.estimators_[0], X_train, y_train)\n",
        "\n",
        "plt.subplot(3,3,2)\n",
        "plt.title(\"2번 예측기\")\n",
        "draw_border(ada_samme.estimators_[1], X_train, y_train)\n",
        "\n",
        "plt.subplot(3,3,3)\n",
        "plt.title(\"3번 예측기\")\n",
        "draw_border(ada_samme.estimators_[2], X_train, y_train)\n",
        "\n",
        "plt.subplot(3,3,4)\n",
        "plt.title(\"4번 예측기\")\n",
        "draw_border(ada_samme.estimators_[3], X_train, y_train)\n",
        "\n",
        "plt.subplot(3,3,5)\n",
        "plt.title(\"5번 예측기\")\n",
        "draw_border(ada_samme.estimators_[4], X_train, y_train)\n",
        "\n",
        "plt.subplot(3,3,6)\n",
        "plt.title(\"6번 예측기\")\n",
        "draw_border(ada_samme.estimators_[5], X_train, y_train)\n",
        "\n",
        "plt.subplot(3,3,7)\n",
        "plt.title(\"7번 예측기\")\n",
        "draw_border(ada_samme.estimators_[6], X_train, y_train)\n",
        "\n",
        "plt.subplot(3,3,8)\n",
        "plt.title(\"8번 예측기\")\n",
        "draw_border(ada_samme.estimators_[7], X_train, y_train)\n",
        "\n",
        "plt.subplot(3,3,9)\n",
        "plt.title(\"에이다 부스트\")\n",
        "draw_border(ada_samme, X_train, y_train)"
      ]
    },
    {
      "cell_type": "code",
      "execution_count": null,
      "metadata": {
        "colab": {
          "base_uri": "https://localhost:8080/"
        },
        "id": "b5NzZ1KFxdwA",
        "outputId": "8a781a83-2190-4f77-a073-cfdb3aa1c133"
      },
      "outputs": [],
      "source": [
        "print('SAMME의 train score : {}'.format(ada_samme.score(X_train, y_train)))\n",
        "print('SAMME의 test score : {}'.format(ada_samme.score(X_test, y_test)))"
      ]
    },
    {
      "attachments": {},
      "cell_type": "markdown",
      "metadata": {
        "id": "bye_9YixxdwC"
      },
      "source": [
        "- SAMME보다는 SAMME.R을 이용한 에이다부스트 모델이 성능이 더 높게 나오는 것을 확인할 수 있다."
      ]
    },
    {
      "cell_type": "code",
      "execution_count": null,
      "metadata": {
        "id": "FeQSNkM7xdwC"
      },
      "outputs": [],
      "source": [
        "from sklearn.datasets import load_breast_cancer\n",
        "from sklearn.ensemble import RandomForestClassifier\n",
        "\n",
        "cancer = load_breast_cancer()\n",
        "\n",
        "X_train, X_test, y_train, y_test = train_test_split(cancer.data, cancer.target,\n",
        "                                                   test_size = 0.2,\n",
        "                                                   shuffle = True)\n",
        "\n",
        "randf = RandomForestClassifier(n_estimators=50, random_state=42).fit(X_train, y_train)\n",
        "\n",
        "ada = AdaBoostClassifier(n_estimators=50, learning_rate=0.5).fit(X_train, y_train)"
      ]
    },
    {
      "cell_type": "code",
      "execution_count": null,
      "metadata": {
        "colab": {
          "base_uri": "https://localhost:8080/"
        },
        "id": "_5NxYqYExdwE",
        "outputId": "a9cf8563-5de8-48ae-f34c-98778933cf32"
      },
      "outputs": [],
      "source": [
        "randf.feature_importances_"
      ]
    },
    {
      "cell_type": "code",
      "execution_count": null,
      "metadata": {
        "colab": {
          "base_uri": "https://localhost:8080/"
        },
        "id": "TWKZEhbRxdwH",
        "outputId": "8e167112-d31e-4041-82ae-5e11d6de5912"
      },
      "outputs": [],
      "source": [
        "ada.feature_importances_"
      ]
    },
    {
      "cell_type": "code",
      "execution_count": null,
      "metadata": {
        "colab": {
          "base_uri": "https://localhost:8080/",
          "height": 830
        },
        "id": "If5loz_GxdwJ",
        "outputId": "36443716-347e-4c85-9906-672f511f5d2f"
      },
      "outputs": [],
      "source": [
        "plt.figure(figsize = (10,10))\n",
        "X = np.arange(cancer.data.shape[1])\n",
        "Y1 = randf.feature_importances_\n",
        "Y2 = ada.feature_importances_\n",
        "plt.barh(X, Y1)\n",
        "plt.barh(X, -Y2)\n",
        "plt.yticks(X, cancer.feature_names)\n",
        "plt.ylim(-1, cancer.data.shape[1])\n",
        "plt.legend(['랜덤포레스트', '에이다 부스트'])\n",
        "plt.show()"
      ]
    },
    {
      "attachments": {},
      "cell_type": "markdown",
      "metadata": {
        "id": "LFtzCcfexdwO"
      },
      "source": [
        "- 에이다 부스트와 랜덤포레스트의 특성 중요도를 비교해 보았다.\n",
        "- 0의 값을 가진 특성들도 있고 다른 모델에서는 중요하게 생각하지 않은 특성을 오히려 중요하게 보는 경우도 있다."
      ]
    },
    {
      "cell_type": "code",
      "execution_count": null,
      "metadata": {
        "id": "uPa1wU_BxdwP"
      },
      "outputs": [],
      "source": []
    }
  ],
  "metadata": {
    "colab": {
      "provenance": []
    },
    "kernelspec": {
      "display_name": "Python 3",
      "language": "python",
      "name": "python3"
    },
    "language_info": {
      "codemirror_mode": {
        "name": "ipython",
        "version": 3
      },
      "file_extension": ".py",
      "mimetype": "text/x-python",
      "name": "python",
      "nbconvert_exporter": "python",
      "pygments_lexer": "ipython3",
      "version": "3.7.4"
    }
  },
  "nbformat": 4,
  "nbformat_minor": 0
}
